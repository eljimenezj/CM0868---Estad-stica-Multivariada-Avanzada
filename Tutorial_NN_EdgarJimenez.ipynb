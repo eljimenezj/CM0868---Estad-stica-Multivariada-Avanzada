{
  "nbformat": 4,
  "nbformat_minor": 0,
  "metadata": {
    "colab": {
      "name": "Tutorial_NN_EdgarJimenez.ipynb",
      "provenance": [],
      "authorship_tag": "ABX9TyNvC3rQGmAU7Le38R1hs3TW",
      "include_colab_link": true
    },
    "kernelspec": {
      "name": "python3",
      "display_name": "Python 3"
    }
  },
  "cells": [
    {
      "cell_type": "markdown",
      "metadata": {
        "id": "view-in-github",
        "colab_type": "text"
      },
      "source": [
        "<a href=\"https://colab.research.google.com/github/eljimenezj/CM0868--Estadistica-Multivariada-Avanzada/blob/master/Tutorial_NN_EdgarJimenez.ipynb\" target=\"_parent\"><img src=\"https://colab.research.google.com/assets/colab-badge.svg\" alt=\"Open In Colab\"/></a>"
      ]
    },
    {
      "cell_type": "markdown",
      "metadata": {
        "id": "LeTy9YJmim0K",
        "colab_type": "text"
      },
      "source": [
        "# Una introducción a las redes neuronales para principiantes\n",
        "\n",
        "A continuación se presenta una introducciónn para el uso de redes neuronales artificiales. Esto libro hace parte de actividades evaluativas del curso de Estadistica Multivariada Avanzanda de la Maestría de Ciencia de Datos de la universidad EAFIT.\n",
        "\n",
        "Este trabajo es presentado por\n",
        "* **Edgar Leandro Jimenez Jaimes** - *eljimenezj@eafit.edu.co*\n",
        "\n",
        "\n"
      ]
    },
    {
      "cell_type": "markdown",
      "metadata": {
        "id": "FXdgTAltjYhi",
        "colab_type": "text"
      },
      "source": [
        "Nota: Este tutorial y código fue realizado a partir de (implementación en español):\n",
        "\n",
        "An introduction to neural networks for beginners - By Dr Andy Thomas "
      ]
    },
    {
      "cell_type": "markdown",
      "metadata": {
        "id": "7zF043CGkjJl",
        "colab_type": "text"
      },
      "source": [
        "# Parte 1 -  Introduccción a las redes neuronales.\n",
        "\n",
        "## 1.1- ¿Que son las redes neuronales?\n",
        "\n",
        "Las redes neuronales artificiales (ANN) son implementaciones computacionales que emulan la estructura neuronal de nuestros cerebros. No necesitamos hablar sobre la compleja biología de nuestras estructuras cerebrales, pero basta con decir que el cerebro contiene neuronas que son como interruptores orgánicos. Estos pueden cambiar su estado de salida dependiendo de la fuerza de su entrada eléctrica o química. La red neuronal en el cerebro de una persona es una red de neuronas enormemente interconectadas, donde la salida de cualquier neurona dada **puede** ser la entrada a miles de otras neuronas. El aprendizaje ocurre activando repetidamente ciertas conexiones neuronales sobre otras, y esto refuerza esas conexiones. Esto los hace más propensos a producir un resultado deseado dada una entrada específica. Este aprendizaje implica retroalimentación: cuando se produce el resultado deseado, las conexiones neuronales que causan ese resultado se fortalecen.\n",
        "\n",
        "Las redes neuronales artificiales intentan simplificar e imitar este comportamiento cerebral. Pueden ser entrenados de manera supervisada o no supervisión. En una ANN supervisada, la red se entrena proporcionando muestras de datos de entrada y salida coincidentes, con la intención de hacer que la ANN proporcione una salida deseada para una entrada dada.\n",
        "\n",
        "El aprendizaje no supervisado en un ANN es un intento de lograr que el ANN \"entienda\" la estructura de los datos de entrada proporcionados \"por sí mismos\". Este tipo de ANN no se discutirá en este libro."
      ]
    },
    {
      "cell_type": "markdown",
      "metadata": {
        "id": "cgZ0eSJ0mMd0",
        "colab_type": "text"
      },
      "source": [
        "## 1.2- Estructura de una red neuronal\n",
        "\n",
        "### 1.2.1- La neurona artificial\n",
        "\n",
        "La neurona biológica se simula en un ANN mediante una función de activación. En las tareas de clasificación (por ejemplo, identificación de correos electrónicos no deseados), esta función de activación debe tener una característica de \"encendido\"; en otras palabras, una vez que la entrada es mayor que un cierto valor, la salida debe cambiar de estado, es decir, de 0 a 1, 1 a 1 o de 0 hacia > 0. Esto simula el \"encendido\" de una neurona biológica. Una función de activación común que se utiliza es la función sigmoidea:\n",
        "\n",
        "$$f(z)=\\frac{1}{1+e^{-z}}$$\n"
      ]
    },
    {
      "cell_type": "code",
      "metadata": {
        "id": "kM-oPMVKjXdG",
        "colab_type": "code",
        "outputId": "0f8b9498-e1ec-4e38-cc20-38331df045ee",
        "colab": {
          "base_uri": "https://localhost:8080/",
          "height": 278
        }
      },
      "source": [
        "import matplotlib.pylab as plt\n",
        "import numpy as np\n",
        "x = np.arange(-8, 8, 0.1)\n",
        "f = 1 / (1 + np.exp(-x))\n",
        "plt.plot(x, f)\n",
        "plt.xlabel('x')\n",
        "plt.ylabel('f(x)')\n",
        "plt.show()"
      ],
      "execution_count": 1,
      "outputs": [
        {
          "output_type": "display_data",
          "data": {
            "image/png": "[encoded data removed]",
            "text/plain": [
              "<Figure size 432x288 with 1 Axes>"
            ]
          },
          "metadata": {
            "tags": [],
            "needs_background": "light"
          }
        }
      ]
    },
    {
      "cell_type": "markdown",
      "metadata": {
        "id": "uWvaP6zbv_g8",
        "colab_type": "text"
      },
      "source": [
        "### 1.2.2 - Nodos\n",
        "\n",
        "Como se mencionó anteriormente, las neuronas biológicas son redes jerárquicas conectadas, y las salidas de algunas neuronas son las entradas a otras. Podemos representar estas redes como capas conectadas de nodos. Cada nodo toma múltiples entradas ponderadas, aplica la función de activación a la suma de estas entradas y, al hacerlo, genera una salida. \n",
        "\n",
        "¿Qué pasa con esta idea de \"peso\" que se ha mencionado? Los pesos son números de valor real (es decir, no binarios 1s o 0s), que se multiplican por las entradas y luego se suman en el nodo. En otras palabras, la entrada ponderada al nodo anterior sería:\n",
        "\n",
        "$$ x_1 w_1 + x_2 w_2 + x_3 w_3 + b  $$\n",
        "\n",
        "Aquí los valores $w_i$ son pesos (ignore el $b$ por el momento). ¿De qué se tratan estos pesos? Bueno, son las variables que se cambian durante el proceso de aprendizaje y, junto con la entrada, determinan la salida del nodo. El $b$ es el peso del elemento de sesgo +1: la inclusión de este sesgo mejora la flexibilidad del nodo, que se demuestra mejor en un ejemplo."
      ]
    },
    {
      "cell_type": "markdown",
      "metadata": {
        "id": "qay4l9Z_v_zC",
        "colab_type": "text"
      },
      "source": [
        "### 1.2.3 - El bias\n",
        "\n",
        "La entrada a la función de activación del nodo en este caso es simplemente $x_1 w_1 $.  ¿Qué significa cambiar $w_1$ en una red simple?"
      ]
    },
    {
      "cell_type": "code",
      "metadata": {
        "id": "9EZkSSlyv-J0",
        "colab_type": "code",
        "outputId": "15e7a5c0-cdb3-467d-bf7b-ad6866927151",
        "colab": {
          "base_uri": "https://localhost:8080/",
          "height": 278
        }
      },
      "source": [
        "w1 = 0.5\n",
        "w2 = 1.0\n",
        "w3 = 2.0\n",
        "l1 = 'w = 0.5'\n",
        "l2 = 'w = 1.0'\n",
        "l3 = 'w = 2.0'\n",
        "\n",
        "for w, l in [(w1, l1), (w2, l2), (w3, l3)]:\n",
        "    f = 1 / (1 + np.exp(-x*w))\n",
        "    plt.plot(x, f, label=l)\n",
        "    \n",
        "plt.xlabel('x')\n",
        "plt.ylabel('h_w(x)')\n",
        "plt.legend(loc=2)\n",
        "plt.show()"
      ],
      "execution_count": 2,
      "outputs": [
        {
          "output_type": "display_data",
          "data": {
            "image/png": "[encoded data removed]",
            "text/plain": [
              "<Figure size 432x288 with 1 Axes>"
            ]
          },
          "metadata": {
            "tags": [],
            "needs_background": "light"
          }
        }
      ]
    },
    {
      "cell_type": "markdown",
      "metadata": {
        "id": "1pKCQpq5zoDR",
        "colab_type": "text"
      },
      "source": [
        "Aquí podemos ver que cambiar el peso cambia la pendiente de la salida de la función de activación sigmoidea, lo que obviamente es útil si queremos modelar diferentes fuerzas de las relaciones entre las variables de entrada y salida. Sin embargo, ¿qué sucede si solo queremos que la salida cambie cuando x es mayor que 1? Aquí es donde entra el sesgo: consideremos la misma red con una entrada de sesgo:"
      ]
    },
    {
      "cell_type": "code",
      "metadata": {
        "id": "6m2wcjV4iU3Q",
        "colab_type": "code",
        "outputId": "2f6f764b-59c1-4aee-b2fe-58d8ce8980e0",
        "colab": {
          "base_uri": "https://localhost:8080/",
          "height": 278
        }
      },
      "source": [
        "w = 5.0\n",
        "b1 = -8.0\n",
        "b2 = 0.0\n",
        "b3 = 8.0\n",
        "l1 = 'b = -8.0'\n",
        "l2 = 'b = 0.0'\n",
        "l3 = 'b = 8.0'\n",
        "\n",
        "for b, l in [(b1, l1), (b2, l2), (b3, l3)]:\n",
        "    f = 1 / (1 + np.exp(-(x*w+b)))\n",
        "    plt.plot(x, f, label=l)\n",
        "\n",
        "plt.xlabel('x')\n",
        "plt.ylabel('h_wb(x)')\n",
        "plt.legend(loc=2)\n",
        "plt.show()"
      ],
      "execution_count": 3,
      "outputs": [
        {
          "output_type": "display_data",
          "data": {
            "image/png": "[encoded data removed]",
            "text/plain": [
              "<Figure size 432x288 with 1 Axes>"
            ]
          },
          "metadata": {
            "tags": [],
            "needs_background": "light"
          }
        }
      ]
    },
    {
      "cell_type": "markdown",
      "metadata": {
        "id": "fch8zbUD0I2O",
        "colab_type": "text"
      },
      "source": [
        "En este caso, $w_1$ se ha aumentado para simular una función de \"encendido\" más definida. Como puede ver, al variar el sesgo \"peso\" $b$, puede cambiar cuándo se activa el nodo. Por lo tanto, al agregar un término de sesgo, puede hacer que el nodo simule una función if genérica, es decir, si $(x> z)$ entonces 1 más 0. Sin un término de sesgo, no puede variar la $z$ en esa declaración `if`, lo hará estar siempre atorado alrededor de 0. Obviamente, esto es muy útil si está tratando de simular relaciones condicionales."
      ]
    },
    {
      "cell_type": "markdown",
      "metadata": {
        "id": "_NtXQ0c01ulr",
        "colab_type": "text"
      },
      "source": [
        "## 1.3- El paso hacia adelanta (The Feed-Forward pass)"
      ]
    },
    {
      "cell_type": "markdown",
      "metadata": {
        "id": "OFmkUxUN1urW",
        "colab_type": "text"
      },
      "source": [
        "### 1.3.1 Un ejemplo de retroalimentación\n"
      ]
    },
    {
      "cell_type": "code",
      "metadata": {
        "id": "1kemd9p30k25",
        "colab_type": "code",
        "colab": {}
      },
      "source": [
        "import numpy as np\n",
        "w1 = np.array([[0.2, 0.2, 0.2], [0.4, 0.4, 0.4], [0.6, 0.6, 0.6]])"
      ],
      "execution_count": 0,
      "outputs": []
    },
    {
      "cell_type": "code",
      "metadata": {
        "id": "Vy1p_krqYBql",
        "colab_type": "code",
        "colab": {}
      },
      "source": [
        "w2 = np.zeros((1, 3))\n",
        "w2[0,:] = np.array([0.5, 0.5, 0.5])"
      ],
      "execution_count": 0,
      "outputs": []
    },
    {
      "cell_type": "code",
      "metadata": {
        "id": "XIMIWE4bYBt7",
        "colab_type": "code",
        "colab": {}
      },
      "source": [
        "b1 = np.array([0.8, 0.8, 0.8])\n",
        "b2 = np.array([0.2])"
      ],
      "execution_count": 0,
      "outputs": []
    },
    {
      "cell_type": "code",
      "metadata": {
        "id": "8jYqgI81YB0t",
        "colab_type": "code",
        "colab": {}
      },
      "source": [
        "def f(x):\n",
        "    return 1 / (1 + np.exp(-x))"
      ],
      "execution_count": 0,
      "outputs": []
    },
    {
      "cell_type": "markdown",
      "metadata": {
        "id": "73I54DvzYL5s",
        "colab_type": "text"
      },
      "source": [
        "### 1.3.2 Nuestro primer intento de una función de retroalimentación\n"
      ]
    },
    {
      "cell_type": "code",
      "metadata": {
        "id": "5Dgo_CKEYQ7c",
        "colab_type": "code",
        "colab": {}
      },
      "source": [
        "def simple_looped_nn_calc(n_layers, x, w, b):\n",
        "    for l in range(n_layers-1):\n",
        "        if l == 0:\n",
        "            node_in = x\n",
        "        else:\n",
        "            node_in = h\n",
        "        h = np.zeros((w[l].shape[0],))\n",
        "        for i in range(w[l].shape[0]):\n",
        "            f_sum = 0\n",
        "            for j in range(w[l].shape[1]):\n",
        "                f_sum += w[l][i][j] * node_in[j]\n",
        "            f_sum += b[l][i]\n",
        "            h[i] = f(f_sum)\n",
        "    return h"
      ],
      "execution_count": 0,
      "outputs": []
    },
    {
      "cell_type": "code",
      "metadata": {
        "id": "em6dWmOlYY0U",
        "colab_type": "code",
        "colab": {}
      },
      "source": [
        "w = [w1, w2]\n",
        "b = [b1, b2]\n",
        "\n",
        "\n",
        "x = [1.5, 2.0, 3.0]"
      ],
      "execution_count": 0,
      "outputs": []
    },
    {
      "cell_type": "code",
      "metadata": {
        "id": "JHueZXGcY-qj",
        "colab_type": "code",
        "colab": {
          "base_uri": "https://localhost:8080/",
          "height": 33
        },
        "outputId": "d7df4d19-9cb1-485d-cc96-cdc1074e0cd9"
      },
      "source": [
        "simple_looped_nn_calc(3, x, w, b)"
      ],
      "execution_count": 10,
      "outputs": [
        {
          "output_type": "execute_result",
          "data": {
            "text/plain": [
              "array([0.83545566])"
            ]
          },
          "metadata": {
            "tags": []
          },
          "execution_count": 10
        }
      ]
    },
    {
      "cell_type": "markdown",
      "metadata": {
        "id": "_PY1AHX7ZGfU",
        "colab_type": "text"
      },
      "source": [
        "### 1.3.3 Implementacion mas eficiente\n"
      ]
    },
    {
      "cell_type": "code",
      "metadata": {
        "id": "OSXBTmJYZHqe",
        "colab_type": "code",
        "colab": {
          "base_uri": "https://localhost:8080/",
          "height": 50
        },
        "outputId": "eb8803e6-d54c-4af9-8908-a04d70ace7ad"
      },
      "source": [
        "%timeit simple_looped_nn_calc(3, x, w, b)"
      ],
      "execution_count": 11,
      "outputs": [
        {
          "output_type": "stream",
          "text": [
            "The slowest run took 4.80 times longer than the fastest. This could mean that an intermediate result is being cached.\n",
            "10000 loops, best of 3: 22.7 µs per loop\n"
          ],
          "name": "stdout"
        }
      ]
    },
    {
      "cell_type": "markdown",
      "metadata": {
        "id": "wJxvlFn9ZPnr",
        "colab_type": "text"
      },
      "source": [
        "### 1.3.5 Multiplicacion de matriz\n"
      ]
    },
    {
      "cell_type": "code",
      "metadata": {
        "id": "bBHj5pdxZHtO",
        "colab_type": "code",
        "colab": {}
      },
      "source": [
        "def matrix_feed_forward_calc(n_layers, x, w, b):\n",
        "    for l in range(n_layers-1):\n",
        "        if l == 0:\n",
        "            node_in = x\n",
        "        else:\n",
        "            node_in = h\n",
        "        z = w[l].dot(node_in) + b[l]\n",
        "        h = f(z)\n",
        "    return h"
      ],
      "execution_count": 0,
      "outputs": []
    },
    {
      "cell_type": "markdown",
      "metadata": {
        "id": "Q3t8OHPTZXCV",
        "colab_type": "text"
      },
      "source": [
        "## 1.4 DESCENSO GRADIENTE Y OPTIMIZACIÓN"
      ]
    },
    {
      "cell_type": "markdown",
      "metadata": {
        "id": "qi3o3aC4ZjDM",
        "colab_type": "text"
      },
      "source": [
        "### 1.4.1 Ejemplo en codigo"
      ]
    },
    {
      "cell_type": "code",
      "metadata": {
        "id": "WzZ_OMQAZfvE",
        "colab_type": "code",
        "colab": {
          "base_uri": "https://localhost:8080/",
          "height": 33
        },
        "outputId": "29b095f1-7276-4adc-84b5-1354887ca9ae"
      },
      "source": [
        "x_old = 0 \n",
        "x_new = 6 \n",
        "gamma = 0.01 \n",
        "precision = 0.00001\n",
        "\n",
        "def df(x):\n",
        "    y = 4 * x**3 - 9 * x**2\n",
        "    return y\n",
        "\n",
        "while abs(x_new - x_old) > precision:\n",
        "    x_old = x_new\n",
        "    x_new += -gamma * df(x_old)\n",
        "\n",
        "print(\"The local minimum occurs at %f\" % x_new)"
      ],
      "execution_count": 13,
      "outputs": [
        {
          "output_type": "stream",
          "text": [
            "The local minimum occurs at 2.249965\n"
          ],
          "name": "stdout"
        }
      ]
    },
    {
      "cell_type": "markdown",
      "metadata": {
        "id": "J7t3VVCBaMjT",
        "colab_type": "text"
      },
      "source": [
        "## 1.5 IMPLEMENTACION DE LA RED NEURAL EN PYTHON\n"
      ]
    },
    {
      "cell_type": "code",
      "metadata": {
        "id": "byQyhCP-Z0P8",
        "colab_type": "code",
        "colab": {
          "base_uri": "https://localhost:8080/",
          "height": 307
        },
        "outputId": "45a98bf4-4027-40ae-df6e-2b2fa83b6fb5"
      },
      "source": [
        "from sklearn.datasets import load_digits\n",
        "digits = load_digits()\n",
        "print(digits.data.shape)\n",
        "import matplotlib.pyplot as plt \n",
        "plt.gray() \n",
        "plt.matshow(digits.images[1]) \n",
        "plt.show()"
      ],
      "execution_count": 14,
      "outputs": [
        {
          "output_type": "stream",
          "text": [
            "(1797, 64)\n"
          ],
          "name": "stdout"
        },
        {
          "output_type": "display_data",
          "data": {
            "text/plain": [
              "<Figure size 432x288 with 0 Axes>"
            ]
          },
          "metadata": {
            "tags": []
          }
        },
        {
          "output_type": "display_data",
          "data": {
            "image/png": "[encoded data removed]",
            "text/plain": [
              "<Figure size 288x288 with 1 Axes>"
            ]
          },
          "metadata": {
            "tags": [],
            "needs_background": "light"
          }
        }
      ]
    },
    {
      "cell_type": "markdown",
      "metadata": {
        "id": "GPDFenC6asKT",
        "colab_type": "text"
      },
      "source": [
        "El código anterior se imprime (1797, 64) para mostrar la forma de la matriz de datos de entrada y el dígito pixelado \"1\" en la imagen de arriba. El código que vamos a escribir en este tutorial de redes neuronales intentará estimar los dígitos que representan estos píxeles (usando redes neuronales, por supuesto). Lo primero es lo primero, necesitamos poner los datos de entrada en forma. Para hacerlo, necesitamos hacer dos cosas:\n",
        "\n",
        "1. Escalar los datos\n",
        "2. Divida los datos en pruebas y conjuntos de trenes."
      ]
    },
    {
      "cell_type": "markdown",
      "metadata": {
        "id": "NdOVaMpHa3r9",
        "colab_type": "text"
      },
      "source": [
        "### 1.5.1 Escalar datos\n"
      ]
    },
    {
      "cell_type": "code",
      "metadata": {
        "id": "GO7h_PHMa6Ws",
        "colab_type": "code",
        "colab": {
          "base_uri": "https://localhost:8080/",
          "height": 98
        },
        "outputId": "0a050d43-8466-4f2c-f4f0-595a97a3f566"
      },
      "source": [
        "digits.data[0,:]"
      ],
      "execution_count": 15,
      "outputs": [
        {
          "output_type": "execute_result",
          "data": {
            "text/plain": [
              "array([ 0.,  0.,  5., 13.,  9.,  1.,  0.,  0.,  0.,  0., 13., 15., 10.,\n",
              "       15.,  5.,  0.,  0.,  3., 15.,  2.,  0., 11.,  8.,  0.,  0.,  4.,\n",
              "       12.,  0.,  0.,  8.,  8.,  0.,  0.,  5.,  8.,  0.,  0.,  9.,  8.,\n",
              "        0.,  0.,  4., 11.,  0.,  1., 12.,  7.,  0.,  0.,  2., 14.,  5.,\n",
              "       10., 12.,  0.,  0.,  0.,  0.,  6., 13., 10.,  0.,  0.,  0.])"
            ]
          },
          "metadata": {
            "tags": []
          },
          "execution_count": 15
        }
      ]
    },
    {
      "cell_type": "code",
      "metadata": {
        "id": "nPOVSjSfbB9D",
        "colab_type": "code",
        "colab": {
          "base_uri": "https://localhost:8080/",
          "height": 228
        },
        "outputId": "328a9252-a7c9-4470-f9aa-0ca54e5e5255"
      },
      "source": [
        "from sklearn.preprocessing import StandardScaler\n",
        "X_scale = StandardScaler()\n",
        "X = X_scale.fit_transform(digits.data)\n",
        "X[0,:]"
      ],
      "execution_count": 16,
      "outputs": [
        {
          "output_type": "execute_result",
          "data": {
            "text/plain": [
              "array([ 0.        , -0.33501649, -0.04308102,  0.27407152, -0.66447751,\n",
              "       -0.84412939, -0.40972392, -0.12502292, -0.05907756, -0.62400926,\n",
              "        0.4829745 ,  0.75962245, -0.05842586,  1.12772113,  0.87958306,\n",
              "       -0.13043338, -0.04462507,  0.11144272,  0.89588044, -0.86066632,\n",
              "       -1.14964846,  0.51547187,  1.90596347, -0.11422184, -0.03337973,\n",
              "        0.48648928,  0.46988512, -1.49990136, -1.61406277,  0.07639777,\n",
              "        1.54181413, -0.04723238,  0.        ,  0.76465553,  0.05263019,\n",
              "       -1.44763006, -1.73666443,  0.04361588,  1.43955804,  0.        ,\n",
              "       -0.06134367,  0.8105536 ,  0.63011714, -1.12245711, -1.06623158,\n",
              "        0.66096475,  0.81845076, -0.08874162, -0.03543326,  0.74211893,\n",
              "        1.15065212, -0.86867056,  0.11012973,  0.53761116, -0.75743581,\n",
              "       -0.20978513, -0.02359646, -0.29908135,  0.08671869,  0.20829258,\n",
              "       -0.36677122, -1.14664746, -0.5056698 , -0.19600752])"
            ]
          },
          "metadata": {
            "tags": []
          },
          "execution_count": 16
        }
      ]
    },
    {
      "cell_type": "markdown",
      "metadata": {
        "id": "2ZKTrxc8a5dz",
        "colab_type": "text"
      },
      "source": [
        "### 1.5.2 Crear conjuntos de datos de prueba y entrenamiento"
      ]
    },
    {
      "cell_type": "code",
      "metadata": {
        "id": "4hbhmXfDcGIr",
        "colab_type": "code",
        "colab": {}
      },
      "source": [
        "from sklearn.model_selection import train_test_split\n",
        "y = digits.target\n",
        "X_train, X_test, y_train, y_test = train_test_split(X, y, test_size=0.4)"
      ],
      "execution_count": 0,
      "outputs": []
    },
    {
      "cell_type": "markdown",
      "metadata": {
        "id": "TYHbFIoDdIRc",
        "colab_type": "text"
      },
      "source": [
        "### 1.5.3 Configurar la capa de salida"
      ]
    },
    {
      "cell_type": "code",
      "metadata": {
        "id": "_RT4mnL6dJU0",
        "colab_type": "code",
        "colab": {}
      },
      "source": [
        "import numpy as np\n",
        "\n",
        "def convert_y_to_vect(y):\n",
        "    y_vect = np.zeros((len(y), 10))\n",
        "    for i in range(len(y)):\n",
        "        y_vect[i, y[i]] = 1\n",
        "    return y_vect"
      ],
      "execution_count": 0,
      "outputs": []
    },
    {
      "cell_type": "code",
      "metadata": {
        "id": "1Mlhrm5xdSEz",
        "colab_type": "code",
        "colab": {
          "base_uri": "https://localhost:8080/",
          "height": 33
        },
        "outputId": "9e450c07-81c8-42ce-ad85-5d986115e2dd"
      },
      "source": [
        "y_v_train = convert_y_to_vect(y_train)\n",
        "y_v_test = convert_y_to_vect(y_test)\n",
        "y_train[0], y_v_train[0]"
      ],
      "execution_count": 19,
      "outputs": [
        {
          "output_type": "execute_result",
          "data": {
            "text/plain": [
              "(5, array([0., 0., 0., 0., 0., 1., 0., 0., 0., 0.]))"
            ]
          },
          "metadata": {
            "tags": []
          },
          "execution_count": 19
        }
      ]
    },
    {
      "cell_type": "markdown",
      "metadata": {
        "id": "-OfofQRSdZbD",
        "colab_type": "text"
      },
      "source": [
        "### 1.5.4 Creacion de la red neuronal"
      ]
    },
    {
      "cell_type": "code",
      "metadata": {
        "id": "VuWF9gNrdlrb",
        "colab_type": "code",
        "colab": {}
      },
      "source": [
        "nn_structure = [64, 30, 10] "
      ],
      "execution_count": 0,
      "outputs": []
    },
    {
      "cell_type": "code",
      "metadata": {
        "id": "T2wI_d_7dluU",
        "colab_type": "code",
        "colab": {}
      },
      "source": [
        "def f(x):\n",
        "    return 1 / (1 + np.exp(-x))"
      ],
      "execution_count": 0,
      "outputs": []
    },
    {
      "cell_type": "code",
      "metadata": {
        "id": "07yS3tUUdpG8",
        "colab_type": "code",
        "colab": {}
      },
      "source": [
        "def f_deriv(x):\n",
        "    return f(x) * (1 - f(x))"
      ],
      "execution_count": 0,
      "outputs": []
    },
    {
      "cell_type": "code",
      "metadata": {
        "id": "tI_sENnzdtOU",
        "colab_type": "code",
        "colab": {}
      },
      "source": [
        "import numpy.random as r\n",
        "def setup_and_init_weights(nn_structure):\n",
        "    W = {}\n",
        "    b = {}\n",
        "    for l in range(1, len(nn_structure)):\n",
        "        W[l] = r.random_sample((nn_structure[l], nn_structure[l-1]))\n",
        "        b[l] = r.random_sample((nn_structure[l],))\n",
        "    return W, b"
      ],
      "execution_count": 0,
      "outputs": []
    },
    {
      "cell_type": "code",
      "metadata": {
        "id": "Bm75ksu1d3Oi",
        "colab_type": "code",
        "colab": {}
      },
      "source": [
        "def init_tri_values(nn_structure):\n",
        "    tri_W = {}\n",
        "    tri_b = {}\n",
        "    for l in range(1, len(nn_structure)):\n",
        "        tri_W[l] = np.zeros((nn_structure[l], nn_structure[l-1]))\n",
        "        tri_b[l] = np.zeros((nn_structure[l],))\n",
        "    return tri_W, tri_b"
      ],
      "execution_count": 0,
      "outputs": []
    },
    {
      "cell_type": "code",
      "metadata": {
        "id": "ofdk_wfpd42M",
        "colab_type": "code",
        "colab": {}
      },
      "source": [
        "def feed_forward(x, W, b):\n",
        "    h = {1: x}\n",
        "    z = {}\n",
        "    for l in range(1, len(W) + 1):\n",
        "        if l == 1:\n",
        "            node_in = x\n",
        "        else:\n",
        "            node_in = h[l]\n",
        "        z[l+1] = W[l].dot(node_in) + b[l] \n",
        "        h[l+1] = f(z[l+1]) \n",
        "    return h, z"
      ],
      "execution_count": 0,
      "outputs": []
    },
    {
      "cell_type": "code",
      "metadata": {
        "id": "jnavvA0-d9PU",
        "colab_type": "code",
        "colab": {}
      },
      "source": [
        "def calculate_out_layer_delta(y, h_out, z_out):\n",
        "    return -(y-h_out) * f_deriv(z_out)"
      ],
      "execution_count": 0,
      "outputs": []
    },
    {
      "cell_type": "code",
      "metadata": {
        "id": "w0rUTm6bd91N",
        "colab_type": "code",
        "colab": {}
      },
      "source": [
        "def calculate_hidden_delta(delta_plus_1, w_l, z_l):\n",
        "    return np.dot(np.transpose(w_l), delta_plus_1) * f_deriv(z_l)"
      ],
      "execution_count": 0,
      "outputs": []
    },
    {
      "cell_type": "code",
      "metadata": {
        "id": "noHDhzf3d94z",
        "colab_type": "code",
        "colab": {}
      },
      "source": [
        "def train_nn(nn_structure, X, y, iter_num=3000, alpha=0.25):\n",
        "    W, b = setup_and_init_weights(nn_structure)\n",
        "    cnt = 0\n",
        "    m = len(y)\n",
        "    avg_cost_func = []\n",
        "    print('Starting gradient descent for {} iterations'.format(iter_num))\n",
        "    while cnt < iter_num:\n",
        "        if cnt%1000 == 0:\n",
        "            print('Iteration {} of {}'.format(cnt, iter_num))\n",
        "        tri_W, tri_b = init_tri_values(nn_structure)\n",
        "        avg_cost = 0\n",
        "        for i in range(len(y)):\n",
        "            delta = {}\n",
        "            h, z = feed_forward(X[i, :], W, b)\n",
        "            for l in range(len(nn_structure), 0, -1):\n",
        "                if l == len(nn_structure):\n",
        "                    delta[l] = calculate_out_layer_delta(y[i,:], h[l], z[l])\n",
        "                    avg_cost += np.linalg.norm((y[i,:]-h[l]))\n",
        "                else:\n",
        "                    if l > 1:\n",
        "                        delta[l] = calculate_hidden_delta(delta[l+1], W[l], z[l])\n",
        "                    tri_W[l] += np.dot(delta[l+1][:,np.newaxis], np.transpose(h[l][:,np.newaxis])) \n",
        "                    tri_b[l] += delta[l+1]\n",
        "        for l in range(len(nn_structure) - 1, 0, -1):\n",
        "            W[l] += -alpha * (1.0/m * tri_W[l])\n",
        "            b[l] += -alpha * (1.0/m * tri_b[l])\n",
        "        avg_cost = 1.0/m * avg_cost\n",
        "        avg_cost_func.append(avg_cost)\n",
        "        cnt += 1\n",
        "    return W, b, avg_cost_func"
      ],
      "execution_count": 0,
      "outputs": []
    },
    {
      "cell_type": "code",
      "metadata": {
        "id": "Z-Py-eHjelMD",
        "colab_type": "code",
        "colab": {
          "base_uri": "https://localhost:8080/",
          "height": 82
        },
        "outputId": "9b239be2-4d55-4878-a0af-ad50a29b7af4"
      },
      "source": [
        "W, b, avg_cost_func = train_nn(nn_structure, X_train, y_v_train)"
      ],
      "execution_count": 29,
      "outputs": [
        {
          "output_type": "stream",
          "text": [
            "Starting gradient descent for 3000 iterations\n",
            "Iteration 0 of 3000\n",
            "Iteration 1000 of 3000\n",
            "Iteration 2000 of 3000\n"
          ],
          "name": "stdout"
        }
      ]
    },
    {
      "cell_type": "code",
      "metadata": {
        "id": "Htp-j6-_en6d",
        "colab_type": "code",
        "colab": {
          "base_uri": "https://localhost:8080/",
          "height": 278
        },
        "outputId": "8fa09954-77f4-4703-acc5-00328b0f23fa"
      },
      "source": [
        "plt.plot(avg_cost_func)\n",
        "plt.ylabel('Average J')\n",
        "plt.xlabel('Iteration number')\n",
        "plt.show()"
      ],
      "execution_count": 30,
      "outputs": [
        {
          "output_type": "display_data",
          "data": {
            "image/png": "[encoded data removed]",
            "text/plain": [
              "<Figure size 432x288 with 1 Axes>"
            ]
          },
          "metadata": {
            "tags": [],
            "needs_background": "light"
          }
        }
      ]
    },
    {
      "cell_type": "markdown",
      "metadata": {
        "id": "a5Xp65Yteqv7",
        "colab_type": "text"
      },
      "source": [
        "### 1.5.5 Evaluacion del modelo\n"
      ]
    },
    {
      "cell_type": "code",
      "metadata": {
        "id": "k68k6Ng6evBE",
        "colab_type": "code",
        "colab": {}
      },
      "source": [
        "def predict_y(W, b, X, n_layers):\n",
        "    m = X.shape[0]\n",
        "    y = np.zeros((m,))\n",
        "    for i in range(m):\n",
        "        h, z = feed_forward(X[i, :], W, b)\n",
        "        y[i] = np.argmax(h[n_layers])\n",
        "    return y"
      ],
      "execution_count": 0,
      "outputs": []
    },
    {
      "cell_type": "code",
      "metadata": {
        "id": "_FL9xQfoewm8",
        "colab_type": "code",
        "colab": {
          "base_uri": "https://localhost:8080/",
          "height": 33
        },
        "outputId": "ea6fd459-46eb-4d9b-fff0-e1e94b356382"
      },
      "source": [
        "from sklearn.metrics import accuracy_score\n",
        "y_pred = predict_y(W, b, X_test, 3)\n",
        "accuracy_score(y_test, y_pred)*100"
      ],
      "execution_count": 32,
      "outputs": [
        {
          "output_type": "execute_result",
          "data": {
            "text/plain": [
              "87.20445062586927"
            ]
          },
          "metadata": {
            "tags": []
          },
          "execution_count": 32
        }
      ]
    },
    {
      "cell_type": "markdown",
      "metadata": {
        "id": "AVBofK_Qllib",
        "colab_type": "text"
      },
      "source": [
        "# EJERCICIO PROPIO"
      ]
    },
    {
      "cell_type": "markdown",
      "metadata": {
        "id": "vu51DTlNlvsQ",
        "colab_type": "text"
      },
      "source": [
        "Para este ejercicio se va a utilizar el dataset de Wine, que es un problema de clasificacion, de Sklearn y la aplicacion de la red neuronal. "
      ]
    },
    {
      "cell_type": "code",
      "metadata": {
        "id": "45d22knxlncd",
        "colab_type": "code",
        "colab": {
          "base_uri": "https://localhost:8080/",
          "height": 33
        },
        "outputId": "04fab7d3-faa9-44bc-fc6f-c8085d835162"
      },
      "source": [
        "from sklearn.datasets import load_wine\n",
        "wine = load_wine()\n",
        "list(wine.target_names)"
      ],
      "execution_count": 54,
      "outputs": [
        {
          "output_type": "execute_result",
          "data": {
            "text/plain": [
              "['class_0', 'class_1', 'class_2']"
            ]
          },
          "metadata": {
            "tags": []
          },
          "execution_count": 54
        }
      ]
    },
    {
      "cell_type": "code",
      "metadata": {
        "id": "UBYwJMVNnWn1",
        "colab_type": "code",
        "colab": {
          "base_uri": "https://localhost:8080/",
          "height": 33
        },
        "outputId": "38d3e572-8acf-4550-decb-18637baf4895"
      },
      "source": [
        "print(wine.data.shape)"
      ],
      "execution_count": 55,
      "outputs": [
        {
          "output_type": "stream",
          "text": [
            "(178, 13)\n"
          ],
          "name": "stdout"
        }
      ]
    },
    {
      "cell_type": "markdown",
      "metadata": {
        "id": "ggfsPcTdnmc9",
        "colab_type": "text"
      },
      "source": [
        "Escalamos los datos"
      ]
    },
    {
      "cell_type": "code",
      "metadata": {
        "id": "n_yMtQA1njYR",
        "colab_type": "code",
        "colab": {
          "base_uri": "https://localhost:8080/",
          "height": 66
        },
        "outputId": "8b758087-04fe-4aa4-d4f6-0011e90bffd4"
      },
      "source": [
        "from sklearn.preprocessing import StandardScaler\n",
        "X_scale = StandardScaler()\n",
        "X = X_scale.fit_transform(wine.data)\n",
        "X[0,:]"
      ],
      "execution_count": 56,
      "outputs": [
        {
          "output_type": "execute_result",
          "data": {
            "text/plain": [
              "array([ 1.51861254, -0.5622498 ,  0.23205254, -1.16959318,  1.91390522,\n",
              "        0.80899739,  1.03481896, -0.65956311,  1.22488398,  0.25171685,\n",
              "        0.36217728,  1.84791957,  1.01300893])"
            ]
          },
          "metadata": {
            "tags": []
          },
          "execution_count": 56
        }
      ]
    },
    {
      "cell_type": "markdown",
      "metadata": {
        "id": "Wx9EYXPcnyEJ",
        "colab_type": "text"
      },
      "source": [
        "Particion train test split"
      ]
    },
    {
      "cell_type": "code",
      "metadata": {
        "id": "TYvuIEpwnwXD",
        "colab_type": "code",
        "colab": {}
      },
      "source": [
        "from sklearn.model_selection import train_test_split\n",
        "y = wine.target\n",
        "X_train, X_test, y_train, y_test = train_test_split(X, y, test_size=0.4)"
      ],
      "execution_count": 0,
      "outputs": []
    },
    {
      "cell_type": "markdown",
      "metadata": {
        "id": "TvJS0UAmpprP",
        "colab_type": "text"
      },
      "source": [
        "Configuramos la capa de salida"
      ]
    },
    {
      "cell_type": "code",
      "metadata": {
        "id": "FBaxsX-opiad",
        "colab_type": "code",
        "colab": {}
      },
      "source": [
        "import numpy as np\n",
        "\n",
        "def convert_y_to_vect(y):\n",
        "    y_vect = np.zeros((len(y), 3)) \n",
        "    for i in range(len(y)):\n",
        "        y_vect[i, y[i]] = 1\n",
        "    return y_vect"
      ],
      "execution_count": 0,
      "outputs": []
    },
    {
      "cell_type": "code",
      "metadata": {
        "id": "yvk6pxB5p7G1",
        "colab_type": "code",
        "colab": {
          "base_uri": "https://localhost:8080/",
          "height": 33
        },
        "outputId": "b4810df2-69c1-4eb4-8562-a8192e879c27"
      },
      "source": [
        "y_v_train = convert_y_to_vect(y_train)\n",
        "y_v_test = convert_y_to_vect(y_test)\n",
        "y_train[0], y_v_train[0]"
      ],
      "execution_count": 59,
      "outputs": [
        {
          "output_type": "execute_result",
          "data": {
            "text/plain": [
              "(2, array([0., 0., 1.]))"
            ]
          },
          "metadata": {
            "tags": []
          },
          "execution_count": 59
        }
      ]
    },
    {
      "cell_type": "markdown",
      "metadata": {
        "id": "aMif_uqmn-PG",
        "colab_type": "text"
      },
      "source": [
        "Configuracion de la red "
      ]
    },
    {
      "cell_type": "code",
      "metadata": {
        "id": "aIykJAMyn8dr",
        "colab_type": "code",
        "colab": {}
      },
      "source": [
        "nn_structure = [13, 4, 3] # 13 variables de entrada, 4 neuronas, 3 salidas (target)"
      ],
      "execution_count": 0,
      "outputs": []
    },
    {
      "cell_type": "markdown",
      "metadata": {
        "id": "kxV40WjroX-f",
        "colab_type": "text"
      },
      "source": [
        "Realizamos el entrenamiento"
      ]
    },
    {
      "cell_type": "code",
      "metadata": {
        "id": "cTnn-895oNfm",
        "colab_type": "code",
        "colab": {
          "base_uri": "https://localhost:8080/",
          "height": 82
        },
        "outputId": "0c4d1151-df5b-497f-8f92-4450450a08b8"
      },
      "source": [
        "W, b, avg_cost_func = train_nn(nn_structure, X_train, y_v_train)"
      ],
      "execution_count": 61,
      "outputs": [
        {
          "output_type": "stream",
          "text": [
            "Starting gradient descent for 3000 iterations\n",
            "Iteration 0 of 3000\n",
            "Iteration 1000 of 3000\n",
            "Iteration 2000 of 3000\n"
          ],
          "name": "stdout"
        }
      ]
    },
    {
      "cell_type": "markdown",
      "metadata": {
        "id": "6SkHZPmFoacK",
        "colab_type": "text"
      },
      "source": [
        "Observemos las graficas de rendimiento"
      ]
    },
    {
      "cell_type": "code",
      "metadata": {
        "id": "0tVCYRQuocvf",
        "colab_type": "code",
        "colab": {
          "base_uri": "https://localhost:8080/",
          "height": 278
        },
        "outputId": "a7b66d5d-ff88-4433-90f9-2382bed0fb06"
      },
      "source": [
        "plt.plot(avg_cost_func)\n",
        "plt.ylabel('Average J')\n",
        "plt.xlabel('Iteration number')\n",
        "plt.show()"
      ],
      "execution_count": 62,
      "outputs": [
        {
          "output_type": "display_data",
          "data": {
            "image/png": "[encoded data removed]",
            "text/plain": [
              "<Figure size 432x288 with 1 Axes>"
            ]
          },
          "metadata": {
            "tags": [],
            "needs_background": "light"
          }
        }
      ]
    },
    {
      "cell_type": "markdown",
      "metadata": {
        "id": "BE2UUJfFodOT",
        "colab_type": "text"
      },
      "source": [
        "Revisemos las predicciones"
      ]
    },
    {
      "cell_type": "code",
      "metadata": {
        "id": "9ainIRmFofX2",
        "colab_type": "code",
        "colab": {
          "base_uri": "https://localhost:8080/",
          "height": 33
        },
        "outputId": "22c8e551-3d10-41bd-d169-7b9166c5a7dd"
      },
      "source": [
        "from sklearn.metrics import accuracy_score\n",
        "y_pred = predict_y(W, b, X_test, 3)\n",
        "accuracy_score(y_test, y_pred)*100"
      ],
      "execution_count": 63,
      "outputs": [
        {
          "output_type": "execute_result",
          "data": {
            "text/plain": [
              "95.83333333333334"
            ]
          },
          "metadata": {
            "tags": []
          },
          "execution_count": 63
        }
      ]
    },
    {
      "cell_type": "code",
      "metadata": {
        "id": "vRuoHT_v0CN1",
        "colab_type": "code",
        "colab": {
          "base_uri": "https://localhost:8080/",
          "height": 180
        },
        "outputId": "860869b7-f1b4-4113-ce37-b84b15f5ab2a"
      },
      "source": [
        "from sklearn.metrics import classification_report, confusion_matrix\n",
        "print(classification_report(y_test, y_pred))     "
      ],
      "execution_count": 64,
      "outputs": [
        {
          "output_type": "stream",
          "text": [
            "              precision    recall  f1-score   support\n",
            "\n",
            "           0       0.89      1.00      0.94        24\n",
            "           1       1.00      0.89      0.94        28\n",
            "           2       1.00      1.00      1.00        20\n",
            "\n",
            "    accuracy                           0.96        72\n",
            "   macro avg       0.96      0.96      0.96        72\n",
            "weighted avg       0.96      0.96      0.96        72\n",
            "\n"
          ],
          "name": "stdout"
        }
      ]
    },
    {
      "cell_type": "markdown",
      "metadata": {
        "id": "zzRVQJwvqIkW",
        "colab_type": "text"
      },
      "source": [
        "Fin prueba"
      ]
    }
  ]
}