{
  "nbformat": 4,
  "nbformat_minor": 0,
  "metadata": {
    "colab": {
      "name": "Modelacion_Final_Pets.ipynb",
      "provenance": [],
      "collapsed_sections": [],
      "include_colab_link": true
    },
    "kernelspec": {
      "name": "python3",
      "display_name": "Python 3"
    },
    "accelerator": "GPU"
  },
  "cells": [
    {
      "cell_type": "markdown",
      "metadata": {
        "id": "view-in-github",
        "colab_type": "text"
      },
      "source": [
        "<a href=\"https://colab.research.google.com/github/eljimenezj/CM0868--Estadistica-Multivariada-Avanzada/blob/master/Prueba_desempe%C3%B1o_Arqu_CatsvsDogs.ipynb\" target=\"_parent\"><img src=\"https://colab.research.google.com/assets/colab-badge.svg\" alt=\"Open In Colab\"/></a>"
      ]
    },
    {
      "cell_type": "markdown",
      "metadata": {
        "id": "xA4iutahYbsj",
        "colab_type": "text"
      },
      "source": [
        "# Estadistica Multivariada - Clasificación de imagenes utilizando Machine Learning y Deep Learning\n",
        "\n",
        "A continuación se presenta un estudio de clasificación de imagenes utilizando un modelo de regresión logística y posteriormente el uso de redes neuronales profundas. Esto libro hace parte del proyecto final del curso de Estadistica Multivariada Avanzanda de la Maestría de Ciencia de Datos.\n",
        "\n",
        "Los integrantes de este trabajo:\n",
        "\n",
        "* Jorge Luis Renteria Roa - jlrenteria@eafit.edu.co\n",
        "* Edgar Leandro Jimenez Jaimes - eljimenezj@eafit.edu.co\n"
      ]
    },
    {
      "cell_type": "markdown",
      "metadata": {
        "id": "ApaFRhHwZU5L",
        "colab_type": "text"
      },
      "source": [
        "Este libro se encuentra organizado de la siguiente manera:\n",
        "\n",
        "1. Lectura y estructuración del pipeline de los datos.\n",
        "  * Estructuración del Data Augmentation utilizando `ImageDataGenerator`\n",
        "2. Construcción y entrenamiento modelo de regresión logistica.\n",
        "3. Construcción y entrenamiento Red Neuronal Convolucional construida desde cero.\n",
        "4. Entrenamiento de red neuronal preentrenada:\n",
        "  * `ResNet50`\n",
        "\n",
        "\n"
      ]
    },
    {
      "cell_type": "code",
      "metadata": {
        "id": "ovo41pOPF2dT",
        "colab_type": "code",
        "outputId": "dfc1d792-7a7b-421a-efca-78364608d58e",
        "colab": {
          "base_uri": "https://localhost:8080/",
          "height": 90
        }
      },
      "source": [
        "# Importación librerias\n",
        "from PIL import Image\n",
        "import pandas as pd\n",
        "import glob\n",
        "import re\n",
        "import numpy as np\n",
        "import imutils\n",
        "import time\n",
        "import os  \n",
        "import seaborn as sn  \n",
        "import datetime\n",
        "from tqdm import tqdm\n",
        "from pathlib import Path\n",
        "\n",
        "import tensorflow as tf\n",
        "import keras_preprocessing\n",
        "from keras.applications import densenet  \n",
        "from keras import regularizers  \n",
        "from keras import backend as K  \n",
        "from keras.preprocessing import image\n",
        "from keras.layers import Conv2D, MaxPooling2D\n",
        "from keras.models import Sequential  \n",
        "from keras_preprocessing.image import ImageDataGenerator\n",
        "from keras.layers import Conv2D, MaxPooling2D\n",
        "from keras.layers import Activation, Dropout, Flatten, Dense\n",
        "from keras.models import Sequential, Model, load_model  \n",
        "from keras.layers import Activation, Dropout, Flatten, Dense  \n",
        "from keras.callbacks import EarlyStopping, ReduceLROnPlateau, ModelCheckpoint, Callback  \n",
        "\n",
        "from google.colab import drive\n",
        "from google.colab import files\n",
        "import matplotlib.pyplot as plt\n",
        "\n",
        "\n",
        "from sklearn.preprocessing import LabelEncoder\n",
        "from sklearn.preprocessing import OneHotEncoder\n",
        "from sklearn.model_selection import GridSearchCV, train_test_split\n",
        "from sklearn.metrics import confusion_matrix, classification_report  \n",
        "\n",
        "from keras.backend import manual_variable_initialization \n",
        "manual_variable_initialization(True)\n",
        "\n",
        "import tensorflow as tf\n",
        "\n",
        "import warnings\n",
        "warnings.filterwarnings('ignore')\n",
        "pd.set_option('display.max_columns', 30*30 + 1)"
      ],
      "execution_count": 0,
      "outputs": [
        {
          "output_type": "stream",
          "text": [
            "/usr/local/lib/python3.6/dist-packages/statsmodels/tools/_testing.py:19: FutureWarning: pandas.util.testing is deprecated. Use the functions in the public API at pandas.testing instead.\n",
            "  import pandas.util.testing as tm\n",
            "Using TensorFlow backend.\n"
          ],
          "name": "stderr"
        }
      ]
    },
    {
      "cell_type": "markdown",
      "metadata": {
        "id": "GEYucsejdxVu",
        "colab_type": "text"
      },
      "source": [
        "# 1. Lectura y estructuración del pipeline de los datos."
      ]
    },
    {
      "cell_type": "markdown",
      "metadata": {
        "id": "17aLIIXOeJE7",
        "colab_type": "text"
      },
      "source": [
        "## 1.1 Estructuración del Data Augmentation utilizando ImageDataGenerator"
      ]
    },
    {
      "cell_type": "code",
      "metadata": {
        "id": "H5aHzRDwrXQg",
        "colab_type": "code",
        "outputId": "2ed205c5-c3f1-4071-b805-abe29c41d2cb",
        "colab": {
          "base_uri": "https://localhost:8080/",
          "height": 125
        }
      },
      "source": [
        "drive.mount('/content/drive')"
      ],
      "execution_count": 0,
      "outputs": [
        {
          "output_type": "stream",
          "text": [
            "Go to this URL in a browser: https://accounts.google.com/o/oauth2/auth?client_id=947318989803-6bn6qk8qdgf4n4g3pfee6491hc0brc4i.apps.googleusercontent.com&redirect_uri=urn%3aietf%3awg%3aoauth%3a2.0%3aoob&response_type=code&scope=email%20https%3a%2f%2fwww.googleapis.com%2fauth%2fdocs.test%20https%3a%2f%2fwww.googleapis.com%2fauth%2fdrive%20https%3a%2f%2fwww.googleapis.com%2fauth%2fdrive.photos.readonly%20https%3a%2f%2fwww.googleapis.com%2fauth%2fpeopleapi.readonly\n",
            "\n",
            "Enter your authorization code:\n",
            "··········\n",
            "Mounted at /content/drive\n"
          ],
          "name": "stdout"
        }
      ]
    },
    {
      "cell_type": "code",
      "metadata": {
        "id": "9HnGlPnSvxg8",
        "colab_type": "code",
        "colab": {}
      },
      "source": [
        "# Definición de algunos parametros de entrada\n",
        "\n",
        "img_width, img_height = 256, 256   # Tamaño de imagenes  \n",
        "nb_train_samples = 4000             # Numero inicial de muestras en train\n",
        "nb_validation_samples = 1000       # Numero inicial de muestras en validation\n",
        "nb_test_samples = 500\n",
        "batch_size = 32                    # Numero de imagenes a utilizar para entrenar por epoca\n",
        "\n",
        "\n",
        "# Directorios de almacenamiento\n",
        "path_base = '/content/drive/My Drive/Estadistica Multivariada/Proyecto Final/Dataset/imagenes_pets'\n",
        "\n",
        "train_data_dir = path_base + '/Train'  \n",
        "validation_data_dir = path_base + '/Validation'\n",
        "test_data_dir = path_base + '/Test'"
      ],
      "execution_count": 0,
      "outputs": []
    },
    {
      "cell_type": "code",
      "metadata": {
        "id": "EPCdahIzq2oN",
        "colab_type": "code",
        "outputId": "72eddbbf-fc16-4ebb-8fde-7e067c73b51c",
        "colab": {
          "base_uri": "https://localhost:8080/",
          "height": 70
        }
      },
      "source": [
        "# Estructuramos el DataAugmentacion para el train, validation y test\n",
        "\n",
        "# Importacion\n",
        "imgen = ImageDataGenerator(rescale=1/255)\n",
        "\n",
        "# Generador Data Augmentacion en Train \n",
        "train_datagen = ImageDataGenerator(  \n",
        "    rescale=1. / 127.5 - 1, #1. / 255,#,                                             # Normalizacion de los pixeles de imagenes\n",
        "    #width_shift_range=[-100,100],                                # Numero aleatorio entre -200 y 200 y hace el shift () si es > 1 son pixeles, sino es %\n",
        "    #height_shift_range=0.1,                                      # \n",
        "    horizontal_flip=True,                                         #\n",
        "    rotation_range=90,                                            # Rotaciónn de la imagen en el rango [0,90]\n",
        "    brightness_range=[0.2,0.8],                                   #\n",
        "    zoom_range=[0.8,1.2])                                         # Zoom a la imagen (Si < 1 acerco, = 1 Misma imagen, > 1 Alejo)\n",
        "\n",
        "train_generator = train_datagen.flow_from_directory(  \n",
        "    train_data_dir,                                              # Directorio de datos de entrenamiento  \n",
        "    target_size=(img_width, img_height),                         # Dimensiones de las imagenes    \n",
        "    batch_size=batch_size,                                       # Particiones por imagenes                        \n",
        "    class_mode='binary')                                         # Tipo de clase de labels\n",
        "\n",
        "# Lectura de validation\n",
        "\n",
        "validation_datagen = ImageDataGenerator(rescale=1. / 127.5 - 1) \n",
        "\n",
        "validation_generator = validation_datagen.flow_from_directory(  \n",
        "    validation_data_dir,\n",
        "    target_size=(img_width, img_height),\n",
        "    batch_size=batch_size,\n",
        "    class_mode='binary') \n",
        "\n",
        "# Lectura de test\n",
        "test_datagen = ImageDataGenerator(rescale=1. / 127.5 - 1) \n",
        "test_generator = test_datagen.flow_from_directory(  \n",
        "    test_data_dir,\n",
        "    target_size=(img_width, img_height),\n",
        "    batch_size=batch_size,\n",
        "    class_mode='binary') \n"
      ],
      "execution_count": 0,
      "outputs": [
        {
          "output_type": "stream",
          "text": [
            "Found 8008 images belonging to 2 classes.\n",
            "Found 2002 images belonging to 2 classes.\n",
            "Found 1002 images belonging to 2 classes.\n"
          ],
          "name": "stdout"
        }
      ]
    },
    {
      "cell_type": "markdown",
      "metadata": {
        "id": "PJNgmvMJyf_Y",
        "colab_type": "text"
      },
      "source": [
        "# 1. Modelo de regresión logística con Keras - TensorFlow"
      ]
    },
    {
      "cell_type": "markdown",
      "metadata": {
        "id": "k6yjsiTcsD1b",
        "colab_type": "text"
      },
      "source": [
        "A continuación vamos a construir una regresión logistica como un primer modelo, pero utilizando Keras de TensorFlow. Esto es una red neuronal de una neurona con una función de activación sigmoide:\n",
        "\n",
        "$$f(x)=\\frac{1}{1+e^{-x}}$$"
      ]
    },
    {
      "cell_type": "code",
      "metadata": {
        "id": "KUyZqtVDq2so",
        "colab_type": "code",
        "outputId": "ea041958-61ac-4585-d9b0-88d7336794f3",
        "colab": {
          "base_uri": "https://localhost:8080/",
          "height": 272
        }
      },
      "source": [
        "# Construcción de regresión logistica\n",
        "\n",
        "K.clear_session()\n",
        "model_1 = Sequential()\n",
        "model_1.add(Flatten(input_shape=(256,256,3)))      # Entrada de las imagenes, formato y profundidad  \n",
        "model_1.add(Dense(1))                              # Agregar una neurona  \n",
        "model_1.add(Activation('sigmoid'))                 # Función de activación sigmoide    \n",
        "\n",
        "model_1.summary()                                  # Mirar arquitectura del modelo"
      ],
      "execution_count": 0,
      "outputs": [
        {
          "output_type": "stream",
          "text": [
            "Model: \"sequential_1\"\n",
            "_________________________________________________________________\n",
            "Layer (type)                 Output Shape              Param #   \n",
            "=================================================================\n",
            "flatten_1 (Flatten)          (None, 196608)            0         \n",
            "_________________________________________________________________\n",
            "dense_1 (Dense)              (None, 1)                 196609    \n",
            "_________________________________________________________________\n",
            "activation_1 (Activation)    (None, 1)                 0         \n",
            "=================================================================\n",
            "Total params: 196,609\n",
            "Trainable params: 196,609\n",
            "Non-trainable params: 0\n",
            "_________________________________________________________________\n"
          ],
          "name": "stdout"
        }
      ]
    },
    {
      "cell_type": "code",
      "metadata": {
        "id": "eLLNvK3ExPiq",
        "colab_type": "code",
        "outputId": "bae5235a-722e-4552-c512-6d3416c839fe",
        "colab": {
          "base_uri": "https://localhost:8080/",
          "height": 745
        }
      },
      "source": [
        "# Compilamos y ejecutamos\n",
        " \n",
        "model_1.compile(loss='binary_crossentropy',                                                     # Función de perdida \n",
        "              optimizer=tf.keras.optimizers.Adam(learning_rate=0.0001),                # Cuando se mueva por el loss lo haga mas despacio  \n",
        "              metrics=[tf.keras.metrics.AUC()])                                        # Metrica a utilizar : AUC               \n",
        "              #metrics = ['auc'])                           \n",
        "\n",
        "historia1 = model_1.fit_generator(train_generator,                                    # Generador de datos de train, con data augmentation \n",
        "                    epochs=20,                                                        # Numero de epocas (# de veces que se pasa por los datos )  \n",
        "                    #steps_per_epoch= nb_train_samples // batch_size,                  # Partición de los datos en cada epoca (# numero de imagenes)                          #   \n",
        "                    validation_data=validation_generator)                             # Datos de validación\n",
        "\n"
      ],
      "execution_count": 0,
      "outputs": [
        {
          "output_type": "stream",
          "text": [
            "Epoch 1/20\n",
            "251/251 [==============================] - 5243s 21s/step - loss: 60.0978 - auc: 0.5164 - val_loss: 85.8377 - val_auc: 0.5171\n",
            "Epoch 2/20\n",
            "251/251 [==============================] - 155s 618ms/step - loss: 46.8997 - auc: 0.5177 - val_loss: 60.7630 - val_auc: 0.5198\n",
            "Epoch 3/20\n",
            "251/251 [==============================] - 150s 600ms/step - loss: 44.3069 - auc: 0.5184 - val_loss: 29.3657 - val_auc: 0.5199\n",
            "Epoch 4/20\n",
            "251/251 [==============================] - 149s 593ms/step - loss: 41.2900 - auc: 0.5216 - val_loss: 24.1459 - val_auc: 0.5229\n",
            "Epoch 5/20\n",
            "251/251 [==============================] - 155s 619ms/step - loss: 36.8130 - auc: 0.5240 - val_loss: 121.8529 - val_auc: 0.5244\n",
            "Epoch 6/20\n",
            "251/251 [==============================] - 150s 597ms/step - loss: 40.5862 - auc: 0.5256 - val_loss: 200.6076 - val_auc: 0.5265\n",
            "Epoch 7/20\n",
            "251/251 [==============================] - 148s 590ms/step - loss: 43.8238 - auc: 0.5267 - val_loss: 63.3906 - val_auc: 0.5280\n",
            "Epoch 8/20\n",
            "251/251 [==============================] - 148s 588ms/step - loss: 32.4296 - auc: 0.5290 - val_loss: 70.1328 - val_auc: 0.5299\n",
            "Epoch 9/20\n",
            "251/251 [==============================] - 148s 588ms/step - loss: 46.0859 - auc: 0.5305 - val_loss: 80.3249 - val_auc: 0.5304\n",
            "Epoch 10/20\n",
            "251/251 [==============================] - 148s 591ms/step - loss: 48.3417 - auc: 0.5304 - val_loss: 175.0840 - val_auc: 0.5300\n",
            "Epoch 11/20\n",
            "251/251 [==============================] - 147s 587ms/step - loss: 44.8590 - auc: 0.5296 - val_loss: 104.1406 - val_auc: 0.5296\n",
            "Epoch 12/20\n",
            "251/251 [==============================] - 148s 590ms/step - loss: 50.0902 - auc: 0.5294 - val_loss: 166.5072 - val_auc: 0.5295\n",
            "Epoch 13/20\n",
            "251/251 [==============================] - 147s 587ms/step - loss: 36.8038 - auc: 0.5299 - val_loss: 126.5994 - val_auc: 0.5299\n",
            "Epoch 14/20\n",
            "251/251 [==============================] - 148s 589ms/step - loss: 31.9627 - auc: 0.5300 - val_loss: 118.4968 - val_auc: 0.5301\n",
            "Epoch 15/20\n",
            "251/251 [==============================] - 148s 588ms/step - loss: 44.5314 - auc: 0.5300 - val_loss: 27.9217 - val_auc: 0.5303\n",
            "Epoch 16/20\n",
            "251/251 [==============================] - 148s 588ms/step - loss: 30.6109 - auc: 0.5309 - val_loss: 131.7403 - val_auc: 0.5312\n",
            "Epoch 17/20\n",
            "251/251 [==============================] - 147s 587ms/step - loss: 41.6877 - auc: 0.5314 - val_loss: 138.1135 - val_auc: 0.5314\n",
            "Epoch 18/20\n",
            "251/251 [==============================] - 148s 589ms/step - loss: 62.7942 - auc: 0.5310 - val_loss: 37.4409 - val_auc: 0.5309\n",
            "Epoch 19/20\n",
            "251/251 [==============================] - 147s 585ms/step - loss: 53.2304 - auc: 0.5313 - val_loss: 46.5511 - val_auc: 0.5316\n",
            "Epoch 20/20\n",
            "251/251 [==============================] - 147s 587ms/step - loss: 43.3218 - auc: 0.5319 - val_loss: 105.5691 - val_auc: 0.5318\n"
          ],
          "name": "stdout"
        }
      ]
    },
    {
      "cell_type": "code",
      "metadata": {
        "id": "D86loWMhklGk",
        "colab_type": "code",
        "outputId": "79fa1b95-cb5f-4182-ee27-eadf377bf63d",
        "colab": {
          "base_uri": "https://localhost:8080/",
          "height": 35
        }
      },
      "source": [
        "model_1.evaluate_generator(test_generator)"
      ],
      "execution_count": 0,
      "outputs": [
        {
          "output_type": "execute_result",
          "data": {
            "text/plain": [
              "[165.07623291015625, 0.5316228866577148]"
            ]
          },
          "metadata": {
            "tags": []
          },
          "execution_count": 7
        }
      ]
    },
    {
      "cell_type": "code",
      "metadata": {
        "id": "7yv79znojpDU",
        "colab_type": "code",
        "colab": {}
      },
      "source": [
        "# Guardo el modelo\n",
        "model_1.save(\"modelo_regresion\")\n",
        "\n",
        "# Pesos\n",
        "model_1.save_weights(\"modelo_regresion_pesos\")"
      ],
      "execution_count": 0,
      "outputs": []
    },
    {
      "cell_type": "markdown",
      "metadata": {
        "id": "D8AyATdfrNVI",
        "colab_type": "text"
      },
      "source": [
        "### Graficas de desempeño"
      ]
    },
    {
      "cell_type": "code",
      "metadata": {
        "id": "88bCtqqnxuqm",
        "colab_type": "code",
        "outputId": "3c4ee4b6-307c-4da9-947b-5b33ee663d5f",
        "colab": {
          "base_uri": "https://localhost:8080/",
          "height": 573
        }
      },
      "source": [
        "plt.plot(historia1.history['auc'])\n",
        "plt.plot(historia1.history['val_auc'])\n",
        "plt.title('model auc')\n",
        "plt.ylabel('auc')\n",
        "plt.xlabel('epoch')\n",
        "plt.legend(['train', 'validation'], loc='upper left')\n",
        "plt.show()\n",
        "\n",
        "# summarize history for loss\n",
        "plt.plot(historia1.history['loss'])\n",
        "plt.plot(historia1.history['val_loss'])\n",
        "plt.title('model loss')\n",
        "plt.ylabel('loss')\n",
        "plt.xlabel('epoch')\n",
        "plt.legend(['train', 'validation'], loc='upper left')\n",
        "plt.show()"
      ],
      "execution_count": 0,
      "outputs": [
        {
          "output_type": "display_data",
          "data": {
            "image/png": "[encoded data removed]",
            "text/plain": [
              "<Figure size 432x288 with 1 Axes>"
            ]
          },
          "metadata": {
            "tags": [],
            "needs_background": "light"
          }
        },
        {
          "output_type": "display_data",
          "data": {
            "image/png": "[encoded data removed]",
            "text/plain": [
              "<Figure size 432x288 with 1 Axes>"
            ]
          },
          "metadata": {
            "tags": [],
            "needs_background": "light"
          }
        }
      ]
    },
    {
      "cell_type": "markdown",
      "metadata": {
        "id": "opDWmAM4ylR4",
        "colab_type": "text"
      },
      "source": [
        "# 2. Red Neuronal Convolucional creada"
      ]
    },
    {
      "cell_type": "code",
      "metadata": {
        "id": "zxRmfoqhyppn",
        "colab_type": "code",
        "outputId": "ed498d3e-01ee-4999-8268-2307d978ca62",
        "colab": {
          "base_uri": "https://localhost:8080/",
          "height": 70
        }
      },
      "source": [
        "# Estructuramos el DataAugmentacion para el train, validation y test\n",
        "\n",
        "# Generador Data Augmentacion en Train \n",
        "train_datagen = ImageDataGenerator(\n",
        "    rescale=1. / 127.5 - 1,#,                                    # \n",
        "    horizontal_flip=True,                                        #\n",
        "    rotation_range=90,                                           # Rotaciónn de la imagen en el rango [0,90]\n",
        "    brightness_range=[0.2,0.8],                                  #\n",
        "    zoom_range=[0.8,1.2])                                        # Zoom a la imagen (Si < 1 acerco, = 1 Misma imagen, > 1 Alejo)\n",
        "\n",
        "train_generator = train_datagen.flow_from_directory(  \n",
        "    train_data_dir,                                              # Directorio de datos de entrenamiento  \n",
        "    target_size=(img_width, img_height),                         # Dimensiones de las imagenes    \n",
        "    batch_size=batch_size,                                       # Particiones por imagenes                        \n",
        "    class_mode='binary')                                         # Tipo de clase de labels\n",
        "\n",
        "# Lectura de validation\n",
        "\n",
        "validation_datagen = ImageDataGenerator(rescale=1. / 127.5 - 1) \n",
        "\n",
        "validation_generator = validation_datagen.flow_from_directory(  \n",
        "    validation_data_dir,\n",
        "    target_size=(img_width, img_height),\n",
        "    batch_size=batch_size, \n",
        "    class_mode='binary') \n",
        "\n",
        "# Lectura de test\n",
        "test_datagen = ImageDataGenerator(rescale=1. / 127.5 - 1) \n",
        "test_generator = test_datagen.flow_from_directory(  \n",
        "    test_data_dir,\n",
        "    target_size=(img_width, img_height), \n",
        "    batch_size=batch_size, shuffle = False,\n",
        "    class_mode='binary') "
      ],
      "execution_count": 0,
      "outputs": [
        {
          "output_type": "stream",
          "text": [
            "Found 8008 images belonging to 2 classes.\n",
            "Found 2002 images belonging to 2 classes.\n",
            "Found 1002 images belonging to 2 classes.\n"
          ],
          "name": "stdout"
        }
      ]
    },
    {
      "cell_type": "code",
      "metadata": {
        "id": "21_42wVNyp7G",
        "colab_type": "code",
        "outputId": "bdd6205b-bdbf-4440-e163-73e79ccb299e",
        "colab": {
          "base_uri": "https://localhost:8080/",
          "height": 692
        }
      },
      "source": [
        "# Construcción de la red neuronal convolucional \n",
        "K.clear_session()\n",
        "model_2 = Sequential()                                                               #\n",
        "model_2.add(Conv2D(128, (3, 3), activation='relu', input_shape=(256, 256, 3)))        # Conv2D: Operacion de convolucion\n",
        "model_2.add(MaxPooling2D((2, 2)))                                                    # Maxpooling: Operacion para reducir la dimension de las variables de entrada\n",
        "model_2.add(Conv2D(64, (3, 3), activation='relu'))\n",
        "model_2.add(MaxPooling2D((2, 2)))                                                    # Maxpooling: Operacion para reducir la dimension de las variables de entrada\n",
        "model_2.add(Conv2D(32, (3, 3), activation='relu')) \n",
        "model_2.add(MaxPooling2D((2, 2)))                                                    # Maxpooling: Operacion para reducir la dimension de las variables de entrada\n",
        "model_2.add(Conv2D(16, (3, 3), activation='relu'))                                    #\n",
        "model_2.add(MaxPooling2D((2, 2)))                                                    #\n",
        "model_2.add(Conv2D(8, (3, 3), activation='relu'))                                   #\n",
        "\n",
        "model_2.add(Flatten())                                                               # Flatten: Pasar todo a una dimension\n",
        "model_2.add(Dense(64))                                                               # \n",
        "model_2.add(Activation('relu'))                                                      # \n",
        "model_2.add(Dropout(0.5))                                                            # \n",
        "model_2.add(Dense(1))                                                                # \n",
        "model_2.add(Activation('sigmoid'))                                                   #\n",
        "\n",
        "model_2.summary()                                                                    # Mirar arquitectura del modelo"
      ],
      "execution_count": 0,
      "outputs": [
        {
          "output_type": "stream",
          "text": [
            "Model: \"sequential_1\"\n",
            "_________________________________________________________________\n",
            "Layer (type)                 Output Shape              Param #   \n",
            "=================================================================\n",
            "conv2d_1 (Conv2D)            (None, 254, 254, 128)     3584      \n",
            "_________________________________________________________________\n",
            "max_pooling2d_1 (MaxPooling2 (None, 127, 127, 128)     0         \n",
            "_________________________________________________________________\n",
            "conv2d_2 (Conv2D)            (None, 125, 125, 64)      73792     \n",
            "_________________________________________________________________\n",
            "max_pooling2d_2 (MaxPooling2 (None, 62, 62, 64)        0         \n",
            "_________________________________________________________________\n",
            "conv2d_3 (Conv2D)            (None, 60, 60, 32)        18464     \n",
            "_________________________________________________________________\n",
            "max_pooling2d_3 (MaxPooling2 (None, 30, 30, 32)        0         \n",
            "_________________________________________________________________\n",
            "conv2d_4 (Conv2D)            (None, 28, 28, 16)        4624      \n",
            "_________________________________________________________________\n",
            "max_pooling2d_4 (MaxPooling2 (None, 14, 14, 16)        0         \n",
            "_________________________________________________________________\n",
            "conv2d_5 (Conv2D)            (None, 12, 12, 8)         1160      \n",
            "_________________________________________________________________\n",
            "flatten_1 (Flatten)          (None, 1152)              0         \n",
            "_________________________________________________________________\n",
            "dense_1 (Dense)              (None, 64)                73792     \n",
            "_________________________________________________________________\n",
            "activation_1 (Activation)    (None, 64)                0         \n",
            "_________________________________________________________________\n",
            "dropout_1 (Dropout)          (None, 64)                0         \n",
            "_________________________________________________________________\n",
            "dense_2 (Dense)              (None, 1)                 65        \n",
            "_________________________________________________________________\n",
            "activation_2 (Activation)    (None, 1)                 0         \n",
            "=================================================================\n",
            "Total params: 175,481\n",
            "Trainable params: 175,481\n",
            "Non-trainable params: 0\n",
            "_________________________________________________________________\n"
          ],
          "name": "stdout"
        }
      ]
    },
    {
      "cell_type": "code",
      "metadata": {
        "id": "LNaRNl0DvjRJ",
        "colab_type": "code",
        "outputId": "a5916048-2863-436f-994b-747f24b364d9",
        "colab": {
          "base_uri": "https://localhost:8080/",
          "height": 1000
        }
      },
      "source": [
        "# Compilacion y ejecución\n",
        "\n",
        "model_2.compile(loss='binary_crossentropy',       # Funcion de perdida                          \n",
        "              optimizer=tf.keras.optimizers.Adam(learning_rate=0.0001),                # Optimizador de la red rmsprop\n",
        "              metrics=[tf.keras.metrics.AUC()])   # Metrica a utilizar \n",
        "          \n",
        "\n",
        "historia2 = model_2.fit_generator(\n",
        "        train_generator,                        \n",
        "        steps_per_epoch=nb_train_samples//batch_size,                    \n",
        "        epochs=80,                                 \n",
        "        validation_data=validation_generator)  \n",
        "     "
      ],
      "execution_count": 0,
      "outputs": [
        {
          "output_type": "stream",
          "text": [
            "Epoch 1/80\n",
            "125/125 [==============================] - 90s 721ms/step - loss: 0.8356 - auc: 0.4925 - val_loss: 0.6818 - val_auc: 0.4947\n",
            "Epoch 2/80\n",
            "125/125 [==============================] - 77s 616ms/step - loss: 0.7004 - auc: 0.5078 - val_loss: 0.6876 - val_auc: 0.5171\n",
            "Epoch 3/80\n",
            "125/125 [==============================] - 85s 680ms/step - loss: 0.6828 - auc: 0.5259 - val_loss: 0.6711 - val_auc: 0.5375\n",
            "Epoch 4/80\n",
            "125/125 [==============================] - 77s 616ms/step - loss: 0.6759 - auc: 0.5431 - val_loss: 0.5980 - val_auc: 0.5491\n",
            "Epoch 5/80\n",
            "125/125 [==============================] - 85s 681ms/step - loss: 0.6753 - auc: 0.5553 - val_loss: 0.5812 - val_auc: 0.5581\n",
            "Epoch 6/80\n",
            "125/125 [==============================] - 77s 616ms/step - loss: 0.6793 - auc: 0.5602 - val_loss: 0.7405 - val_auc: 0.5629\n",
            "Epoch 7/80\n",
            "125/125 [==============================] - 84s 673ms/step - loss: 0.6646 - auc: 0.5661 - val_loss: 0.5282 - val_auc: 0.5703\n",
            "Epoch 8/80\n",
            "125/125 [==============================] - 80s 644ms/step - loss: 0.6591 - auc: 0.5738 - val_loss: 0.5595 - val_auc: 0.5784\n",
            "Epoch 9/80\n",
            "125/125 [==============================] - 84s 675ms/step - loss: 0.6588 - auc: 0.5816 - val_loss: 0.7674 - val_auc: 0.5861\n",
            "Epoch 10/80\n",
            "125/125 [==============================] - 78s 626ms/step - loss: 0.6361 - auc: 0.5913 - val_loss: 0.7310 - val_auc: 0.5972\n",
            "Epoch 11/80\n",
            "125/125 [==============================] - 83s 665ms/step - loss: 0.6391 - auc: 0.6017 - val_loss: 0.7332 - val_auc: 0.6055\n",
            "Epoch 12/80\n",
            "125/125 [==============================] - 78s 622ms/step - loss: 0.6426 - auc: 0.6084 - val_loss: 0.6113 - val_auc: 0.6126\n",
            "Epoch 13/80\n",
            "125/125 [==============================] - 83s 661ms/step - loss: 0.6313 - auc: 0.6168 - val_loss: 0.5676 - val_auc: 0.6202\n",
            "Epoch 14/80\n",
            "125/125 [==============================] - 78s 624ms/step - loss: 0.6294 - auc: 0.6231 - val_loss: 1.2469 - val_auc: 0.6257\n",
            "Epoch 15/80\n",
            "125/125 [==============================] - 82s 654ms/step - loss: 0.6289 - auc: 0.6284 - val_loss: 0.3257 - val_auc: 0.6303\n",
            "Epoch 16/80\n",
            "125/125 [==============================] - 78s 625ms/step - loss: 0.6384 - auc: 0.6317 - val_loss: 0.7310 - val_auc: 0.6340\n",
            "Epoch 17/80\n",
            "125/125 [==============================] - 82s 652ms/step - loss: 0.6198 - auc: 0.6369 - val_loss: 0.5889 - val_auc: 0.6392\n",
            "Epoch 18/80\n",
            "125/125 [==============================] - 79s 629ms/step - loss: 0.6251 - auc: 0.6411 - val_loss: 0.5736 - val_auc: 0.6434\n",
            "Epoch 19/80\n",
            "125/125 [==============================] - 80s 640ms/step - loss: 0.6233 - auc: 0.6456 - val_loss: 0.5681 - val_auc: 0.6472\n",
            "Epoch 20/80\n",
            "125/125 [==============================] - 79s 633ms/step - loss: 0.6131 - auc: 0.6492 - val_loss: 0.7581 - val_auc: 0.6514\n",
            "Epoch 21/80\n",
            "125/125 [==============================] - 80s 643ms/step - loss: 0.6188 - auc: 0.6529 - val_loss: 0.7547 - val_auc: 0.6553\n",
            "Epoch 22/80\n",
            "125/125 [==============================] - 79s 635ms/step - loss: 0.6077 - auc: 0.6577 - val_loss: 0.4309 - val_auc: 0.6598\n",
            "Epoch 23/80\n",
            "125/125 [==============================] - 81s 645ms/step - loss: 0.6021 - auc: 0.6622 - val_loss: 0.5905 - val_auc: 0.6642\n",
            "Epoch 24/80\n",
            "125/125 [==============================] - 80s 640ms/step - loss: 0.5969 - auc: 0.6662 - val_loss: 0.3561 - val_auc: 0.6684\n",
            "Epoch 25/80\n",
            "125/125 [==============================] - 80s 639ms/step - loss: 0.5852 - auc: 0.6706 - val_loss: 0.3971 - val_auc: 0.6723\n",
            "Epoch 26/80\n",
            "125/125 [==============================] - 80s 637ms/step - loss: 0.6030 - auc: 0.6734 - val_loss: 0.5993 - val_auc: 0.6752\n",
            "Epoch 27/80\n",
            "125/125 [==============================] - 80s 636ms/step - loss: 0.5811 - auc: 0.6772 - val_loss: 0.4585 - val_auc: 0.6793\n",
            "Epoch 28/80\n",
            "125/125 [==============================] - 80s 639ms/step - loss: 0.6028 - auc: 0.6805 - val_loss: 0.3921 - val_auc: 0.6819\n",
            "Epoch 29/80\n",
            "125/125 [==============================] - 80s 642ms/step - loss: 0.5852 - auc: 0.6834 - val_loss: 0.8460 - val_auc: 0.6849\n",
            "Epoch 30/80\n",
            "125/125 [==============================] - 80s 638ms/step - loss: 0.5880 - auc: 0.6861 - val_loss: 0.6793 - val_auc: 0.6872\n",
            "Epoch 31/80\n",
            "125/125 [==============================] - 79s 629ms/step - loss: 0.5835 - auc: 0.6889 - val_loss: 0.5038 - val_auc: 0.6902\n",
            "Epoch 32/80\n",
            "125/125 [==============================] - 80s 639ms/step - loss: 0.5818 - auc: 0.6918 - val_loss: 0.6058 - val_auc: 0.6934\n",
            "Epoch 33/80\n",
            "125/125 [==============================] - 80s 639ms/step - loss: 0.5757 - auc: 0.6949 - val_loss: 0.7435 - val_auc: 0.6960\n",
            "Epoch 34/80\n",
            "125/125 [==============================] - 79s 633ms/step - loss: 0.5850 - auc: 0.6974 - val_loss: 0.3300 - val_auc: 0.6987\n",
            "Epoch 35/80\n",
            "125/125 [==============================] - 79s 636ms/step - loss: 0.5695 - auc: 0.7002 - val_loss: 0.3798 - val_auc: 0.7014\n",
            "Epoch 36/80\n",
            "125/125 [==============================] - 79s 634ms/step - loss: 0.5723 - auc: 0.7027 - val_loss: 0.5980 - val_auc: 0.7040\n",
            "Epoch 37/80\n",
            "125/125 [==============================] - 80s 639ms/step - loss: 0.5708 - auc: 0.7054 - val_loss: 0.7654 - val_auc: 0.7066\n",
            "Epoch 38/80\n",
            "125/125 [==============================] - 81s 646ms/step - loss: 0.5567 - auc: 0.7081 - val_loss: 0.3502 - val_auc: 0.7094\n",
            "Epoch 39/80\n",
            "125/125 [==============================] - 81s 649ms/step - loss: 0.5677 - auc: 0.7107 - val_loss: 0.8424 - val_auc: 0.7117\n",
            "Epoch 40/80\n",
            "125/125 [==============================] - 81s 647ms/step - loss: 0.5464 - auc: 0.7129 - val_loss: 0.6064 - val_auc: 0.7140\n",
            "Epoch 41/80\n",
            "125/125 [==============================] - 82s 654ms/step - loss: 0.5612 - auc: 0.7147 - val_loss: 0.3930 - val_auc: 0.7159\n",
            "Epoch 42/80\n",
            "125/125 [==============================] - 81s 649ms/step - loss: 0.5494 - auc: 0.7171 - val_loss: 0.4259 - val_auc: 0.7183\n",
            "Epoch 43/80\n",
            "125/125 [==============================] - 81s 645ms/step - loss: 0.5672 - auc: 0.7192 - val_loss: 0.5200 - val_auc: 0.7204\n",
            "Epoch 44/80\n",
            "125/125 [==============================] - 81s 651ms/step - loss: 0.5523 - auc: 0.7214 - val_loss: 0.6035 - val_auc: 0.7225\n",
            "Epoch 45/80\n",
            "125/125 [==============================] - 80s 640ms/step - loss: 0.5428 - auc: 0.7235 - val_loss: 0.7481 - val_auc: 0.7246\n",
            "Epoch 46/80\n",
            "125/125 [==============================] - 79s 634ms/step - loss: 0.5554 - auc: 0.7255 - val_loss: 0.5465 - val_auc: 0.7262\n",
            "Epoch 47/80\n",
            "125/125 [==============================] - 79s 634ms/step - loss: 0.5473 - auc: 0.7270 - val_loss: 0.4818 - val_auc: 0.7280\n",
            "Epoch 48/80\n",
            "125/125 [==============================] - 80s 642ms/step - loss: 0.5313 - auc: 0.7289 - val_loss: 0.8399 - val_auc: 0.7300\n",
            "Epoch 49/80\n",
            "125/125 [==============================] - 80s 638ms/step - loss: 0.5406 - auc: 0.7310 - val_loss: 0.6114 - val_auc: 0.7320\n",
            "Epoch 50/80\n",
            "125/125 [==============================] - 79s 634ms/step - loss: 0.5456 - auc: 0.7328 - val_loss: 0.6138 - val_auc: 0.7337\n",
            "Epoch 51/80\n",
            "125/125 [==============================] - 80s 639ms/step - loss: 0.5316 - auc: 0.7346 - val_loss: 0.1643 - val_auc: 0.7354\n",
            "Epoch 52/80\n",
            "125/125 [==============================] - 80s 638ms/step - loss: 0.5207 - auc: 0.7363 - val_loss: 0.9894 - val_auc: 0.7372\n",
            "Epoch 53/80\n",
            "125/125 [==============================] - 79s 634ms/step - loss: 0.5228 - auc: 0.7381 - val_loss: 0.4602 - val_auc: 0.7391\n",
            "Epoch 54/80\n",
            "125/125 [==============================] - 80s 638ms/step - loss: 0.5323 - auc: 0.7399 - val_loss: 0.5352 - val_auc: 0.7407\n",
            "Epoch 55/80\n",
            "125/125 [==============================] - 80s 638ms/step - loss: 0.5158 - auc: 0.7416 - val_loss: 0.4345 - val_auc: 0.7425\n",
            "Epoch 56/80\n",
            "125/125 [==============================] - 80s 637ms/step - loss: 0.5203 - auc: 0.7433 - val_loss: 0.6954 - val_auc: 0.7441\n",
            "Epoch 57/80\n",
            "125/125 [==============================] - 79s 636ms/step - loss: 0.5334 - auc: 0.7449 - val_loss: 0.4198 - val_auc: 0.7457\n",
            "Epoch 58/80\n",
            "125/125 [==============================] - 79s 636ms/step - loss: 0.5175 - auc: 0.7465 - val_loss: 0.3764 - val_auc: 0.7473\n",
            "Epoch 59/80\n",
            "125/125 [==============================] - 79s 635ms/step - loss: 0.5143 - auc: 0.7481 - val_loss: 0.3730 - val_auc: 0.7489\n",
            "Epoch 60/80\n",
            "125/125 [==============================] - 79s 635ms/step - loss: 0.5178 - auc: 0.7498 - val_loss: 0.2631 - val_auc: 0.7505\n",
            "Epoch 61/80\n",
            "125/125 [==============================] - 79s 634ms/step - loss: 0.5174 - auc: 0.7513 - val_loss: 0.2407 - val_auc: 0.7521\n",
            "Epoch 62/80\n",
            "125/125 [==============================] - 79s 636ms/step - loss: 0.5086 - auc: 0.7529 - val_loss: 0.2998 - val_auc: 0.7537\n",
            "Epoch 63/80\n",
            "125/125 [==============================] - 80s 643ms/step - loss: 0.4969 - auc: 0.7545 - val_loss: 0.1790 - val_auc: 0.7553\n",
            "Epoch 64/80\n",
            "125/125 [==============================] - 81s 650ms/step - loss: 0.5101 - auc: 0.7562 - val_loss: 0.4372 - val_auc: 0.7568\n",
            "Epoch 65/80\n",
            "125/125 [==============================] - 82s 655ms/step - loss: 0.4990 - auc: 0.7576 - val_loss: 0.5950 - val_auc: 0.7584\n",
            "Epoch 66/80\n",
            "125/125 [==============================] - 83s 664ms/step - loss: 0.4995 - auc: 0.7591 - val_loss: 0.4017 - val_auc: 0.7599\n",
            "Epoch 67/80\n",
            "125/125 [==============================] - 84s 674ms/step - loss: 0.5068 - auc: 0.7606 - val_loss: 1.2508 - val_auc: 0.7612\n",
            "Epoch 68/80\n",
            "125/125 [==============================] - 85s 680ms/step - loss: 0.5046 - auc: 0.7619 - val_loss: 0.5506 - val_auc: 0.7625\n",
            "Epoch 69/80\n",
            "125/125 [==============================] - 83s 667ms/step - loss: 0.5028 - auc: 0.7632 - val_loss: 0.3076 - val_auc: 0.7639\n",
            "Epoch 70/80\n",
            "125/125 [==============================] - 83s 665ms/step - loss: 0.4920 - auc: 0.7646 - val_loss: 0.3625 - val_auc: 0.7654\n",
            "Epoch 71/80\n",
            "125/125 [==============================] - 85s 680ms/step - loss: 0.4913 - auc: 0.7661 - val_loss: 0.4030 - val_auc: 0.7668\n",
            "Epoch 72/80\n",
            "125/125 [==============================] - 85s 679ms/step - loss: 0.4849 - auc: 0.7674 - val_loss: 0.4247 - val_auc: 0.7681\n",
            "Epoch 73/80\n",
            "125/125 [==============================] - 86s 687ms/step - loss: 0.5043 - auc: 0.7687 - val_loss: 0.6236 - val_auc: 0.7693\n",
            "Epoch 74/80\n",
            "125/125 [==============================] - 86s 687ms/step - loss: 0.4788 - auc: 0.7700 - val_loss: 0.6890 - val_auc: 0.7707\n",
            "Epoch 75/80\n",
            "125/125 [==============================] - 86s 690ms/step - loss: 0.4762 - auc: 0.7713 - val_loss: 0.5218 - val_auc: 0.7720\n",
            "Epoch 76/80\n",
            "125/125 [==============================] - 85s 676ms/step - loss: 0.4816 - auc: 0.7725 - val_loss: 0.1992 - val_auc: 0.7731\n",
            "Epoch 77/80\n",
            "125/125 [==============================] - 82s 659ms/step - loss: 0.4806 - auc: 0.7737 - val_loss: 0.5895 - val_auc: 0.7743\n",
            "Epoch 78/80\n",
            "125/125 [==============================] - 82s 656ms/step - loss: 0.4894 - auc: 0.7750 - val_loss: 0.5873 - val_auc: 0.7756\n",
            "Epoch 79/80\n",
            "125/125 [==============================] - 81s 648ms/step - loss: 0.4775 - auc: 0.7761 - val_loss: 0.2247 - val_auc: 0.7767\n",
            "Epoch 80/80\n",
            "125/125 [==============================] - 80s 641ms/step - loss: 0.4871 - auc: 0.7772 - val_loss: 0.6587 - val_auc: 0.7777\n"
          ],
          "name": "stdout"
        }
      ]
    },
    {
      "cell_type": "code",
      "metadata": {
        "id": "y4Nq3kVsW5er",
        "colab_type": "code",
        "outputId": "ef40d324-dc8f-42a7-e760-e44cf6b4ccb5",
        "colab": {
          "base_uri": "https://localhost:8080/",
          "height": 35
        }
      },
      "source": [
        "model_2.evaluate_generator(test_generator)"
      ],
      "execution_count": 0,
      "outputs": [
        {
          "output_type": "execute_result",
          "data": {
            "text/plain": [
              "[0.3908633887767792, 0.7780877947807312]"
            ]
          },
          "metadata": {
            "tags": []
          },
          "execution_count": 12
        }
      ]
    },
    {
      "cell_type": "code",
      "metadata": {
        "id": "_qDbC5PEPIkW",
        "colab_type": "code",
        "colab": {}
      },
      "source": [
        "# Guardo el modelo\n",
        "model_2.save(\"modelo_2_CNN.h5\")\n",
        "model_2.save_weights(\"modelo_2_CNN_pesos\")"
      ],
      "execution_count": 0,
      "outputs": []
    },
    {
      "cell_type": "markdown",
      "metadata": {
        "id": "bxCX5eIAPFB9",
        "colab_type": "text"
      },
      "source": [
        "### Graficas de desempeño"
      ]
    },
    {
      "cell_type": "code",
      "metadata": {
        "id": "moQoOri2OFIU",
        "colab_type": "code",
        "outputId": "c89c8aa1-1873-4ddb-ee18-06eee6274094",
        "colab": {
          "base_uri": "https://localhost:8080/",
          "height": 573
        }
      },
      "source": [
        "plt.plot(historia2.history['auc'])\n",
        "plt.plot(historia2.history['val_auc'])\n",
        "plt.title('model auc')\n",
        "plt.ylabel('auc')\n",
        "plt.xlabel('epoch')\n",
        "plt.legend(['train', 'validation'], loc='upper left')\n",
        "plt.show()\n",
        "\n",
        "# summarize history for loss\n",
        "plt.plot(historia2.history['loss'])\n",
        "plt.plot(historia2.history['val_loss'])\n",
        "plt.title('model loss')\n",
        "plt.ylabel('loss')\n",
        "plt.xlabel('epoch')\n",
        "plt.legend(['train', 'validation'], loc='upper left')\n",
        "plt.show()"
      ],
      "execution_count": 0,
      "outputs": [
        {
          "output_type": "display_data",
          "data": {
            "image/png": "[encoded data removed]",
            "text/plain": [
              "<Figure size 432x288 with 1 Axes>"
            ]
          },
          "metadata": {
            "tags": [],
            "needs_background": "light"
          }
        },
        {
          "output_type": "display_data",
          "data": {
            "image/png": "[encoded data removed]",
            "text/plain": [
              "<Figure size 432x288 with 1 Axes>"
            ]
          },
          "metadata": {
            "tags": [],
            "needs_background": "light"
          }
        }
      ]
    },
    {
      "cell_type": "markdown",
      "metadata": {
        "id": "oD2YXMFhyqC_",
        "colab_type": "text"
      },
      "source": [
        "# 3. Red Neuronal Convolucional Pre-Entrenada (ResNet50)"
      ]
    },
    {
      "cell_type": "code",
      "metadata": {
        "id": "n8M9YQcNPsoC",
        "colab_type": "code",
        "outputId": "24f25514-021c-4038-bd24-13bbd48b5e74",
        "colab": {
          "base_uri": "https://localhost:8080/",
          "height": 70
        }
      },
      "source": [
        "# Estructuramos el DataAugmentacion para el train, validation y test\n",
        "\n",
        "# Generador Data Augmentacion en Train \n",
        "train_datagen = ImageDataGenerator(\n",
        "    rescale=1. / 127.5 - 1,                                      # \n",
        "    horizontal_flip=True,                                        #\n",
        "    rotation_range=90,                                           # Rotaciónn de la imagen en el rango [0,90]\n",
        "    brightness_range=[0.2,0.8],                                  #\n",
        "    zoom_range=[0.8,1.2])                                        # Zoom a la imagen (Si < 1 acerco, = 1 Misma imagen, > 1 Alejo)\n",
        "\n",
        "train_generator = train_datagen.flow_from_directory(  \n",
        "    train_data_dir,                                              # Directorio de datos de entrenamiento  \n",
        "    target_size=(img_width, img_height),                         # Dimensiones de las imagenes    \n",
        "    batch_size=batch_size,                                       # Particiones por imagenes\n",
        "    shuffle = False,                                                               \n",
        "    class_mode='binary')                                         # Tipo de clase de labels\n",
        "\n",
        "# Lectura de validation\n",
        "\n",
        "validation_datagen = ImageDataGenerator(rescale=1. / 127.5 - 1) \n",
        "\n",
        "validation_generator = validation_datagen.flow_from_directory(  \n",
        "    validation_data_dir,\n",
        "    target_size=(img_width, img_height),\n",
        "    batch_size=batch_size, shuffle = False,\n",
        "    class_mode='binary') \n",
        "\n",
        "# Lectura de test\n",
        "test_datagen = ImageDataGenerator(rescale= 1. / 127.5 - 1) \n",
        "test_generator = test_datagen.flow_from_directory(  \n",
        "    test_data_dir,\n",
        "    target_size=(img_width, img_height), \n",
        "    batch_size=2, shuffle = False,\n",
        "    class_mode='binary') "
      ],
      "execution_count": 0,
      "outputs": [
        {
          "output_type": "stream",
          "text": [
            "Found 8008 images belonging to 2 classes.\n",
            "Found 2002 images belonging to 2 classes.\n",
            "Found 1002 images belonging to 2 classes.\n"
          ],
          "name": "stdout"
        }
      ]
    },
    {
      "cell_type": "code",
      "metadata": {
        "id": "uguWQjlPy0ko",
        "colab_type": "code",
        "outputId": "f264c0d8-1545-4f42-98f1-e3d0a450e951",
        "colab": {
          "base_uri": "https://localhost:8080/",
          "height": 1000
        }
      },
      "source": [
        "import tensorflow as tf\n",
        "K.clear_session()\n",
        "# Instacia del modelo y configuración\n",
        "base_model = tf.keras.applications.resnet50.ResNet50(weights= 'imagenet', \n",
        "                                            include_top=False,              # False es para que yo ponga la salida\n",
        "                                            input_shape= (256,256,3))\n",
        "\n",
        "x = base_model.output                                               # salida de resnet\n",
        "x = tf.keras.layers.GlobalAveragePooling2D()(x)                     # operacion de pooling\n",
        "x = tf.keras.layers.Dropout(0.5)(x)                                 # regularizar\n",
        "\n",
        "predictions = tf.keras.layers.Dense(1,                              # numero de clases\n",
        "                    activation= 'sigmoid')(x)\n",
        "# \n",
        "model_3 = tf.keras.models.Model(inputs = base_model.input, \n",
        "                              outputs = predictions)\n",
        "\n",
        "\n",
        "\n",
        "model_3.compile(loss='binary_crossentropy',                                       # Funcion de perdida -> si es categorical, organizar el data_generator\n",
        "                optimizer=tf.keras.optimizers.Adam(learning_rate=0.0001),         # Optimizar los pesos de la red\n",
        "                metrics=[tf.keras.metrics.AUC()])                                 # Metrica AUC para desempeño \n",
        "                           \n",
        "\n",
        "\n",
        "model_3.summary()                                                  # Mirar arquitectura del modelo resnet50"
      ],
      "execution_count": 0,
      "outputs": [
        {
          "output_type": "stream",
          "text": [
            "Downloading data from https://storage.googleapis.com/tensorflow/keras-applications/resnet/resnet50_weights_tf_dim_ordering_tf_kernels_notop.h5\n",
            "94773248/94765736 [==============================] - 1s 0us/step\n",
            "Model: \"model\"\n",
            "__________________________________________________________________________________________________\n",
            "Layer (type)                    Output Shape         Param #     Connected to                     \n",
            "==================================================================================================\n",
            "input_1 (InputLayer)            [(None, 256, 256, 3) 0                                            \n",
            "__________________________________________________________________________________________________\n",
            "conv1_pad (ZeroPadding2D)       (None, 262, 262, 3)  0           input_1[0][0]                    \n",
            "__________________________________________________________________________________________________\n",
            "conv1_conv (Conv2D)             (None, 128, 128, 64) 9472        conv1_pad[0][0]                  \n",
            "__________________________________________________________________________________________________\n",
            "conv1_bn (BatchNormalization)   (None, 128, 128, 64) 256         conv1_conv[0][0]                 \n",
            "__________________________________________________________________________________________________\n",
            "conv1_relu (Activation)         (None, 128, 128, 64) 0           conv1_bn[0][0]                   \n",
            "__________________________________________________________________________________________________\n",
            "pool1_pad (ZeroPadding2D)       (None, 130, 130, 64) 0           conv1_relu[0][0]                 \n",
            "__________________________________________________________________________________________________\n",
            "pool1_pool (MaxPooling2D)       (None, 64, 64, 64)   0           pool1_pad[0][0]                  \n",
            "__________________________________________________________________________________________________\n",
            "conv2_block1_1_conv (Conv2D)    (None, 64, 64, 64)   4160        pool1_pool[0][0]                 \n",
            "__________________________________________________________________________________________________\n",
            "conv2_block1_1_bn (BatchNormali (None, 64, 64, 64)   256         conv2_block1_1_conv[0][0]        \n",
            "__________________________________________________________________________________________________\n",
            "conv2_block1_1_relu (Activation (None, 64, 64, 64)   0           conv2_block1_1_bn[0][0]          \n",
            "__________________________________________________________________________________________________\n",
            "conv2_block1_2_conv (Conv2D)    (None, 64, 64, 64)   36928       conv2_block1_1_relu[0][0]        \n",
            "__________________________________________________________________________________________________\n",
            "conv2_block1_2_bn (BatchNormali (None, 64, 64, 64)   256         conv2_block1_2_conv[0][0]        \n",
            "__________________________________________________________________________________________________\n",
            "conv2_block1_2_relu (Activation (None, 64, 64, 64)   0           conv2_block1_2_bn[0][0]          \n",
            "__________________________________________________________________________________________________\n",
            "conv2_block1_0_conv (Conv2D)    (None, 64, 64, 256)  16640       pool1_pool[0][0]                 \n",
            "__________________________________________________________________________________________________\n",
            "conv2_block1_3_conv (Conv2D)    (None, 64, 64, 256)  16640       conv2_block1_2_relu[0][0]        \n",
            "__________________________________________________________________________________________________\n",
            "conv2_block1_0_bn (BatchNormali (None, 64, 64, 256)  1024        conv2_block1_0_conv[0][0]        \n",
            "__________________________________________________________________________________________________\n",
            "conv2_block1_3_bn (BatchNormali (None, 64, 64, 256)  1024        conv2_block1_3_conv[0][0]        \n",
            "__________________________________________________________________________________________________\n",
            "conv2_block1_add (Add)          (None, 64, 64, 256)  0           conv2_block1_0_bn[0][0]          \n",
            "                                                                 conv2_block1_3_bn[0][0]          \n",
            "__________________________________________________________________________________________________\n",
            "conv2_block1_out (Activation)   (None, 64, 64, 256)  0           conv2_block1_add[0][0]           \n",
            "__________________________________________________________________________________________________\n",
            "conv2_block2_1_conv (Conv2D)    (None, 64, 64, 64)   16448       conv2_block1_out[0][0]           \n",
            "__________________________________________________________________________________________________\n",
            "conv2_block2_1_bn (BatchNormali (None, 64, 64, 64)   256         conv2_block2_1_conv[0][0]        \n",
            "__________________________________________________________________________________________________\n",
            "conv2_block2_1_relu (Activation (None, 64, 64, 64)   0           conv2_block2_1_bn[0][0]          \n",
            "__________________________________________________________________________________________________\n",
            "conv2_block2_2_conv (Conv2D)    (None, 64, 64, 64)   36928       conv2_block2_1_relu[0][0]        \n",
            "__________________________________________________________________________________________________\n",
            "conv2_block2_2_bn (BatchNormali (None, 64, 64, 64)   256         conv2_block2_2_conv[0][0]        \n",
            "__________________________________________________________________________________________________\n",
            "conv2_block2_2_relu (Activation (None, 64, 64, 64)   0           conv2_block2_2_bn[0][0]          \n",
            "__________________________________________________________________________________________________\n",
            "conv2_block2_3_conv (Conv2D)    (None, 64, 64, 256)  16640       conv2_block2_2_relu[0][0]        \n",
            "__________________________________________________________________________________________________\n",
            "conv2_block2_3_bn (BatchNormali (None, 64, 64, 256)  1024        conv2_block2_3_conv[0][0]        \n",
            "__________________________________________________________________________________________________\n",
            "conv2_block2_add (Add)          (None, 64, 64, 256)  0           conv2_block1_out[0][0]           \n",
            "                                                                 conv2_block2_3_bn[0][0]          \n",
            "__________________________________________________________________________________________________\n",
            "conv2_block2_out (Activation)   (None, 64, 64, 256)  0           conv2_block2_add[0][0]           \n",
            "__________________________________________________________________________________________________\n",
            "conv2_block3_1_conv (Conv2D)    (None, 64, 64, 64)   16448       conv2_block2_out[0][0]           \n",
            "__________________________________________________________________________________________________\n",
            "conv2_block3_1_bn (BatchNormali (None, 64, 64, 64)   256         conv2_block3_1_conv[0][0]        \n",
            "__________________________________________________________________________________________________\n",
            "conv2_block3_1_relu (Activation (None, 64, 64, 64)   0           conv2_block3_1_bn[0][0]          \n",
            "__________________________________________________________________________________________________\n",
            "conv2_block3_2_conv (Conv2D)    (None, 64, 64, 64)   36928       conv2_block3_1_relu[0][0]        \n",
            "__________________________________________________________________________________________________\n",
            "conv2_block3_2_bn (BatchNormali (None, 64, 64, 64)   256         conv2_block3_2_conv[0][0]        \n",
            "__________________________________________________________________________________________________\n",
            "conv2_block3_2_relu (Activation (None, 64, 64, 64)   0           conv2_block3_2_bn[0][0]          \n",
            "__________________________________________________________________________________________________\n",
            "conv2_block3_3_conv (Conv2D)    (None, 64, 64, 256)  16640       conv2_block3_2_relu[0][0]        \n",
            "__________________________________________________________________________________________________\n",
            "conv2_block3_3_bn (BatchNormali (None, 64, 64, 256)  1024        conv2_block3_3_conv[0][0]        \n",
            "__________________________________________________________________________________________________\n",
            "conv2_block3_add (Add)          (None, 64, 64, 256)  0           conv2_block2_out[0][0]           \n",
            "                                                                 conv2_block3_3_bn[0][0]          \n",
            "__________________________________________________________________________________________________\n",
            "conv2_block3_out (Activation)   (None, 64, 64, 256)  0           conv2_block3_add[0][0]           \n",
            "__________________________________________________________________________________________________\n",
            "conv3_block1_1_conv (Conv2D)    (None, 32, 32, 128)  32896       conv2_block3_out[0][0]           \n",
            "__________________________________________________________________________________________________\n",
            "conv3_block1_1_bn (BatchNormali (None, 32, 32, 128)  512         conv3_block1_1_conv[0][0]        \n",
            "__________________________________________________________________________________________________\n",
            "conv3_block1_1_relu (Activation (None, 32, 32, 128)  0           conv3_block1_1_bn[0][0]          \n",
            "__________________________________________________________________________________________________\n",
            "conv3_block1_2_conv (Conv2D)    (None, 32, 32, 128)  147584      conv3_block1_1_relu[0][0]        \n",
            "__________________________________________________________________________________________________\n",
            "conv3_block1_2_bn (BatchNormali (None, 32, 32, 128)  512         conv3_block1_2_conv[0][0]        \n",
            "__________________________________________________________________________________________________\n",
            "conv3_block1_2_relu (Activation (None, 32, 32, 128)  0           conv3_block1_2_bn[0][0]          \n",
            "__________________________________________________________________________________________________\n",
            "conv3_block1_0_conv (Conv2D)    (None, 32, 32, 512)  131584      conv2_block3_out[0][0]           \n",
            "__________________________________________________________________________________________________\n",
            "conv3_block1_3_conv (Conv2D)    (None, 32, 32, 512)  66048       conv3_block1_2_relu[0][0]        \n",
            "__________________________________________________________________________________________________\n",
            "conv3_block1_0_bn (BatchNormali (None, 32, 32, 512)  2048        conv3_block1_0_conv[0][0]        \n",
            "__________________________________________________________________________________________________\n",
            "conv3_block1_3_bn (BatchNormali (None, 32, 32, 512)  2048        conv3_block1_3_conv[0][0]        \n",
            "__________________________________________________________________________________________________\n",
            "conv3_block1_add (Add)          (None, 32, 32, 512)  0           conv3_block1_0_bn[0][0]          \n",
            "                                                                 conv3_block1_3_bn[0][0]          \n",
            "__________________________________________________________________________________________________\n",
            "conv3_block1_out (Activation)   (None, 32, 32, 512)  0           conv3_block1_add[0][0]           \n",
            "__________________________________________________________________________________________________\n",
            "conv3_block2_1_conv (Conv2D)    (None, 32, 32, 128)  65664       conv3_block1_out[0][0]           \n",
            "__________________________________________________________________________________________________\n",
            "conv3_block2_1_bn (BatchNormali (None, 32, 32, 128)  512         conv3_block2_1_conv[0][0]        \n",
            "__________________________________________________________________________________________________\n",
            "conv3_block2_1_relu (Activation (None, 32, 32, 128)  0           conv3_block2_1_bn[0][0]          \n",
            "__________________________________________________________________________________________________\n",
            "conv3_block2_2_conv (Conv2D)    (None, 32, 32, 128)  147584      conv3_block2_1_relu[0][0]        \n",
            "__________________________________________________________________________________________________\n",
            "conv3_block2_2_bn (BatchNormali (None, 32, 32, 128)  512         conv3_block2_2_conv[0][0]        \n",
            "__________________________________________________________________________________________________\n",
            "conv3_block2_2_relu (Activation (None, 32, 32, 128)  0           conv3_block2_2_bn[0][0]          \n",
            "__________________________________________________________________________________________________\n",
            "conv3_block2_3_conv (Conv2D)    (None, 32, 32, 512)  66048       conv3_block2_2_relu[0][0]        \n",
            "__________________________________________________________________________________________________\n",
            "conv3_block2_3_bn (BatchNormali (None, 32, 32, 512)  2048        conv3_block2_3_conv[0][0]        \n",
            "__________________________________________________________________________________________________\n",
            "conv3_block2_add (Add)          (None, 32, 32, 512)  0           conv3_block1_out[0][0]           \n",
            "                                                                 conv3_block2_3_bn[0][0]          \n",
            "__________________________________________________________________________________________________\n",
            "conv3_block2_out (Activation)   (None, 32, 32, 512)  0           conv3_block2_add[0][0]           \n",
            "__________________________________________________________________________________________________\n",
            "conv3_block3_1_conv (Conv2D)    (None, 32, 32, 128)  65664       conv3_block2_out[0][0]           \n",
            "__________________________________________________________________________________________________\n",
            "conv3_block3_1_bn (BatchNormali (None, 32, 32, 128)  512         conv3_block3_1_conv[0][0]        \n",
            "__________________________________________________________________________________________________\n",
            "conv3_block3_1_relu (Activation (None, 32, 32, 128)  0           conv3_block3_1_bn[0][0]          \n",
            "__________________________________________________________________________________________________\n",
            "conv3_block3_2_conv (Conv2D)    (None, 32, 32, 128)  147584      conv3_block3_1_relu[0][0]        \n",
            "__________________________________________________________________________________________________\n",
            "conv3_block3_2_bn (BatchNormali (None, 32, 32, 128)  512         conv3_block3_2_conv[0][0]        \n",
            "__________________________________________________________________________________________________\n",
            "conv3_block3_2_relu (Activation (None, 32, 32, 128)  0           conv3_block3_2_bn[0][0]          \n",
            "__________________________________________________________________________________________________\n",
            "conv3_block3_3_conv (Conv2D)    (None, 32, 32, 512)  66048       conv3_block3_2_relu[0][0]        \n",
            "__________________________________________________________________________________________________\n",
            "conv3_block3_3_bn (BatchNormali (None, 32, 32, 512)  2048        conv3_block3_3_conv[0][0]        \n",
            "__________________________________________________________________________________________________\n",
            "conv3_block3_add (Add)          (None, 32, 32, 512)  0           conv3_block2_out[0][0]           \n",
            "                                                                 conv3_block3_3_bn[0][0]          \n",
            "__________________________________________________________________________________________________\n",
            "conv3_block3_out (Activation)   (None, 32, 32, 512)  0           conv3_block3_add[0][0]           \n",
            "__________________________________________________________________________________________________\n",
            "conv3_block4_1_conv (Conv2D)    (None, 32, 32, 128)  65664       conv3_block3_out[0][0]           \n",
            "__________________________________________________________________________________________________\n",
            "conv3_block4_1_bn (BatchNormali (None, 32, 32, 128)  512         conv3_block4_1_conv[0][0]        \n",
            "__________________________________________________________________________________________________\n",
            "conv3_block4_1_relu (Activation (None, 32, 32, 128)  0           conv3_block4_1_bn[0][0]          \n",
            "__________________________________________________________________________________________________\n",
            "conv3_block4_2_conv (Conv2D)    (None, 32, 32, 128)  147584      conv3_block4_1_relu[0][0]        \n",
            "__________________________________________________________________________________________________\n",
            "conv3_block4_2_bn (BatchNormali (None, 32, 32, 128)  512         conv3_block4_2_conv[0][0]        \n",
            "__________________________________________________________________________________________________\n",
            "conv3_block4_2_relu (Activation (None, 32, 32, 128)  0           conv3_block4_2_bn[0][0]          \n",
            "__________________________________________________________________________________________________\n",
            "conv3_block4_3_conv (Conv2D)    (None, 32, 32, 512)  66048       conv3_block4_2_relu[0][0]        \n",
            "__________________________________________________________________________________________________\n",
            "conv3_block4_3_bn (BatchNormali (None, 32, 32, 512)  2048        conv3_block4_3_conv[0][0]        \n",
            "__________________________________________________________________________________________________\n",
            "conv3_block4_add (Add)          (None, 32, 32, 512)  0           conv3_block3_out[0][0]           \n",
            "                                                                 conv3_block4_3_bn[0][0]          \n",
            "__________________________________________________________________________________________________\n",
            "conv3_block4_out (Activation)   (None, 32, 32, 512)  0           conv3_block4_add[0][0]           \n",
            "__________________________________________________________________________________________________\n",
            "conv4_block1_1_conv (Conv2D)    (None, 16, 16, 256)  131328      conv3_block4_out[0][0]           \n",
            "__________________________________________________________________________________________________\n",
            "conv4_block1_1_bn (BatchNormali (None, 16, 16, 256)  1024        conv4_block1_1_conv[0][0]        \n",
            "__________________________________________________________________________________________________\n",
            "conv4_block1_1_relu (Activation (None, 16, 16, 256)  0           conv4_block1_1_bn[0][0]          \n",
            "__________________________________________________________________________________________________\n",
            "conv4_block1_2_conv (Conv2D)    (None, 16, 16, 256)  590080      conv4_block1_1_relu[0][0]        \n",
            "__________________________________________________________________________________________________\n",
            "conv4_block1_2_bn (BatchNormali (None, 16, 16, 256)  1024        conv4_block1_2_conv[0][0]        \n",
            "__________________________________________________________________________________________________\n",
            "conv4_block1_2_relu (Activation (None, 16, 16, 256)  0           conv4_block1_2_bn[0][0]          \n",
            "__________________________________________________________________________________________________\n",
            "conv4_block1_0_conv (Conv2D)    (None, 16, 16, 1024) 525312      conv3_block4_out[0][0]           \n",
            "__________________________________________________________________________________________________\n",
            "conv4_block1_3_conv (Conv2D)    (None, 16, 16, 1024) 263168      conv4_block1_2_relu[0][0]        \n",
            "__________________________________________________________________________________________________\n",
            "conv4_block1_0_bn (BatchNormali (None, 16, 16, 1024) 4096        conv4_block1_0_conv[0][0]        \n",
            "__________________________________________________________________________________________________\n",
            "conv4_block1_3_bn (BatchNormali (None, 16, 16, 1024) 4096        conv4_block1_3_conv[0][0]        \n",
            "__________________________________________________________________________________________________\n",
            "conv4_block1_add (Add)          (None, 16, 16, 1024) 0           conv4_block1_0_bn[0][0]          \n",
            "                                                                 conv4_block1_3_bn[0][0]          \n",
            "__________________________________________________________________________________________________\n",
            "conv4_block1_out (Activation)   (None, 16, 16, 1024) 0           conv4_block1_add[0][0]           \n",
            "__________________________________________________________________________________________________\n",
            "conv4_block2_1_conv (Conv2D)    (None, 16, 16, 256)  262400      conv4_block1_out[0][0]           \n",
            "__________________________________________________________________________________________________\n",
            "conv4_block2_1_bn (BatchNormali (None, 16, 16, 256)  1024        conv4_block2_1_conv[0][0]        \n",
            "__________________________________________________________________________________________________\n",
            "conv4_block2_1_relu (Activation (None, 16, 16, 256)  0           conv4_block2_1_bn[0][0]          \n",
            "__________________________________________________________________________________________________\n",
            "conv4_block2_2_conv (Conv2D)    (None, 16, 16, 256)  590080      conv4_block2_1_relu[0][0]        \n",
            "__________________________________________________________________________________________________\n",
            "conv4_block2_2_bn (BatchNormali (None, 16, 16, 256)  1024        conv4_block2_2_conv[0][0]        \n",
            "__________________________________________________________________________________________________\n",
            "conv4_block2_2_relu (Activation (None, 16, 16, 256)  0           conv4_block2_2_bn[0][0]          \n",
            "__________________________________________________________________________________________________\n",
            "conv4_block2_3_conv (Conv2D)    (None, 16, 16, 1024) 263168      conv4_block2_2_relu[0][0]        \n",
            "__________________________________________________________________________________________________\n",
            "conv4_block2_3_bn (BatchNormali (None, 16, 16, 1024) 4096        conv4_block2_3_conv[0][0]        \n",
            "__________________________________________________________________________________________________\n",
            "conv4_block2_add (Add)          (None, 16, 16, 1024) 0           conv4_block1_out[0][0]           \n",
            "                                                                 conv4_block2_3_bn[0][0]          \n",
            "__________________________________________________________________________________________________\n",
            "conv4_block2_out (Activation)   (None, 16, 16, 1024) 0           conv4_block2_add[0][0]           \n",
            "__________________________________________________________________________________________________\n",
            "conv4_block3_1_conv (Conv2D)    (None, 16, 16, 256)  262400      conv4_block2_out[0][0]           \n",
            "__________________________________________________________________________________________________\n",
            "conv4_block3_1_bn (BatchNormali (None, 16, 16, 256)  1024        conv4_block3_1_conv[0][0]        \n",
            "__________________________________________________________________________________________________\n",
            "conv4_block3_1_relu (Activation (None, 16, 16, 256)  0           conv4_block3_1_bn[0][0]          \n",
            "__________________________________________________________________________________________________\n",
            "conv4_block3_2_conv (Conv2D)    (None, 16, 16, 256)  590080      conv4_block3_1_relu[0][0]        \n",
            "__________________________________________________________________________________________________\n",
            "conv4_block3_2_bn (BatchNormali (None, 16, 16, 256)  1024        conv4_block3_2_conv[0][0]        \n",
            "__________________________________________________________________________________________________\n",
            "conv4_block3_2_relu (Activation (None, 16, 16, 256)  0           conv4_block3_2_bn[0][0]          \n",
            "__________________________________________________________________________________________________\n",
            "conv4_block3_3_conv (Conv2D)    (None, 16, 16, 1024) 263168      conv4_block3_2_relu[0][0]        \n",
            "__________________________________________________________________________________________________\n",
            "conv4_block3_3_bn (BatchNormali (None, 16, 16, 1024) 4096        conv4_block3_3_conv[0][0]        \n",
            "__________________________________________________________________________________________________\n",
            "conv4_block3_add (Add)          (None, 16, 16, 1024) 0           conv4_block2_out[0][0]           \n",
            "                                                                 conv4_block3_3_bn[0][0]          \n",
            "__________________________________________________________________________________________________\n",
            "conv4_block3_out (Activation)   (None, 16, 16, 1024) 0           conv4_block3_add[0][0]           \n",
            "__________________________________________________________________________________________________\n",
            "conv4_block4_1_conv (Conv2D)    (None, 16, 16, 256)  262400      conv4_block3_out[0][0]           \n",
            "__________________________________________________________________________________________________\n",
            "conv4_block4_1_bn (BatchNormali (None, 16, 16, 256)  1024        conv4_block4_1_conv[0][0]        \n",
            "__________________________________________________________________________________________________\n",
            "conv4_block4_1_relu (Activation (None, 16, 16, 256)  0           conv4_block4_1_bn[0][0]          \n",
            "__________________________________________________________________________________________________\n",
            "conv4_block4_2_conv (Conv2D)    (None, 16, 16, 256)  590080      conv4_block4_1_relu[0][0]        \n",
            "__________________________________________________________________________________________________\n",
            "conv4_block4_2_bn (BatchNormali (None, 16, 16, 256)  1024        conv4_block4_2_conv[0][0]        \n",
            "__________________________________________________________________________________________________\n",
            "conv4_block4_2_relu (Activation (None, 16, 16, 256)  0           conv4_block4_2_bn[0][0]          \n",
            "__________________________________________________________________________________________________\n",
            "conv4_block4_3_conv (Conv2D)    (None, 16, 16, 1024) 263168      conv4_block4_2_relu[0][0]        \n",
            "__________________________________________________________________________________________________\n",
            "conv4_block4_3_bn (BatchNormali (None, 16, 16, 1024) 4096        conv4_block4_3_conv[0][0]        \n",
            "__________________________________________________________________________________________________\n",
            "conv4_block4_add (Add)          (None, 16, 16, 1024) 0           conv4_block3_out[0][0]           \n",
            "                                                                 conv4_block4_3_bn[0][0]          \n",
            "__________________________________________________________________________________________________\n",
            "conv4_block4_out (Activation)   (None, 16, 16, 1024) 0           conv4_block4_add[0][0]           \n",
            "__________________________________________________________________________________________________\n",
            "conv4_block5_1_conv (Conv2D)    (None, 16, 16, 256)  262400      conv4_block4_out[0][0]           \n",
            "__________________________________________________________________________________________________\n",
            "conv4_block5_1_bn (BatchNormali (None, 16, 16, 256)  1024        conv4_block5_1_conv[0][0]        \n",
            "__________________________________________________________________________________________________\n",
            "conv4_block5_1_relu (Activation (None, 16, 16, 256)  0           conv4_block5_1_bn[0][0]          \n",
            "__________________________________________________________________________________________________\n",
            "conv4_block5_2_conv (Conv2D)    (None, 16, 16, 256)  590080      conv4_block5_1_relu[0][0]        \n",
            "__________________________________________________________________________________________________\n",
            "conv4_block5_2_bn (BatchNormali (None, 16, 16, 256)  1024        conv4_block5_2_conv[0][0]        \n",
            "__________________________________________________________________________________________________\n",
            "conv4_block5_2_relu (Activation (None, 16, 16, 256)  0           conv4_block5_2_bn[0][0]          \n",
            "__________________________________________________________________________________________________\n",
            "conv4_block5_3_conv (Conv2D)    (None, 16, 16, 1024) 263168      conv4_block5_2_relu[0][0]        \n",
            "__________________________________________________________________________________________________\n",
            "conv4_block5_3_bn (BatchNormali (None, 16, 16, 1024) 4096        conv4_block5_3_conv[0][0]        \n",
            "__________________________________________________________________________________________________\n",
            "conv4_block5_add (Add)          (None, 16, 16, 1024) 0           conv4_block4_out[0][0]           \n",
            "                                                                 conv4_block5_3_bn[0][0]          \n",
            "__________________________________________________________________________________________________\n",
            "conv4_block5_out (Activation)   (None, 16, 16, 1024) 0           conv4_block5_add[0][0]           \n",
            "__________________________________________________________________________________________________\n",
            "conv4_block6_1_conv (Conv2D)    (None, 16, 16, 256)  262400      conv4_block5_out[0][0]           \n",
            "__________________________________________________________________________________________________\n",
            "conv4_block6_1_bn (BatchNormali (None, 16, 16, 256)  1024        conv4_block6_1_conv[0][0]        \n",
            "__________________________________________________________________________________________________\n",
            "conv4_block6_1_relu (Activation (None, 16, 16, 256)  0           conv4_block6_1_bn[0][0]          \n",
            "__________________________________________________________________________________________________\n",
            "conv4_block6_2_conv (Conv2D)    (None, 16, 16, 256)  590080      conv4_block6_1_relu[0][0]        \n",
            "__________________________________________________________________________________________________\n",
            "conv4_block6_2_bn (BatchNormali (None, 16, 16, 256)  1024        conv4_block6_2_conv[0][0]        \n",
            "__________________________________________________________________________________________________\n",
            "conv4_block6_2_relu (Activation (None, 16, 16, 256)  0           conv4_block6_2_bn[0][0]          \n",
            "__________________________________________________________________________________________________\n",
            "conv4_block6_3_conv (Conv2D)    (None, 16, 16, 1024) 263168      conv4_block6_2_relu[0][0]        \n",
            "__________________________________________________________________________________________________\n",
            "conv4_block6_3_bn (BatchNormali (None, 16, 16, 1024) 4096        conv4_block6_3_conv[0][0]        \n",
            "__________________________________________________________________________________________________\n",
            "conv4_block6_add (Add)          (None, 16, 16, 1024) 0           conv4_block5_out[0][0]           \n",
            "                                                                 conv4_block6_3_bn[0][0]          \n",
            "__________________________________________________________________________________________________\n",
            "conv4_block6_out (Activation)   (None, 16, 16, 1024) 0           conv4_block6_add[0][0]           \n",
            "__________________________________________________________________________________________________\n",
            "conv5_block1_1_conv (Conv2D)    (None, 8, 8, 512)    524800      conv4_block6_out[0][0]           \n",
            "__________________________________________________________________________________________________\n",
            "conv5_block1_1_bn (BatchNormali (None, 8, 8, 512)    2048        conv5_block1_1_conv[0][0]        \n",
            "__________________________________________________________________________________________________\n",
            "conv5_block1_1_relu (Activation (None, 8, 8, 512)    0           conv5_block1_1_bn[0][0]          \n",
            "__________________________________________________________________________________________________\n",
            "conv5_block1_2_conv (Conv2D)    (None, 8, 8, 512)    2359808     conv5_block1_1_relu[0][0]        \n",
            "__________________________________________________________________________________________________\n",
            "conv5_block1_2_bn (BatchNormali (None, 8, 8, 512)    2048        conv5_block1_2_conv[0][0]        \n",
            "__________________________________________________________________________________________________\n",
            "conv5_block1_2_relu (Activation (None, 8, 8, 512)    0           conv5_block1_2_bn[0][0]          \n",
            "__________________________________________________________________________________________________\n",
            "conv5_block1_0_conv (Conv2D)    (None, 8, 8, 2048)   2099200     conv4_block6_out[0][0]           \n",
            "__________________________________________________________________________________________________\n",
            "conv5_block1_3_conv (Conv2D)    (None, 8, 8, 2048)   1050624     conv5_block1_2_relu[0][0]        \n",
            "__________________________________________________________________________________________________\n",
            "conv5_block1_0_bn (BatchNormali (None, 8, 8, 2048)   8192        conv5_block1_0_conv[0][0]        \n",
            "__________________________________________________________________________________________________\n",
            "conv5_block1_3_bn (BatchNormali (None, 8, 8, 2048)   8192        conv5_block1_3_conv[0][0]        \n",
            "__________________________________________________________________________________________________\n",
            "conv5_block1_add (Add)          (None, 8, 8, 2048)   0           conv5_block1_0_bn[0][0]          \n",
            "                                                                 conv5_block1_3_bn[0][0]          \n",
            "__________________________________________________________________________________________________\n",
            "conv5_block1_out (Activation)   (None, 8, 8, 2048)   0           conv5_block1_add[0][0]           \n",
            "__________________________________________________________________________________________________\n",
            "conv5_block2_1_conv (Conv2D)    (None, 8, 8, 512)    1049088     conv5_block1_out[0][0]           \n",
            "__________________________________________________________________________________________________\n",
            "conv5_block2_1_bn (BatchNormali (None, 8, 8, 512)    2048        conv5_block2_1_conv[0][0]        \n",
            "__________________________________________________________________________________________________\n",
            "conv5_block2_1_relu (Activation (None, 8, 8, 512)    0           conv5_block2_1_bn[0][0]          \n",
            "__________________________________________________________________________________________________\n",
            "conv5_block2_2_conv (Conv2D)    (None, 8, 8, 512)    2359808     conv5_block2_1_relu[0][0]        \n",
            "__________________________________________________________________________________________________\n",
            "conv5_block2_2_bn (BatchNormali (None, 8, 8, 512)    2048        conv5_block2_2_conv[0][0]        \n",
            "__________________________________________________________________________________________________\n",
            "conv5_block2_2_relu (Activation (None, 8, 8, 512)    0           conv5_block2_2_bn[0][0]          \n",
            "__________________________________________________________________________________________________\n",
            "conv5_block2_3_conv (Conv2D)    (None, 8, 8, 2048)   1050624     conv5_block2_2_relu[0][0]        \n",
            "__________________________________________________________________________________________________\n",
            "conv5_block2_3_bn (BatchNormali (None, 8, 8, 2048)   8192        conv5_block2_3_conv[0][0]        \n",
            "__________________________________________________________________________________________________\n",
            "conv5_block2_add (Add)          (None, 8, 8, 2048)   0           conv5_block1_out[0][0]           \n",
            "                                                                 conv5_block2_3_bn[0][0]          \n",
            "__________________________________________________________________________________________________\n",
            "conv5_block2_out (Activation)   (None, 8, 8, 2048)   0           conv5_block2_add[0][0]           \n",
            "__________________________________________________________________________________________________\n",
            "conv5_block3_1_conv (Conv2D)    (None, 8, 8, 512)    1049088     conv5_block2_out[0][0]           \n",
            "__________________________________________________________________________________________________\n",
            "conv5_block3_1_bn (BatchNormali (None, 8, 8, 512)    2048        conv5_block3_1_conv[0][0]        \n",
            "__________________________________________________________________________________________________\n",
            "conv5_block3_1_relu (Activation (None, 8, 8, 512)    0           conv5_block3_1_bn[0][0]          \n",
            "__________________________________________________________________________________________________\n",
            "conv5_block3_2_conv (Conv2D)    (None, 8, 8, 512)    2359808     conv5_block3_1_relu[0][0]        \n",
            "__________________________________________________________________________________________________\n",
            "conv5_block3_2_bn (BatchNormali (None, 8, 8, 512)    2048        conv5_block3_2_conv[0][0]        \n",
            "__________________________________________________________________________________________________\n",
            "conv5_block3_2_relu (Activation (None, 8, 8, 512)    0           conv5_block3_2_bn[0][0]          \n",
            "__________________________________________________________________________________________________\n",
            "conv5_block3_3_conv (Conv2D)    (None, 8, 8, 2048)   1050624     conv5_block3_2_relu[0][0]        \n",
            "__________________________________________________________________________________________________\n",
            "conv5_block3_3_bn (BatchNormali (None, 8, 8, 2048)   8192        conv5_block3_3_conv[0][0]        \n",
            "__________________________________________________________________________________________________\n",
            "conv5_block3_add (Add)          (None, 8, 8, 2048)   0           conv5_block2_out[0][0]           \n",
            "                                                                 conv5_block3_3_bn[0][0]          \n",
            "__________________________________________________________________________________________________\n",
            "conv5_block3_out (Activation)   (None, 8, 8, 2048)   0           conv5_block3_add[0][0]           \n",
            "__________________________________________________________________________________________________\n",
            "global_average_pooling2d (Globa (None, 2048)         0           conv5_block3_out[0][0]           \n",
            "__________________________________________________________________________________________________\n",
            "dropout (Dropout)               (None, 2048)         0           global_average_pooling2d[0][0]   \n",
            "__________________________________________________________________________________________________\n",
            "dense (Dense)                   (None, 1)            2049        dropout[0][0]                    \n",
            "==================================================================================================\n",
            "Total params: 23,589,761\n",
            "Trainable params: 23,536,641\n",
            "Non-trainable params: 53,120\n",
            "__________________________________________________________________________________________________\n"
          ],
          "name": "stdout"
        }
      ]
    },
    {
      "cell_type": "code",
      "metadata": {
        "id": "8lruuL408oJC",
        "colab_type": "code",
        "outputId": "424d39b3-1378-4ab9-fab0-722c1329bc3d",
        "colab": {
          "base_uri": "https://localhost:8080/",
          "height": 1000
        }
      },
      "source": [
        "# Entrenamiento\n",
        "historia3 = model_3.fit_generator(train_generator,                              # Data de entrenamiento \n",
        "                                  epochs=80,                            # Cuantas veces va a pasar por el dataset (100 podría ser un numero)\n",
        "                                  validation_data=validation_generator,       # Data de validacion\n",
        "                                  #steps_per_epoch=nb_train_samples/batch_size,                         # Particiones para entrenar n_samples/batch_size\n",
        "                                  #batch_size=8,           # Imagenes por paso\n",
        "                                  verbose=1,\n",
        "                                  workers=1,\n",
        "                                  use_multiprocessing = False)#,\n",
        "                                  #validation_steps= 54/batch_size)                                  # Mostar los logs de entrenamiento"
      ],
      "execution_count": 0,
      "outputs": [
        {
          "output_type": "stream",
          "text": [
            "WARNING:tensorflow:From <ipython-input-7-ca97c1efda7c>:9: Model.fit_generator (from tensorflow.python.keras.engine.training) is deprecated and will be removed in a future version.\n",
            "Instructions for updating:\n",
            "Please use Model.fit, which supports generators.\n",
            "Epoch 1/80\n",
            "251/251 [==============================] - 6800s 27s/step - loss: 0.2752 - auc: 0.9523 - val_loss: 0.7384 - val_auc: 0.7944\n",
            "Epoch 2/80\n",
            "251/251 [==============================] - 269s 1s/step - loss: 0.0675 - auc: 0.9960 - val_loss: 1.1052 - val_auc: 0.6250\n",
            "Epoch 3/80\n",
            "251/251 [==============================] - 271s 1s/step - loss: 0.0122 - auc: 0.9997 - val_loss: 0.7016 - val_auc: 0.7263\n",
            "Epoch 4/80\n",
            "251/251 [==============================] - 270s 1s/step - loss: 0.0048 - auc: 1.0000 - val_loss: 1.0501 - val_auc: 0.6078\n",
            "Epoch 5/80\n",
            "251/251 [==============================] - 268s 1s/step - loss: 0.0021 - auc: 1.0000 - val_loss: 0.6365 - val_auc: 0.7941\n",
            "Epoch 6/80\n",
            "251/251 [==============================] - 267s 1s/step - loss: 0.0033 - auc: 1.0000 - val_loss: 0.4649 - val_auc: 0.9068\n",
            "Epoch 7/80\n",
            "251/251 [==============================] - 267s 1s/step - loss: 0.0334 - auc: 0.9971 - val_loss: 0.9792 - val_auc: 0.7276\n",
            "Epoch 8/80\n",
            "251/251 [==============================] - 268s 1s/step - loss: 0.0336 - auc: 0.9984 - val_loss: 0.6405 - val_auc: 0.8377\n",
            "Epoch 9/80\n",
            "251/251 [==============================] - 269s 1s/step - loss: 0.0034 - auc: 0.9999 - val_loss: 0.6427 - val_auc: 0.8976\n",
            "Epoch 10/80\n",
            "251/251 [==============================] - 269s 1s/step - loss: 0.0175 - auc: 0.9998 - val_loss: 1.5684 - val_auc: 0.3287\n",
            "Epoch 11/80\n",
            "251/251 [==============================] - 269s 1s/step - loss: 0.0251 - auc: 0.9995 - val_loss: 0.8805 - val_auc: 0.7558\n",
            "Epoch 12/80\n",
            "251/251 [==============================] - 274s 1s/step - loss: 0.0034 - auc: 1.0000 - val_loss: 0.5500 - val_auc: 0.8630\n",
            "Epoch 13/80\n",
            "251/251 [==============================] - 274s 1s/step - loss: 0.0010 - auc: 1.0000 - val_loss: 0.3979 - val_auc: 0.9030\n",
            "Epoch 14/80\n",
            "251/251 [==============================] - 274s 1s/step - loss: 5.8802e-04 - auc: 1.0000 - val_loss: 0.3852 - val_auc: 0.9248\n",
            "Epoch 15/80\n",
            "251/251 [==============================] - 273s 1s/step - loss: 4.2494e-04 - auc: 1.0000 - val_loss: 0.5165 - val_auc: 0.9235\n",
            "Epoch 16/80\n",
            "251/251 [==============================] - 275s 1s/step - loss: 6.1410e-04 - auc: 1.0000 - val_loss: 0.4654 - val_auc: 0.9295\n",
            "Epoch 17/80\n",
            "251/251 [==============================] - 273s 1s/step - loss: 0.0021 - auc: 1.0000 - val_loss: 0.6520 - val_auc: 0.8296\n",
            "Epoch 18/80\n",
            "251/251 [==============================] - 270s 1s/step - loss: 3.1099e-04 - auc: 1.0000 - val_loss: 0.5050 - val_auc: 0.9030\n",
            "Epoch 19/80\n",
            "251/251 [==============================] - 271s 1s/step - loss: 2.3923e-04 - auc: 1.0000 - val_loss: 0.4583 - val_auc: 0.8998\n",
            "Epoch 20/80\n",
            "251/251 [==============================] - 270s 1s/step - loss: 3.1459e-04 - auc: 1.0000 - val_loss: 0.4305 - val_auc: 0.9225\n",
            "Epoch 21/80\n",
            "251/251 [==============================] - 273s 1s/step - loss: 0.0344 - auc: 0.9973 - val_loss: 0.6313 - val_auc: 0.7126\n",
            "Epoch 22/80\n",
            "251/251 [==============================] - 273s 1s/step - loss: 0.0056 - auc: 0.9998 - val_loss: 0.6594 - val_auc: 0.7112\n",
            "Epoch 23/80\n",
            "251/251 [==============================] - 267s 1s/step - loss: 0.0013 - auc: 1.0000 - val_loss: 0.5872 - val_auc: 0.8731\n",
            "Epoch 24/80\n",
            "251/251 [==============================] - 263s 1s/step - loss: 8.5689e-04 - auc: 1.0000 - val_loss: 0.5135 - val_auc: 0.9280\n",
            "Epoch 25/80\n",
            "251/251 [==============================] - 262s 1s/step - loss: 0.0149 - auc: 0.9998 - val_loss: 0.5917 - val_auc: 0.7955\n",
            "Epoch 26/80\n",
            "251/251 [==============================] - 261s 1s/step - loss: 0.0046 - auc: 0.9996 - val_loss: 0.4965 - val_auc: 0.8500\n",
            "Epoch 27/80\n",
            "251/251 [==============================] - 268s 1s/step - loss: 0.0012 - auc: 1.0000 - val_loss: 0.4493 - val_auc: 0.8754\n",
            "Epoch 28/80\n",
            "251/251 [==============================] - 274s 1s/step - loss: 1.5840e-04 - auc: 1.0000 - val_loss: 0.4367 - val_auc: 0.8709\n",
            "Epoch 29/80\n",
            "251/251 [==============================] - 275s 1s/step - loss: 2.8675e-04 - auc: 1.0000 - val_loss: 0.3725 - val_auc: 0.9093\n",
            "Epoch 30/80\n",
            "251/251 [==============================] - 275s 1s/step - loss: 3.8659e-04 - auc: 1.0000 - val_loss: 0.3935 - val_auc: 0.9119\n",
            "Epoch 31/80\n",
            "251/251 [==============================] - 275s 1s/step - loss: 2.9746e-04 - auc: 1.0000 - val_loss: 0.3676 - val_auc: 0.9133\n",
            "Epoch 32/80\n",
            "251/251 [==============================] - 269s 1s/step - loss: 1.6740e-04 - auc: 1.0000 - val_loss: 0.4048 - val_auc: 0.9155\n",
            "Epoch 33/80\n",
            "251/251 [==============================] - 267s 1s/step - loss: 3.6672e-05 - auc: 1.0000 - val_loss: 0.3564 - val_auc: 0.9188\n",
            "Epoch 34/80\n",
            "251/251 [==============================] - 263s 1s/step - loss: 3.1094e-05 - auc: 1.0000 - val_loss: 0.3720 - val_auc: 0.9195\n",
            "Epoch 35/80\n",
            "251/251 [==============================] - 265s 1s/step - loss: 2.5858e-05 - auc: 1.0000 - val_loss: 0.3407 - val_auc: 0.9228\n",
            "Epoch 36/80\n",
            "251/251 [==============================] - 266s 1s/step - loss: 2.0689e-05 - auc: 1.0000 - val_loss: 0.3457 - val_auc: 0.9203\n",
            "Epoch 37/80\n",
            "251/251 [==============================] - 272s 1s/step - loss: 1.7161e-05 - auc: 1.0000 - val_loss: 0.3385 - val_auc: 0.9240\n",
            "Epoch 38/80\n",
            "251/251 [==============================] - 273s 1s/step - loss: 1.2368e-05 - auc: 1.0000 - val_loss: 0.3531 - val_auc: 0.9231\n",
            "Epoch 39/80\n",
            "251/251 [==============================] - 272s 1s/step - loss: 1.1713e-05 - auc: 1.0000 - val_loss: 0.3326 - val_auc: 0.9265\n",
            "Epoch 40/80\n",
            "251/251 [==============================] - 272s 1s/step - loss: 2.0685e-05 - auc: 1.0000 - val_loss: 0.3287 - val_auc: 0.9320\n",
            "Epoch 41/80\n",
            "251/251 [==============================] - 270s 1s/step - loss: 1.3438e-05 - auc: 1.0000 - val_loss: 0.3241 - val_auc: 0.9337\n",
            "Epoch 42/80\n",
            "251/251 [==============================] - 271s 1s/step - loss: 9.5921e-06 - auc: 1.0000 - val_loss: 0.3254 - val_auc: 0.9325\n",
            "Epoch 43/80\n",
            "251/251 [==============================] - 270s 1s/step - loss: 1.7213e-05 - auc: 1.0000 - val_loss: 0.3782 - val_auc: 0.9043\n",
            "Epoch 44/80\n",
            "251/251 [==============================] - 271s 1s/step - loss: 8.4944e-05 - auc: 1.0000 - val_loss: 0.3614 - val_auc: 0.9253\n",
            "Epoch 45/80\n",
            "251/251 [==============================] - 269s 1s/step - loss: 8.4333e-04 - auc: 1.0000 - val_loss: 0.9670 - val_auc: 0.6041\n",
            "Epoch 46/80\n",
            "251/251 [==============================] - 269s 1s/step - loss: 0.0502 - auc: 0.9962 - val_loss: 1.2631 - val_auc: 0.6970\n",
            "Epoch 47/80\n",
            "251/251 [==============================] - 264s 1s/step - loss: 0.0444 - auc: 0.9974 - val_loss: 1.1958 - val_auc: 0.6140\n",
            "Epoch 48/80\n",
            "251/251 [==============================] - 263s 1s/step - loss: 0.0706 - auc: 0.9955 - val_loss: 1.1863 - val_auc: 0.6483\n",
            "Epoch 49/80\n",
            "251/251 [==============================] - 262s 1s/step - loss: 0.0052 - auc: 1.0000 - val_loss: 1.5719 - val_auc: 0.7556\n",
            "Epoch 50/80\n",
            "251/251 [==============================] - 263s 1s/step - loss: 0.0116 - auc: 0.9999 - val_loss: 1.6053 - val_auc: 0.7941\n",
            "Epoch 51/80\n",
            "251/251 [==============================] - 264s 1s/step - loss: 0.0024 - auc: 1.0000 - val_loss: 1.7211 - val_auc: 0.7962\n",
            "Epoch 52/80\n",
            "251/251 [==============================] - 265s 1s/step - loss: 0.0056 - auc: 1.0000 - val_loss: 1.4048 - val_auc: 0.8748\n",
            "Epoch 53/80\n",
            "251/251 [==============================] - 264s 1s/step - loss: 9.6283e-04 - auc: 1.0000 - val_loss: 1.6260 - val_auc: 0.8544\n",
            "Epoch 54/80\n",
            "251/251 [==============================] - 264s 1s/step - loss: 5.0923e-04 - auc: 1.0000 - val_loss: 1.3927 - val_auc: 0.8669\n",
            "Epoch 55/80\n",
            "251/251 [==============================] - 264s 1s/step - loss: 5.0660e-04 - auc: 1.0000 - val_loss: 1.4595 - val_auc: 0.8871\n",
            "Epoch 56/80\n",
            "251/251 [==============================] - 263s 1s/step - loss: 6.5823e-04 - auc: 1.0000 - val_loss: 1.0411 - val_auc: 0.8755\n",
            "Epoch 57/80\n",
            "251/251 [==============================] - 256s 1s/step - loss: 6.3593e-04 - auc: 1.0000 - val_loss: 1.4368 - val_auc: 0.8733\n",
            "Epoch 58/80\n",
            "251/251 [==============================] - 255s 1s/step - loss: 0.0014 - auc: 1.0000 - val_loss: 1.1433 - val_auc: 0.8027\n",
            "Epoch 59/80\n",
            "251/251 [==============================] - 256s 1s/step - loss: 1.8614e-04 - auc: 1.0000 - val_loss: 1.0303 - val_auc: 0.8375\n",
            "Epoch 60/80\n",
            "251/251 [==============================] - 254s 1s/step - loss: 6.0509e-04 - auc: 1.0000 - val_loss: 1.6848 - val_auc: 0.8849\n",
            "Epoch 61/80\n",
            "251/251 [==============================] - 254s 1s/step - loss: 4.4609e-04 - auc: 1.0000 - val_loss: 0.8142 - val_auc: 0.8797\n",
            "Epoch 62/80\n",
            "251/251 [==============================] - 254s 1s/step - loss: 1.5955e-04 - auc: 1.0000 - val_loss: 1.0195 - val_auc: 0.9037\n",
            "Epoch 63/80\n",
            "251/251 [==============================] - 253s 1s/step - loss: 9.7663e-05 - auc: 1.0000 - val_loss: 1.0897 - val_auc: 0.8953\n",
            "Epoch 64/80\n",
            "251/251 [==============================] - 254s 1s/step - loss: 4.2601e-04 - auc: 1.0000 - val_loss: 1.4308 - val_auc: 0.8780\n",
            "Epoch 65/80\n",
            "251/251 [==============================] - 253s 1s/step - loss: 0.0511 - auc: 0.9962 - val_loss: 3.4629 - val_auc: 0.3648\n",
            "Epoch 66/80\n",
            "251/251 [==============================] - 254s 1s/step - loss: 0.0094 - auc: 1.0000 - val_loss: 1.0863 - val_auc: 0.8643\n",
            "Epoch 67/80\n",
            "251/251 [==============================] - 254s 1s/step - loss: 4.7300e-04 - auc: 1.0000 - val_loss: 1.2447 - val_auc: 0.8616\n",
            "Epoch 68/80\n",
            "251/251 [==============================] - 253s 1s/step - loss: 6.1971e-04 - auc: 1.0000 - val_loss: 1.2628 - val_auc: 0.8955\n",
            "Epoch 69/80\n",
            "251/251 [==============================] - 254s 1s/step - loss: 0.0130 - auc: 0.9998 - val_loss: 1.1046 - val_auc: 0.7821\n",
            "Epoch 70/80\n",
            "251/251 [==============================] - 255s 1s/step - loss: 0.0021 - auc: 1.0000 - val_loss: 1.1018 - val_auc: 0.8772\n",
            "Epoch 71/80\n",
            "251/251 [==============================] - 257s 1s/step - loss: 0.0228 - auc: 0.9997 - val_loss: 1.1291 - val_auc: 0.8152\n",
            "Epoch 72/80\n",
            "251/251 [==============================] - 255s 1s/step - loss: 0.0019 - auc: 1.0000 - val_loss: 1.0782 - val_auc: 0.8514\n",
            "Epoch 73/80\n",
            "251/251 [==============================] - 260s 1s/step - loss: 4.0835e-04 - auc: 1.0000 - val_loss: 1.1495 - val_auc: 0.8293\n",
            "Epoch 74/80\n",
            "251/251 [==============================] - 258s 1s/step - loss: 0.0015 - auc: 1.0000 - val_loss: 1.0660 - val_auc: 0.8826\n",
            "Epoch 75/80\n",
            "251/251 [==============================] - 258s 1s/step - loss: 0.0048 - auc: 1.0000 - val_loss: 1.1822 - val_auc: 0.8406\n",
            "Epoch 76/80\n",
            "251/251 [==============================] - 254s 1s/step - loss: 1.2577e-04 - auc: 1.0000 - val_loss: 0.9260 - val_auc: 0.8601\n",
            "Epoch 77/80\n",
            "251/251 [==============================] - 254s 1s/step - loss: 0.0016 - auc: 1.0000 - val_loss: 0.8875 - val_auc: 0.9068\n",
            "Epoch 78/80\n",
            "251/251 [==============================] - 256s 1s/step - loss: 4.1729e-04 - auc: 1.0000 - val_loss: 0.5861 - val_auc: 0.8990\n",
            "Epoch 79/80\n",
            "251/251 [==============================] - 255s 1s/step - loss: 8.9997e-05 - auc: 1.0000 - val_loss: 0.4547 - val_auc: 0.9253\n",
            "Epoch 80/80\n",
            "251/251 [==============================] - 256s 1s/step - loss: 3.9758e-05 - auc: 1.0000 - val_loss: 0.5391 - val_auc: 0.9232\n"
          ],
          "name": "stdout"
        }
      ]
    },
    {
      "cell_type": "code",
      "metadata": {
        "id": "bnYBf_NSr1WP",
        "colab_type": "code",
        "outputId": "4dce1719-20f8-4516-f159-d9a8b4eb9fd9",
        "colab": {
          "base_uri": "https://localhost:8080/",
          "height": 107
        }
      },
      "source": [
        "model_3.evaluate_generator(test_generator ) "
      ],
      "execution_count": 0,
      "outputs": [
        {
          "output_type": "stream",
          "text": [
            "WARNING:tensorflow:From <ipython-input-8-1b56a22ae946>:1: Model.evaluate_generator (from tensorflow.python.keras.engine.training) is deprecated and will be removed in a future version.\n",
            "Instructions for updating:\n",
            "Please use Model.evaluate, which supports generators.\n"
          ],
          "name": "stdout"
        },
        {
          "output_type": "execute_result",
          "data": {
            "text/plain": [
              "[0.5421354174613953, 0.9270381331443787]"
            ]
          },
          "metadata": {
            "tags": []
          },
          "execution_count": 8
        }
      ]
    },
    {
      "cell_type": "code",
      "metadata": {
        "id": "be7hrTgvr6F9",
        "colab_type": "code",
        "colab": {}
      },
      "source": [
        "#y_preds = model_1.predict_generator(test_generator,  verbose=1)"
      ],
      "execution_count": 0,
      "outputs": []
    },
    {
      "cell_type": "code",
      "metadata": {
        "id": "B8OL-Vamr3DO",
        "colab_type": "code",
        "colab": {}
      },
      "source": [
        "# Guardo el modelo\n",
        "#model_3.save(\"modelo_3_Resnet50_vf_80.h5\")"
      ],
      "execution_count": 0,
      "outputs": []
    },
    {
      "cell_type": "markdown",
      "metadata": {
        "id": "BvhgLDw6rwcu",
        "colab_type": "text"
      },
      "source": [
        "### Graficas de desempeño"
      ]
    },
    {
      "cell_type": "code",
      "metadata": {
        "id": "-MVr9ak6Puur",
        "colab_type": "code",
        "outputId": "73fff2fb-80da-4246-c118-bb1fea64fc93",
        "colab": {
          "base_uri": "https://localhost:8080/",
          "height": 573
        }
      },
      "source": [
        "plt.plot(historia3.history['auc'])\n",
        "plt.plot(historia3.history['val_auc'])\n",
        "plt.title('model auc')\n",
        "plt.ylabel('auc')\n",
        "plt.xlabel('epoch')\n",
        "plt.legend(['train', 'validation'], loc='upper left')\n",
        "plt.show()\n",
        "\n",
        "# summarize history for loss\n",
        "plt.plot(historia3.history['loss'])\n",
        "plt.plot(historia3.history['val_loss'])\n",
        "plt.title('model loss')\n",
        "plt.ylabel('loss')\n",
        "plt.xlabel('epoch')\n",
        "plt.legend(['train', 'validation'], loc='upper left')\n",
        "plt.show()"
      ],
      "execution_count": 0,
      "outputs": [
        {
          "output_type": "display_data",
          "data": {
            "image/png": "[encoded data removed]",
            "text/plain": [
              "<Figure size 432x288 with 1 Axes>"
            ]
          },
          "metadata": {
            "tags": [],
            "needs_background": "light"
          }
        },
        {
          "output_type": "display_data",
          "data": {
            "image/png": "[encoded data removed]",
            "text/plain": [
              "<Figure size 432x288 with 1 Axes>"
            ]
          },
          "metadata": {
            "tags": [],
            "needs_background": "light"
          }
        }
      ]
    },
    {
      "cell_type": "code",
      "metadata": {
        "id": "T8f6J8w0XNHY",
        "colab_type": "code",
        "colab": {}
      },
      "source": [
        ""
      ],
      "execution_count": 0,
      "outputs": []
    }
  ]
}