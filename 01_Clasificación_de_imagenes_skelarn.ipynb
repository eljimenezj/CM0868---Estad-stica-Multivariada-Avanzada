{
  "nbformat": 4,
  "nbformat_minor": 0,
  "metadata": {
    "colab": {
      "name": "01- Clasificación de imagenes_skelarn.ipynb",
      "provenance": [],
      "collapsed_sections": [],
      "toc_visible": true,
      "include_colab_link": true
    },
    "kernelspec": {
      "name": "python3",
      "display_name": "Python 3"
    }
  },
  "cells": [
    {
      "cell_type": "markdown",
      "metadata": {
        "id": "view-in-github",
        "colab_type": "text"
      },
      "source": [
        "<a href=\"https://colab.research.google.com/github/eljimenezj/CM0868--Estadistica-Multivariada-Avanzada/blob/master/01_Clasificaci%C3%B3n_de_imagenes_skelarn.ipynb\" target=\"_parent\"><img src=\"https://colab.research.google.com/assets/colab-badge.svg\" alt=\"Open In Colab\"/></a>"
      ]
    },
    {
      "cell_type": "markdown",
      "metadata": {
        "id": "Mg7hOJlUhJSH",
        "colab_type": "text"
      },
      "source": [
        "# Estadistica Multivariada - Clasificación de imagenes con modelos de Machine Learning en `sklearn`\n",
        "\n",
        "Este libro contiene un estudio de de clasificación de imagenes utilizando la libreria `sklearn` de python. Esto libro hace parte del proyecto final del curso de Estadistica Multivariada Avanzanda de la Maestría de Ciencia de Datos.\n",
        "\n",
        "Los integrantes de este trabajo:\n",
        "\n",
        "* Jorge Luis Renteria Roa\n",
        "* Edgar Leandro Jimenez Jaimes\n"
      ]
    },
    {
      "cell_type": "markdown",
      "metadata": {
        "id": "QeJtVSRyhrYN",
        "colab_type": "text"
      },
      "source": [
        "Vamos a instalar las librerias necesarias para la ejecución de este libro"
      ]
    },
    {
      "cell_type": "code",
      "metadata": {
        "id": "m6LPfOXv1YP6",
        "colab_type": "code",
        "outputId": "4d675ae9-af11-4800-c9f3-a4af71db133a",
        "colab": {
          "base_uri": "https://localhost:8080/",
          "height": 34
        }
      },
      "source": [
        "# Importación libreria\n",
        "\n",
        "import pandas as pd\n",
        "import glob\n",
        "import re\n",
        "import numpy as np\n",
        "import imutils\n",
        "import time\n",
        "import matplotlib.pyplot as plt\n",
        "import cv2 as cv\n",
        "import matplotlib.pyplot as plt\n",
        "\n",
        "\n",
        "from PIL import Image\n",
        "from google.colab import drive\n",
        "from sklearn.ensemble import RandomForestClassifier\n",
        "from sklearn.ensemble import GradientBoostingClassifier\n",
        "from sklearn.linear_model import LogisticRegression\n",
        "from sklearn.neighbors import KNeighborsClassifier\n",
        "from sklearn.tree import DecisionTreeClassifier\n",
        "from sklearn.model_selection import GridSearchCV, cross_val_score, cross_validate\n",
        "from sklearn.svm import SVC\n",
        "from keras.preprocessing import image\n",
        "from pathlib import Path\n",
        "from sklearn.model_selection import GridSearchCV, train_test_split\n",
        "from skimage.io import imread\n",
        "from sklearn.metrics import roc_curve\n",
        "\n",
        "from sklearn.metrics import  classification_report, confusion_matrix, accuracy_score, plot_roc_curve\n",
        "\n",
        "\n",
        "import warnings\n",
        "\n",
        "warnings.filterwarnings('ignore')\n",
        "pd.set_option('display.max_columns', 30*30 + 1)\n",
        "print(\"Files imported successfully\")\n",
        "\n",
        "from collections import Counter"
      ],
      "execution_count": 33,
      "outputs": [
        {
          "output_type": "stream",
          "text": [
            "Files imported successfully\n"
          ],
          "name": "stdout"
        }
      ]
    },
    {
      "cell_type": "markdown",
      "metadata": {
        "id": "KyfQ00_ZSnJq",
        "colab_type": "text"
      },
      "source": [
        "## Lectura de y carga de información"
      ]
    },
    {
      "cell_type": "code",
      "metadata": {
        "id": "eMoW5Sy37ijf",
        "colab_type": "code",
        "outputId": "c4b29a5c-260f-4cc5-cd37-867c7773ca32",
        "colab": {
          "base_uri": "https://localhost:8080/",
          "height": 122
        }
      },
      "source": [
        "drive.mount('/content/drive')"
      ],
      "execution_count": 3,
      "outputs": [
        {
          "output_type": "stream",
          "text": [
            "Go to this URL in a browser: https://accounts.google.com/o/oauth2/auth?client_id=947318989803-6bn6qk8qdgf4n4g3pfee6491hc0brc4i.apps.googleusercontent.com&redirect_uri=urn%3aietf%3awg%3aoauth%3a2.0%3aoob&response_type=code&scope=email%20https%3a%2f%2fwww.googleapis.com%2fauth%2fdocs.test%20https%3a%2f%2fwww.googleapis.com%2fauth%2fdrive%20https%3a%2f%2fwww.googleapis.com%2fauth%2fdrive.photos.readonly%20https%3a%2f%2fwww.googleapis.com%2fauth%2fpeopleapi.readonly\n",
            "\n",
            "Enter your authorization code:\n",
            "··········\n",
            "Mounted at /content/drive\n"
          ],
          "name": "stdout"
        }
      ]
    },
    {
      "cell_type": "code",
      "metadata": {
        "id": "HrvijJpkZV5W",
        "colab_type": "code",
        "colab": {}
      },
      "source": [
        "# Repo de Imagenes\n",
        "path= '/content/drive/My Drive/Estadistica Multivariada/Proyecto Final/Dataset/datalake'\n",
        "\n",
        "# Listas de almacenamiento\n",
        "image_list=[]\n",
        "tags=[]\n",
        "imagemath=[]\n",
        "train_img = []\n",
        "\n",
        "# Recorrido de los archivos de imagenes\n",
        "for filename in glob.glob(path+'/*'): \n",
        "  img = imread(filename)                   # Lee la imagen del datalake\n",
        "  img_pred = cv.resize(img, (400, 400))    # Todas las imagenes quedan de 400 pixeles por 400 pixeles \n",
        "  img_pred = img_pred / 255                # Normalizando la imagen, cada pixel toma valores de 0 a 255.\n",
        "  train_img.append(img_pred)               # Anexar la imagen a una lista\n",
        "  tags.append(re.sub(path,'',filename)[1]) # Label\n",
        "  image_list.append(filename)"
      ],
      "execution_count": 0,
      "outputs": []
    },
    {
      "cell_type": "code",
      "metadata": {
        "id": "-N8Iy2UoZV9E",
        "colab_type": "code",
        "outputId": "47ddecee-c2d0-400c-a86d-2f35707f653e",
        "colab": {
          "base_uri": "https://localhost:8080/",
          "height": 142
        }
      },
      "source": [
        "# Creación de tags de las imagenes\n",
        "X = np.array(train_img)\n",
        "y = np.array(tags)\n",
        "\n",
        "df = pd.DataFrame()\n",
        "df['Nombre']=list(image_list)\n",
        "df['Tag']=list(tags)\n",
        "df['Matriz']=list(train_img)\n",
        "\n",
        "df.head(3)                   # Mostramos los primero registro"
      ],
      "execution_count": 5,
      "outputs": [
        {
          "output_type": "execute_result",
          "data": {
            "text/html": [
              "<div>\n",
              "<style scoped>\n",
              "    .dataframe tbody tr th:only-of-type {\n",
              "        vertical-align: middle;\n",
              "    }\n",
              "\n",
              "    .dataframe tbody tr th {\n",
              "        vertical-align: top;\n",
              "    }\n",
              "\n",
              "    .dataframe thead th {\n",
              "        text-align: right;\n",
              "    }\n",
              "</style>\n",
              "<table border=\"1\" class=\"dataframe\">\n",
              "  <thead>\n",
              "    <tr style=\"text-align: right;\">\n",
              "      <th></th>\n",
              "      <th>Nombre</th>\n",
              "      <th>Tag</th>\n",
              "      <th>Matriz</th>\n",
              "    </tr>\n",
              "  </thead>\n",
              "  <tbody>\n",
              "    <tr>\n",
              "      <th>0</th>\n",
              "      <td>/content/drive/My Drive/Estadistica Multivaria...</td>\n",
              "      <td>1</td>\n",
              "      <td>[[[0.7647058823529411, 0.7490196078431373, 0.7...</td>\n",
              "    </tr>\n",
              "    <tr>\n",
              "      <th>1</th>\n",
              "      <td>/content/drive/My Drive/Estadistica Multivaria...</td>\n",
              "      <td>1</td>\n",
              "      <td>[[[0.0784313725490196, 0.08235294117647059, 0....</td>\n",
              "    </tr>\n",
              "    <tr>\n",
              "      <th>2</th>\n",
              "      <td>/content/drive/My Drive/Estadistica Multivaria...</td>\n",
              "      <td>1</td>\n",
              "      <td>[[[0.4588235294117647, 0.3686274509803922, 0.2...</td>\n",
              "    </tr>\n",
              "  </tbody>\n",
              "</table>\n",
              "</div>"
            ],
            "text/plain": [
              "                                              Nombre Tag  \\\n",
              "0  /content/drive/My Drive/Estadistica Multivaria...   1   \n",
              "1  /content/drive/My Drive/Estadistica Multivaria...   1   \n",
              "2  /content/drive/My Drive/Estadistica Multivaria...   1   \n",
              "\n",
              "                                              Matriz  \n",
              "0  [[[0.7647058823529411, 0.7490196078431373, 0.7...  \n",
              "1  [[[0.0784313725490196, 0.08235294117647059, 0....  \n",
              "2  [[[0.4588235294117647, 0.3686274509803922, 0.2...  "
            ]
          },
          "metadata": {
            "tags": []
          },
          "execution_count": 5
        }
      ]
    },
    {
      "cell_type": "code",
      "metadata": {
        "id": "h8wR0tkrHXl8",
        "colab_type": "code",
        "outputId": "ed70a87e-4b76-4f9f-a8ad-c4cd3ae672e6",
        "colab": {
          "base_uri": "https://localhost:8080/",
          "height": 34
        }
      },
      "source": [
        "# Observemos el numero de registros por clases\n",
        "print(sorted(Counter(y).items()))"
      ],
      "execution_count": 6,
      "outputs": [
        {
          "output_type": "stream",
          "text": [
            "[('1', 57), ('2', 27)]\n"
          ],
          "name": "stdout"
        }
      ]
    },
    {
      "cell_type": "markdown",
      "metadata": {
        "id": "7og5-ZJTiYLi",
        "colab_type": "text"
      },
      "source": [
        "## Reshape y partición de datos en Train, Validation y Test"
      ]
    },
    {
      "cell_type": "markdown",
      "metadata": {
        "id": "sYb1hTgNiAXy",
        "colab_type": "text"
      },
      "source": [
        "Redefiniciòn de dimensión de los arrays para entrenamiento con `sklearn`"
      ]
    },
    {
      "cell_type": "code",
      "metadata": {
        "id": "i2ZZ3IZAKlPP",
        "colab_type": "code",
        "outputId": "a6cf4ef9-2413-4a6b-b287-b80fb2d9f36c",
        "colab": {
          "base_uri": "https://localhost:8080/",
          "height": 51
        }
      },
      "source": [
        "# Para entrenar modelos clásicos necesitamos redefinir la dimensión de X\n",
        "\n",
        "print(\"La dimensión de X que contiene las imagenes\", X.shape)\n",
        " \n",
        "x = np.array(train_img)\n",
        "nsamples, nx, ny,channels = x.shape                    # Extracción de dimnesiónes originales\n",
        "x_resh = x.reshape((nsamples,nx*ny*channels))          # Redimensionamiento\n",
        "\n",
        "print(\"La nueva dimensión de X que contiene las imagenes\", x_resh.shape)"
      ],
      "execution_count": 7,
      "outputs": [
        {
          "output_type": "stream",
          "text": [
            "La dimensión de X que contiene las imagenes (84, 400, 400, 3)\n",
            "La nueva dimensión de X que contiene las imagenes (84, 480000)\n"
          ],
          "name": "stdout"
        }
      ]
    },
    {
      "cell_type": "markdown",
      "metadata": {
        "id": "7izpLb71LZp3",
        "colab_type": "text"
      },
      "source": [
        "\n",
        "La partición de los datos para el entrenamiento de los modelos se realiza en los siguiente 3 conjuntos y porcentajes:\n",
        "\n",
        "* Train (60%)\n",
        "* Validation (20%)\n",
        "* Test (20%)"
      ]
    },
    {
      "cell_type": "code",
      "metadata": {
        "id": "SM1wSQK-iJbn",
        "colab_type": "code",
        "colab": {}
      },
      "source": [
        "y = [int(i)-1 for i in list(y)]              # Tag de salida para que sea 0 y 1"
      ],
      "execution_count": 0,
      "outputs": []
    },
    {
      "cell_type": "code",
      "metadata": {
        "id": "w98kwwAXKtqf",
        "colab_type": "code",
        "colab": {}
      },
      "source": [
        "# Partición de train\n",
        "X_train, X_val1, y_train, y_val1 = train_test_split(x_resh, y,\n",
        "                                                    stratify=y, \n",
        "                                                    test_size=0.40,  random_state = 42)"
      ],
      "execution_count": 0,
      "outputs": []
    },
    {
      "cell_type": "code",
      "metadata": {
        "id": "Osct7oeQKt3B",
        "colab_type": "code",
        "colab": {}
      },
      "source": [
        "# Partición validación y test\n",
        "X_val, X_test, y_val, y_test = train_test_split(X_val1, y_val1,\n",
        "                                                    stratify=y_val1, \n",
        "                                                    test_size=0.5,  random_state = 42)"
      ],
      "execution_count": 0,
      "outputs": []
    },
    {
      "cell_type": "code",
      "metadata": {
        "id": "0V25owvwYoo1",
        "colab_type": "code",
        "outputId": "2aee280e-d2b6-4639-f325-ae77db17005c",
        "colab": {
          "base_uri": "https://localhost:8080/",
          "height": 269
        }
      },
      "source": [
        "import matplotlib.pyplot as plt\n",
        "plt.imshow(X_train[1].reshape((400, 400, 3)))\n",
        "plt.show()"
      ],
      "execution_count": 11,
      "outputs": [
        {
          "output_type": "display_data",
          "data": {
            "image/png": "[encoded data removed]",
            "text/plain": [
              "<Figure size 432x288 with 1 Axes>"
            ]
          },
          "metadata": {
            "tags": []
          }
        }
      ]
    },
    {
      "cell_type": "markdown",
      "metadata": {
        "id": "rJPbBaOONVx5",
        "colab_type": "text"
      },
      "source": [
        "# Clasificación de imagenes utilizando utilizando `sklearn`\n",
        "\n",
        "Para esto utilizaremos los 3 modelos propuestos en clase:\n",
        "\n",
        "1. Regresión Logistica\n",
        "2. Random Forest\n",
        "3. GradientBoosting"
      ]
    },
    {
      "cell_type": "markdown",
      "metadata": {
        "id": "EyZo4PTAS29H",
        "colab_type": "text"
      },
      "source": [
        "## Modelo 1 - Regresión Logistica"
      ]
    },
    {
      "cell_type": "code",
      "metadata": {
        "id": "TUCh2RzRaYYN",
        "colab_type": "code",
        "outputId": "4f9c4f3a-1866-427d-a826-c1a84315a5a4",
        "colab": {
          "base_uri": "https://localhost:8080/",
          "height": 102
        }
      },
      "source": [
        "model_rgl=LogisticRegression()                   # Instanciamos el modelo de regresión    \n",
        "model_rgl.fit(X_train,y_train)                   # Entrenamos el modelo con valores por defecto"
      ],
      "execution_count": 41,
      "outputs": [
        {
          "output_type": "execute_result",
          "data": {
            "text/plain": [
              "LogisticRegression(C=1.0, class_weight=None, dual=False, fit_intercept=True,\n",
              "                   intercept_scaling=1, l1_ratio=None, max_iter=100,\n",
              "                   multi_class='auto', n_jobs=None, penalty='l2',\n",
              "                   random_state=None, solver='lbfgs', tol=0.0001, verbose=0,\n",
              "                   warm_start=False)"
            ]
          },
          "metadata": {
            "tags": []
          },
          "execution_count": 41
        }
      ]
    },
    {
      "cell_type": "code",
      "metadata": {
        "id": "5JTEfxxJWedi",
        "colab_type": "code",
        "outputId": "5275f1ee-c8d0-4c2b-e953-a1f9e07e60b8",
        "colab": {
          "base_uri": "https://localhost:8080/",
          "height": 68
        }
      },
      "source": [
        "# Desempeño en accuracy entrenamiento\n",
        "\n",
        "print('El desempeño de la regresion en train es de', accuracy_score(y_train, model_rgl.predict(X_train)))\n",
        "\n",
        "# Desempeño en val\n",
        "print('El desempeño de la regresion en validacion es de', accuracy_score(y_val, model_rgl.predict(X_val)))\n",
        "\n",
        "# Desempeño en test \n",
        "print('El desempeño de la regresion en test es de', accuracy_score(y_test, model_rgl.predict(X_test)))"
      ],
      "execution_count": 43,
      "outputs": [
        {
          "output_type": "stream",
          "text": [
            "El desempeño de la regresion en train es de 1.0\n",
            "El desempeño de la regresion en validacion es de 0.5882352941176471\n",
            "El desempeño de la regresion en test es de 0.6470588235294118\n"
          ],
          "name": "stdout"
        }
      ]
    },
    {
      "cell_type": "code",
      "metadata": {
        "id": "JSGwUzMnbuhk",
        "colab_type": "code",
        "colab": {}
      },
      "source": [
        "\n",
        "\n",
        "\n",
        "#  Calculamos las predicciones de las probabilidades del dataset de test\n",
        "y_pred_prob = model.predict_proba(X_val)[:,1]"
      ],
      "execution_count": 0,
      "outputs": []
    },
    {
      "cell_type": "code",
      "metadata": {
        "id": "uMABpRoOcpRw",
        "colab_type": "code",
        "outputId": "da531918-53d5-47fa-daab-0d368fbd31a4",
        "colab": {
          "base_uri": "https://localhost:8080/",
          "height": 295
        }
      },
      "source": [
        "# Generamos los valores necesario para la curva roc\n",
        "fpr, tpr, thresholds = roc_curve(y_val, y_pred_prob) # Primero los datos reales y luegos los pronosticados por el modelo\n",
        "\n",
        "# Graficamos curva ROC\n",
        "plt.plot([0, 1], [0, 1], 'k--')\n",
        "plt.plot(fpr, tpr)\n",
        "plt.xlabel('Tasa de falsos positivos ')\n",
        "plt.ylabel('Tasa de verdaderos positivos')\n",
        "plt.title('Curva ROC')\n",
        "plt.show()"
      ],
      "execution_count": 21,
      "outputs": [
        {
          "output_type": "display_data",
          "data": {
            "image/png": "[encoded data removed]",
            "text/plain": [
              "<Figure size 432x288 with 1 Axes>"
            ]
          },
          "metadata": {
            "tags": []
          }
        }
      ]
    },
    {
      "cell_type": "code",
      "metadata": {
        "id": "fB-ZB73AaYjN",
        "colab_type": "code",
        "colab": {}
      },
      "source": [
        "grid={\"C\":np.logspace(-3,3,7),               \n",
        "      \"penalty\":[\"l1\",\"l2\"]}\n",
        "\n",
        "model=GridSearchCV(model,grid,cv=5, scoring = 'accuracy')"
      ],
      "execution_count": 0,
      "outputs": []
    },
    {
      "cell_type": "code",
      "metadata": {
        "id": "h64Rf2QXXUXX",
        "colab_type": "code",
        "outputId": "458bb9a1-7b3d-48d6-f79b-b17e1e7fcb1b",
        "colab": {
          "base_uri": "https://localhost:8080/",
          "height": 272
        }
      },
      "source": [
        "model.fit(X_train,y_train)"
      ],
      "execution_count": 0,
      "outputs": [
        {
          "output_type": "execute_result",
          "data": {
            "text/plain": [
              "GridSearchCV(cv=5, error_score=nan,\n",
              "             estimator=LogisticRegression(C=1.0, class_weight=None, dual=False,\n",
              "                                          fit_intercept=True,\n",
              "                                          intercept_scaling=1, l1_ratio=None,\n",
              "                                          max_iter=100, multi_class='auto',\n",
              "                                          n_jobs=None, penalty='l2',\n",
              "                                          random_state=None, solver='lbfgs',\n",
              "                                          tol=0.0001, verbose=0,\n",
              "                                          warm_start=False),\n",
              "             iid='deprecated', n_jobs=None,\n",
              "             param_grid={'C': array([1.e-03, 1.e-02, 1.e-01, 1.e+00, 1.e+01, 1.e+02, 1.e+03]),\n",
              "                         'penalty': ['l1', 'l2']},\n",
              "             pre_dispatch='2*n_jobs', refit=True, return_train_score=False,\n",
              "             scoring='accuracy', verbose=0)"
            ]
          },
          "metadata": {
            "tags": []
          },
          "execution_count": 53
        }
      ]
    },
    {
      "cell_type": "markdown",
      "metadata": {
        "id": "u8e9c8c2iwjV",
        "colab_type": "text"
      },
      "source": [
        "## Modelo 2 - Random Forest"
      ]
    },
    {
      "cell_type": "code",
      "metadata": {
        "id": "T43Gpo77i6Az",
        "colab_type": "code",
        "colab": {
          "base_uri": "https://localhost:8080/",
          "height": 68
        },
        "outputId": "b3263c9a-1499-4beb-b37b-5b1bb967bf10"
      },
      "source": [
        "random_forest = RandomForestClassifier(n_estimators=100, max_depth=5) # Instanciamos el modelo con 100 arboles y 5 de profundidad\n",
        "\n",
        "random_forest.fit(X_train, y_train)                                    # Entrenamos el modelo"
      ],
      "execution_count": 22,
      "outputs": [
        {
          "output_type": "stream",
          "text": [
            "El desempeño del random en train es de 1.0\n",
            "El desempeño del random en validacion es de 0.47058823529411764\n",
            "El desempeño del random en test es de 0.6470588235294118\n"
          ],
          "name": "stdout"
        }
      ]
    },
    {
      "cell_type": "markdown",
      "metadata": {
        "id": "Ih0FrZdMjfc9",
        "colab_type": "text"
      },
      "source": [
        "Imprimimos metrica de accuracy inicial. Luego veremos otras métricas"
      ]
    },
    {
      "cell_type": "code",
      "metadata": {
        "id": "8ylrqQ8Wi6FA",
        "colab_type": "code",
        "colab": {}
      },
      "source": [
        "# Desempeño en accuracy entrenamiento\n",
        "print('El desempeño del random en train es de', accuracy_score(y_train, random_forest.predict(X_train)))\n",
        "\n",
        "# Desempeño en val\n",
        "print('El desempeño del random en validacion es de', accuracy_score(y_val, random_forest.predict(X_val)))\n",
        "\n",
        "# Desempeño en test \n",
        "print('El desempeño del random en test es de', accuracy_score(y_test, random_forest.predict(X_test)))"
      ],
      "execution_count": 0,
      "outputs": []
    },
    {
      "cell_type": "code",
      "metadata": {
        "id": "mH28GYrzjrKF",
        "colab_type": "code",
        "colab": {
          "base_uri": "https://localhost:8080/",
          "height": 170
        },
        "outputId": "e3f66fc8-c068-41ca-9d2f-b7f60256ef2e"
      },
      "source": [
        "# Observemos algunas metricas mas adecuadas para clasificacion binaria\n",
        "print(classification_report(y_val, random_forest.predict(X_val)))             # Revisamos metricas"
      ],
      "execution_count": 25,
      "outputs": [
        {
          "output_type": "stream",
          "text": [
            "              precision    recall  f1-score   support\n",
            "\n",
            "           0       0.58      0.64      0.61        11\n",
            "           1       0.20      0.17      0.18         6\n",
            "\n",
            "    accuracy                           0.47        17\n",
            "   macro avg       0.39      0.40      0.40        17\n",
            "weighted avg       0.45      0.47      0.46        17\n",
            "\n"
          ],
          "name": "stdout"
        }
      ]
    },
    {
      "cell_type": "code",
      "metadata": {
        "id": "QEcxX6HUjrPK",
        "colab_type": "code",
        "colab": {
          "base_uri": "https://localhost:8080/",
          "height": 295
        },
        "outputId": "b3561487-5ab2-4026-e030-8fd17b969de4"
      },
      "source": [
        "# Graficamos curva ROC\n",
        "plot_roc_curve(random_forest, X_val, y_val)\n",
        "plt.plot([0, 1], [0, 1], 'k--')\n",
        "plt.xlabel('Tasa de falsos positivos ')\n",
        "plt.ylabel('Tasa de verdaderos positivos')\n",
        "plt.title('Curva ROC')\n",
        "plt.show()\n",
        "plt.show()"
      ],
      "execution_count": 28,
      "outputs": [
        {
          "output_type": "display_data",
          "data": {
            "image/png": "[encoded data removed]",
            "text/plain": [
              "<Figure size 432x288 with 1 Axes>"
            ]
          },
          "metadata": {
            "tags": []
          }
        }
      ]
    },
    {
      "cell_type": "markdown",
      "metadata": {
        "id": "nHbij-9QkpUr",
        "colab_type": "text"
      },
      "source": [
        "**Vamos a realizar una optimización de hipeparametros**\n",
        "\n",
        "Establecemos los valores de los hiperparametros de busqueda del RandomForest"
      ]
    },
    {
      "cell_type": "code",
      "metadata": {
        "id": "6-rzdTL_jrNN",
        "colab_type": "code",
        "colab": {}
      },
      "source": [
        "param_grid = {'n_estimators': [150,250,300],    # Aumentamos el numero de estimadores\n",
        "              'max_features': ['sqrt', 'log2'], # Intetamos reducir el numero de features a traves de estas funciones  \n",
        "              'max_depth':[5,8,10],\n",
        "              'criterion':['gini', 'entropy']}\n",
        "\n",
        "model_rf = GridSearchCV(estimator=random_forest, \n",
        "                        param_grid=param_grid, cv= 5, scoring = 'accuracy',\n",
        "                        n_jobs=-1)"
      ],
      "execution_count": 0,
      "outputs": []
    },
    {
      "cell_type": "code",
      "metadata": {
        "id": "F-QPZudllT2p",
        "colab_type": "code",
        "colab": {
          "base_uri": "https://localhost:8080/",
          "height": 408
        },
        "outputId": "41ef09f3-afe0-4ef0-8e3d-1f41a2342d95"
      },
      "source": [
        "model_rf.fit(X_train, y_train)                  # Ajustamos y optimzamos hiperparametros con el conjunto de train "
      ],
      "execution_count": 37,
      "outputs": [
        {
          "output_type": "execute_result",
          "data": {
            "text/plain": [
              "GridSearchCV(cv=5, error_score=nan,\n",
              "             estimator=RandomForestClassifier(bootstrap=True, ccp_alpha=0.0,\n",
              "                                              class_weight=None,\n",
              "                                              criterion='gini', max_depth=5,\n",
              "                                              max_features='auto',\n",
              "                                              max_leaf_nodes=None,\n",
              "                                              max_samples=None,\n",
              "                                              min_impurity_decrease=0.0,\n",
              "                                              min_impurity_split=None,\n",
              "                                              min_samples_leaf=1,\n",
              "                                              min_samples_split=2,\n",
              "                                              min_weight_fraction_leaf=0.0,\n",
              "                                              n_estimators=100, n_jobs=None,\n",
              "                                              oob_score=False,\n",
              "                                              random_state=None, verbose=0,\n",
              "                                              warm_start=False),\n",
              "             iid='deprecated', n_jobs=-1,\n",
              "             param_grid={'criterion': ['gini', 'entropy'],\n",
              "                         'max_depth': [5, 8, 10],\n",
              "                         'max_features': ['sqrt', 'log2'],\n",
              "                         'n_estimators': [150, 250, 300]},\n",
              "             pre_dispatch='2*n_jobs', refit=True, return_train_score=False,\n",
              "             scoring='accuracy', verbose=0)"
            ]
          },
          "metadata": {
            "tags": []
          },
          "execution_count": 37
        }
      ]
    },
    {
      "cell_type": "code",
      "metadata": {
        "id": "zekzHqNAlwML",
        "colab_type": "code",
        "colab": {
          "base_uri": "https://localhost:8080/",
          "height": 153
        },
        "outputId": "850476ee-9a70-4b6d-f608-16b25141c86d"
      },
      "source": [
        "model_rf.best_estimator_"
      ],
      "execution_count": 38,
      "outputs": [
        {
          "output_type": "execute_result",
          "data": {
            "text/plain": [
              "RandomForestClassifier(bootstrap=True, ccp_alpha=0.0, class_weight=None,\n",
              "                       criterion='entropy', max_depth=5, max_features='log2',\n",
              "                       max_leaf_nodes=None, max_samples=None,\n",
              "                       min_impurity_decrease=0.0, min_impurity_split=None,\n",
              "                       min_samples_leaf=1, min_samples_split=2,\n",
              "                       min_weight_fraction_leaf=0.0, n_estimators=250,\n",
              "                       n_jobs=None, oob_score=False, random_state=None,\n",
              "                       verbose=0, warm_start=False)"
            ]
          },
          "metadata": {
            "tags": []
          },
          "execution_count": 38
        }
      ]
    },
    {
      "cell_type": "markdown",
      "metadata": {
        "id": "QuxcaGe_lzZH",
        "colab_type": "text"
      },
      "source": [
        "Vamos a revisar nuevamente el accurary y las metricas de precision, recall y f1-score luego de realizar la optimización de hiperparametros"
      ]
    },
    {
      "cell_type": "code",
      "metadata": {
        "id": "9R0gaWMOlwOy",
        "colab_type": "code",
        "colab": {
          "base_uri": "https://localhost:8080/",
          "height": 68
        },
        "outputId": "16fd0ed8-cf3f-42ba-b470-1be2660cc3bb"
      },
      "source": [
        "# Desempeño en accuracy entrenamiento\n",
        "print('El desempeño del random en train es de', accuracy_score(y_train, model_rf.predict(X_train)))\n",
        "\n",
        "# Desempeño en val\n",
        "print('El desempeño del random en validacion es de', accuracy_score(y_val, model_rf.predict(X_val)))\n",
        "\n",
        "# Desempeño en test \n",
        "print('El desempeño del random en test es de', accuracy_score(y_test, model_rf.predict(X_test)))"
      ],
      "execution_count": 39,
      "outputs": [
        {
          "output_type": "stream",
          "text": [
            "El desempeño del random en train es de 1.0\n",
            "El desempeño del random en validacion es de 0.5294117647058824\n",
            "El desempeño del random en test es de 0.7058823529411765\n"
          ],
          "name": "stdout"
        }
      ]
    },
    {
      "cell_type": "code",
      "metadata": {
        "id": "Wbz-Li4ClwRT",
        "colab_type": "code",
        "colab": {
          "base_uri": "https://localhost:8080/",
          "height": 170
        },
        "outputId": "f8b8ce6d-e2d6-4eba-fb89-dbf9ad8800f8"
      },
      "source": [
        "# Precision, recall y f1-scores en validation\n",
        "print(classification_report(y_val, model_rf.predict(X_val))) "
      ],
      "execution_count": 40,
      "outputs": [
        {
          "output_type": "stream",
          "text": [
            "              precision    recall  f1-score   support\n",
            "\n",
            "           0       0.60      0.82      0.69        11\n",
            "           1       0.00      0.00      0.00         6\n",
            "\n",
            "    accuracy                           0.53        17\n",
            "   macro avg       0.30      0.41      0.35        17\n",
            "weighted avg       0.39      0.53      0.45        17\n",
            "\n"
          ],
          "name": "stdout"
        }
      ]
    },
    {
      "cell_type": "code",
      "metadata": {
        "id": "tG4ksI7TlwUQ",
        "colab_type": "code",
        "colab": {}
      },
      "source": [
        "# Pendiente entrenar con train + validation y testear"
      ],
      "execution_count": 0,
      "outputs": []
    },
    {
      "cell_type": "markdown",
      "metadata": {
        "id": "b76k_9CNixCs",
        "colab_type": "text"
      },
      "source": [
        "## Modelo 3 - Gradient Boosting"
      ]
    },
    {
      "cell_type": "code",
      "metadata": {
        "id": "DhmGj7DUjOgo",
        "colab_type": "code",
        "colab": {}
      },
      "source": [
        ""
      ],
      "execution_count": 0,
      "outputs": []
    },
    {
      "cell_type": "code",
      "metadata": {
        "id": "oZrbstLjjOfX",
        "colab_type": "code",
        "colab": {}
      },
      "source": [
        ""
      ],
      "execution_count": 0,
      "outputs": []
    },
    {
      "cell_type": "code",
      "metadata": {
        "id": "oMJnfQ64jOad",
        "colab_type": "code",
        "colab": {}
      },
      "source": [
        ""
      ],
      "execution_count": 0,
      "outputs": []
    },
    {
      "cell_type": "code",
      "metadata": {
        "id": "Wp0jaoMrL8p7",
        "colab_type": "code",
        "colab": {}
      },
      "source": [
        "def iterarmodelos(d2_train_dataset,y,modelo='rf',testsize=0.2):\n",
        "  \n",
        "  X_train, X_test, y_train, y_test = train_test_split(d2_train_dataset, y, test_size=testsize, random_state=42,stratify=y)\n",
        "  \n",
        "  if modelo == 'rf':\n",
        "    model=RandomForestClassifier()\n",
        "    # param_grid = {'n_estimators': [100,200,500],'max_features': ['auto', 'sqrt', 'log2'],'max_depth':[4,5,6,7,8],'criterion':['gini', 'entropy']}\n",
        "    # model= GridSearchCV(estimator=model, param_grid=param_grid, cv= 5, scoring = 'accuracy')\n",
        "  elif modelo=='sv':\n",
        "    model=SVC()\n",
        "    # tuned_parameters = [{'kernel': ['rbf'], 'gamma': [1e-3, 1e-4],                     'C': [1, 10, 100, 1000]},                    {'kernel': ['linear'], 'C': [1, 10, 100, 1000]}]\n",
        "    # model= GridSearchCV(estimator=model, param_grid=tuned_parameters, cv= 5)\n",
        "  elif modelo=='dt':\n",
        "    model=DecisionTreeClassifier()\n",
        "    # parameters={'min_samples_split' : range(10,500,20),'max_depth': range(1,20,2)}\n",
        "    # model=grid_search.GridSearchCV(model,parameters,cv=5, scoring = 'accuracy')\n",
        "  elif modelo=='gb':\n",
        "    model=GradientBoostingClassifier()\n",
        "    # parameters = {\"loss\":[\"deviance\"],    \"learning_rate\": [0.01, 0.025, 0.05, 0.075, 0.1, 0.15, 0.2],    \"min_samples_split\": np.linspace(0.1, 0.5, 12),    \"min_samples_leaf\": np.linspace(0.1, 0.5, 12),    \"max_depth\":[3,5,8],    \"max_features\":[\"log2\",\"sqrt\"],    \"criterion\": [\"friedman_mse\",  \"mae\"],    \"subsample\":[0.5, 0.618, 0.8, 0.85, 0.9, 0.95, 1.0],    \"n_estimators\":[10]    }\n",
        "    # model = GridSearchCV(model, parameters, cv=5, n_jobs=-1)\n",
        "  elif modelo=='rl':\n",
        "\n",
        "  elif modelo=='kn':\n",
        "    model=KNeighborsClassifier()\n",
        "    # param_grid = dict(n_neighbors = k_range, weights = weight_options)\n",
        "    # model = GridSearchCV(model, param_grid, cv = 5, scoring = 'accuracy')\n",
        "  else:\n",
        "    print('la función no está entrenada para este algoritmo')\n",
        "\n"
      ],
      "execution_count": 0,
      "outputs": []
    },
    {
      "cell_type": "code",
      "metadata": {
        "id": "i3IRlMg9Ux-V",
        "colab_type": "code",
        "colab": {}
      },
      "source": [
        "def iterarmodelos(x_resh,y,modelo='rf',testsize=0.2):\n",
        "  \n",
        "  X_train, X_val1, y_train, y_val1 = train_test_split(x_resh, y,\n",
        "                                                    stratify=y, \n",
        "                                                    test_size=0.40,  random_state = 42)\n",
        "\n",
        "\n",
        "  X_val, X_test, y_val, y_test = train_test_split(X_val1, y_val1,\n",
        "                                                    stratify=y_val1, \n",
        "                                                    test_size=0.5,  random_state = 42)\n",
        "  \n",
        "  if modelo == 'rf':\n",
        "    model=RandomForestClassifier()\n",
        "    # param_grid = {'n_estimators': [100,200,500],'max_features': ['auto', 'sqrt', 'log2'],'max_depth':[4,5,6,7,8],'criterion':['gini', 'entropy']}\n",
        "    # model= GridSearchCV(estimator=model, param_grid=param_grid, cv= 5, scoring = 'accuracy')\n",
        "  elif modelo=='sv':\n",
        "    model=SVC()\n",
        "    # tuned_parameters = [{'kernel': ['rbf'], 'gamma': [1e-3, 1e-4],                     'C': [1, 10, 100, 1000]},                    {'kernel': ['linear'], 'C': [1, 10, 100, 1000]}]\n",
        "    # model= GridSearchCV(estimator=model, param_grid=tuned_parameters, cv= 5)\n",
        "  elif modelo=='dt':\n",
        "    model=DecisionTreeClassifier()\n",
        "    # parameters={'min_samples_split' : range(10,500,20),'max_depth': range(1,20,2)}\n",
        "    # model=grid_search.GridSearchCV(model,parameters,cv=5, scoring = 'accuracy')\n",
        "  elif modelo=='gb':\n",
        "    model=GradientBoostingClassifier()\n",
        "    # parameters = {\"loss\":[\"deviance\"],    \"learning_rate\": [0.01, 0.025, 0.05, 0.075, 0.1, 0.15, 0.2],    \"min_samples_split\": np.linspace(0.1, 0.5, 12),    \"min_samples_leaf\": np.linspace(0.1, 0.5, 12),    \"max_depth\":[3,5,8],    \"max_features\":[\"log2\",\"sqrt\"],    \"criterion\": [\"friedman_mse\",  \"mae\"],    \"subsample\":[0.5, 0.618, 0.8, 0.85, 0.9, 0.95, 1.0],    \"n_estimators\":[10]    }\n",
        "    # model = GridSearchCV(model, parameters, cv=5, n_jobs=-1)\n",
        "  elif modelo=='rl':\n",
        "    model=LogisticRegression()\n",
        "    grid={\"C\":np.logspace(-3,3,7), \"penalty\":[\"l1\",\"l2\"]}\n",
        "    model=GridSearchCV(model,grid,cv=5, scoring = 'accuracy')\n",
        "  elif modelo=='kn':\n",
        "    model=KNeighborsClassifier()\n",
        "    # param_grid = dict(n_neighbors = k_range, weights = weight_options)\n",
        "    # model = GridSearchCV(model, param_grid, cv = 5, scoring = 'accuracy')\n",
        "  else:\n",
        "    print('la función no está entrenada para este algoritmo')\n",
        "\n",
        "  model.fit(X_train,y_train)\n",
        "  print(accuracy_score(y_val,model.predict(X_val)))\n",
        "  return confusion_matrix(y_val,model.predict(X_val))"
      ],
      "execution_count": 0,
      "outputs": []
    },
    {
      "cell_type": "code",
      "metadata": {
        "id": "rOq15ANfUyW0",
        "colab_type": "code",
        "colab": {}
      },
      "source": [
        ""
      ],
      "execution_count": 0,
      "outputs": []
    },
    {
      "cell_type": "code",
      "metadata": {
        "id": "xC5HMJF9XV4N",
        "colab_type": "code",
        "outputId": "c4cf2a4b-dc9c-4569-f948-0fc097878d4c",
        "colab": {
          "base_uri": "https://localhost:8080/",
          "height": 66
        }
      },
      "source": [
        "iterarmodelos(x_resh,y,modelo='gb')"
      ],
      "execution_count": 0,
      "outputs": [
        {
          "output_type": "stream",
          "text": [
            "0.6\n"
          ],
          "name": "stdout"
        },
        {
          "output_type": "execute_result",
          "data": {
            "text/plain": [
              "array([[4, 2],\n",
              "       [2, 2]])"
            ]
          },
          "metadata": {
            "tags": []
          },
          "execution_count": 38
        }
      ]
    },
    {
      "cell_type": "code",
      "metadata": {
        "id": "MrW6rYm4YYvN",
        "colab_type": "code",
        "outputId": "56d38f2f-5ca4-4114-a2f2-32d57930c973",
        "colab": {
          "base_uri": "https://localhost:8080/",
          "height": 66
        }
      },
      "source": [
        "iterarmodelos(x_resh,y,modelo='rl')"
      ],
      "execution_count": 0,
      "outputs": [
        {
          "output_type": "stream",
          "text": [
            "0.8\n"
          ],
          "name": "stdout"
        },
        {
          "output_type": "execute_result",
          "data": {
            "text/plain": [
              "array([[6, 0],\n",
              "       [2, 2]])"
            ]
          },
          "metadata": {
            "tags": []
          },
          "execution_count": 36
        }
      ]
    }
  ]
}