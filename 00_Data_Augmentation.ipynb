{
  "nbformat": 4,
  "nbformat_minor": 0,
  "metadata": {
    "colab": {
      "name": "00-Data-Augmentation.ipynb",
      "provenance": [],
      "collapsed_sections": [],
      "include_colab_link": true
    },
    "kernelspec": {
      "name": "python3",
      "display_name": "Python 3"
    }
  },
  "cells": [
    {
      "cell_type": "markdown",
      "metadata": {
        "id": "view-in-github",
        "colab_type": "text"
      },
      "source": [
        "<a href=\"https://colab.research.google.com/github/eljimenezj/CM0868--Estadistica-Multivariada-Avanzada/blob/master/00_Data_Augmentation.ipynb\" target=\"_parent\"><img src=\"https://colab.research.google.com/assets/colab-badge.svg\" alt=\"Open In Colab\"/></a>"
      ]
    },
    {
      "cell_type": "markdown",
      "metadata": {
        "id": "auBuK9rRxrBl",
        "colab_type": "text"
      },
      "source": [
        "# Estadistica Multivariada - Data Augmentation\n",
        "\n",
        "Este libro contiene la realización de data augmentation para las imagenes tomadas originalmente. Esto libro hace parte del proyecto final del curso de Estadistica Multivariada Avanzanda de la Maestría de Ciencia de Datos.\n",
        "\n",
        "Los integrantes de este trabajo:\n",
        "\n",
        "* Jorge Luis Renteria Roa\n",
        "* Edgar Leandro Jimenez Jaimes\n"
      ]
    },
    {
      "cell_type": "markdown",
      "metadata": {
        "id": "iJgy-Jqnx4j1",
        "colab_type": "text"
      },
      "source": [
        "Vamos a instalar las librerias necesarias para la ejecución de este libro"
      ]
    },
    {
      "cell_type": "code",
      "metadata": {
        "id": "0ruNzcwqH94b",
        "colab_type": "code",
        "outputId": "d2ebbabc-56a3-4c68-e698-48e10bffd258",
        "colab": {
          "base_uri": "https://localhost:8080/",
          "height": 80
        }
      },
      "source": [
        "from PIL import Image\n",
        "import pandas as pd\n",
        "import glob\n",
        "import re\n",
        "import numpy as np\n",
        "import imutils\n",
        "import time\n",
        "from google.colab import drive\n",
        "from google.colab import files\n",
        "import matplotlib.pyplot as plt\n",
        "from keras.preprocessing import image\n",
        "from numpy import expand_dims\n",
        "from keras.preprocessing.image import load_img\n",
        "from keras.preprocessing.image import img_to_array\n",
        "from keras.preprocessing.image import ImageDataGenerator\n",
        "from matplotlib import pyplot\n",
        "from google.colab.patches import cv2_imshow\n",
        "import cv2 as cv\n",
        "\n",
        "from pathlib import Path\n",
        "from sklearn.model_selection import GridSearchCV, train_test_split\n",
        "from skimage.io import imread\n",
        "\n",
        "import warnings\n",
        "warnings.filterwarnings('ignore')\n",
        "pd.set_option('display.max_columns', 30*30 + 1)"
      ],
      "execution_count": 0,
      "outputs": [
        {
          "output_type": "stream",
          "text": [
            "Using TensorFlow backend.\n"
          ],
          "name": "stderr"
        },
        {
          "output_type": "display_data",
          "data": {
            "text/html": [
              "<p style=\"color: red;\">\n",
              "The default version of TensorFlow in Colab will soon switch to TensorFlow 2.x.<br>\n",
              "We recommend you <a href=\"https://www.tensorflow.org/guide/migrate\" target=\"_blank\">upgrade</a> now \n",
              "or ensure your notebook will continue to use TensorFlow 1.x via the <code>%tensorflow_version 1.x</code> magic:\n",
              "<a href=\"https://colab.research.google.com/notebooks/tensorflow_version.ipynb\" target=\"_blank\">more info</a>.</p>\n"
            ],
            "text/plain": [
              "<IPython.core.display.HTML object>"
            ]
          },
          "metadata": {
            "tags": []
          }
        }
      ]
    },
    {
      "cell_type": "markdown",
      "metadata": {
        "id": "FlYVzIF8yF4L",
        "colab_type": "text"
      },
      "source": [
        "## Lectura"
      ]
    },
    {
      "cell_type": "code",
      "metadata": {
        "id": "2HgjiyFHIFQa",
        "colab_type": "code",
        "outputId": "69f6342e-3b33-4fd2-9ee1-bafbaa425252",
        "colab": {
          "base_uri": "https://localhost:8080/",
          "height": 122
        }
      },
      "source": [
        "drive.mount('/content/drive')"
      ],
      "execution_count": 0,
      "outputs": [
        {
          "output_type": "stream",
          "text": [
            "Go to this URL in a browser: https://accounts.google.com/o/oauth2/auth?client_id=947318989803-6bn6qk8qdgf4n4g3pfee6491hc0brc4i.apps.googleusercontent.com&redirect_uri=urn%3aietf%3awg%3aoauth%3a2.0%3aoob&response_type=code&scope=email%20https%3a%2f%2fwww.googleapis.com%2fauth%2fdocs.test%20https%3a%2f%2fwww.googleapis.com%2fauth%2fdrive%20https%3a%2f%2fwww.googleapis.com%2fauth%2fdrive.photos.readonly%20https%3a%2f%2fwww.googleapis.com%2fauth%2fpeopleapi.readonly\n",
            "\n",
            "Enter your authorization code:\n",
            "··········\n",
            "Mounted at /content/drive\n"
          ],
          "name": "stdout"
        }
      ]
    },
    {
      "cell_type": "code",
      "metadata": {
        "id": "j79MfN6CIuOe",
        "colab_type": "code",
        "colab": {}
      },
      "source": [
        "# Repo de Imagenes\n",
        "path= '/content/drive/My Drive/Estadistica Multivariada/Proyecto Final/Dataset/datalake'"
      ],
      "execution_count": 0,
      "outputs": []
    },
    {
      "cell_type": "code",
      "metadata": {
        "id": "DEpMecGxMAoC",
        "colab_type": "code",
        "colab": {}
      },
      "source": [
        "imagenes=[]\n",
        "m=0\n",
        "\n",
        "for filename in glob.glob(path+'/*')[-1:]: \n",
        "  m=m+1\n",
        "  filename[81:82]\n",
        "  # load the image\n",
        "  img = load_img(filename)\n",
        "  img.show()"
      ],
      "execution_count": 0,
      "outputs": []
    },
    {
      "cell_type": "code",
      "metadata": {
        "id": "RExA5ZW3OZHx",
        "colab_type": "code",
        "colab": {}
      },
      "source": [
        "imagenes=[]\n",
        "m=0\n",
        "\n",
        "for filename in glob.glob(path+'/*')[:]: \n",
        "  m=m+1\n",
        "  filename[81:82]\n",
        "  # load the image\n",
        "  img = cv.imread(filename)  \n",
        "  data = img_to_array(img)\n",
        "  # expand dimension to one sample\n",
        "  samples = expand_dims(data,0)\n",
        "  # create image data augmentation generator\n",
        "  datagen = ImageDataGenerator(width_shift_range=[-200,200])\n",
        "  # prepare iterator\n",
        "  it = datagen.flow(samples, batch_size=1)\n",
        "  # generate samples and plot\n",
        "  k=0\n",
        "  for i in range(9):\n",
        "\n",
        "    batch = it.next()\n",
        "    # convert to unsigned integers for viewing\n",
        "    image = batch[0].astype('uint8')\n",
        "    # plot raw pixel data\n",
        "    k=k+1\n",
        "    cv2_imshow(image)\n",
        "    cv.imwrite('/content/drive/My Drive/Estadistica Multivariada/Proyecto Final/Dataset/Prueba/'+str(filename[81:82])+'_'+str(m)+'_'+str(k)+'.jpg',image)\n",
        "\n",
        "  datagen = ImageDataGenerator(height_shift_range=0.5)\n",
        "  # prepare iterator\n",
        "  it = datagen.flow(samples, batch_size=1)\n",
        "  # generate samples and plot\n",
        "  for i in range(9):\n",
        "    # define subplot\n",
        "    # pyplot.subplot(330 + 1 + i)\n",
        "    # generate batch of images\n",
        "    batch = it.next()\n",
        "    # convert to unsigned integers for viewing\n",
        "    image = batch[0].astype('uint8')\n",
        "    # plot raw pixel data\n",
        "    k=k+1\n",
        "    cv2_imshow(image)\n",
        "    cv.imwrite('/content/drive/My Drive/Estadistica Multivariada/Proyecto Final/Dataset/Prueba/'+str(filename[81:82])+'_'+str(m)+'_'+str(k)+'.jpg',image)\n",
        "  # show the figure\n",
        "  datagen = ImageDataGenerator(horizontal_flip=True)\n",
        "  # prepare iterator\n",
        "  it = datagen.flow(samples, batch_size=1)\n",
        "  # generate samples and plot\n",
        "  for i in range(9):\n",
        "    # define subplot\n",
        "    # pyplot.subplot(330 + 1 + i)\n",
        "    # generate batch of images\n",
        "    batch = it.next()\n",
        "    # convert to unsigned integers for viewing\n",
        "    image = batch[0].astype('uint8')\n",
        "    k=k+1\n",
        "    # plot raw pixel data\n",
        "    cv2_imshow(image)\n",
        "    cv.imwrite('/content/drive/My Drive/Estadistica Multivariada/Proyecto Final/Dataset/Prueba/'+str(filename[81:82])+'_'+str(m)+'_'+str(k)+'.jpg',image)\n",
        "  datagen = ImageDataGenerator(rotation_range=90)\n",
        "  # prepare iterator\n",
        "  it = datagen.flow(samples, batch_size=1)\n",
        "  # generate samples and plot\n",
        "  for i in range(9):\n",
        "    # define subplot\n",
        "    # pyplot.subplot(330 + 1 + i)\n",
        "    # generate batch of images\n",
        "    batch = it.next()\n",
        "    # convert to unsigned integers for viewing\n",
        "    image = batch[0].astype('uint8')\n",
        "    k=k+1\n",
        "    # plot raw pixel data\n",
        "    cv2_imshow(image)\n",
        "    cv.imwrite('/content/drive/My Drive/Estadistica Multivariada/Proyecto Final/Dataset/Prueba/'+str(filename[81:82])+'_'+str(m)+'_'+str(k)+'.jpg',image)\n",
        "\n",
        "  datagen = ImageDataGenerator(brightness_range=[0.2,1.0])\n",
        "  # prepare iterator\n",
        "  it = datagen.flow(samples, batch_size=1)\n",
        "  # generate samples and plot\n",
        "  for i in range(9):\n",
        "    # define subplot\n",
        "    # pyplot.subplot(330 + 1 + i)\n",
        "    # generate batch of images\n",
        "    batch = it.next()\n",
        "    # convert to unsigned integers for viewing\n",
        "    image = batch[0].astype('uint8')\n",
        "    k=k+1\n",
        "    # plot raw pixel data\n",
        "    cv2_imshow(image)\n",
        "    cv.imwrite('/content/drive/My Drive/Estadistica Multivariada/Proyecto Final/Dataset/Prueba/'+str(filename[81:82])+'_'+str(m)+'_'+str(k)+'.jpg',image)\n",
        "\n",
        "  datagen = ImageDataGenerator(zoom_range=[0.5,1.0])\n",
        "  # prepare iterator\n",
        "  it = datagen.flow(samples, batch_size=1)\n",
        "  # generate samples and plot\n",
        "  for i in range(9):\n",
        "    # define subplot\n",
        "    # pyplot.subplot(330 + 1 + i)\n",
        "    # generate batch of images\n",
        "    batch = it.next()\n",
        "    # convert to unsigned integers for viewing\n",
        "    image = batch[0].astype('uint8')\n",
        "    k=k+1\n",
        "    # plot raw pixel data\n",
        "    #cv2_imshow(image)\n",
        "    cv.imwrite('/content/drive/My Drive/Estadistica Multivariada/Proyecto Final/Dataset/Prueba/'+str(filename[81:82])+'_'+str(m)+'_'+str(k)+'.jpg',image)\n",
        "  "
      ],
      "execution_count": 0,
      "outputs": []
    }
  ]
}