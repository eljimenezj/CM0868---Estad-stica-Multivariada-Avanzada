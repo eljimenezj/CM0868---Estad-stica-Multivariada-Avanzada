{
  "nbformat": 4,
  "nbformat_minor": 0,
  "metadata": {
    "colab": {
      "name": "02- Clasificación de imagenes_DeepLearning.ipynb",
      "provenance": [],
      "collapsed_sections": [],
      "include_colab_link": true
    },
    "kernelspec": {
      "name": "python3",
      "display_name": "Python 3"
    },
    "accelerator": "TPU"
  },
  "cells": [
    {
      "cell_type": "markdown",
      "metadata": {
        "id": "view-in-github",
        "colab_type": "text"
      },
      "source": [
        "<a href=\"https://colab.research.google.com/github/eljimenezj/CM0868--Estadistica-Multivariada-Avanzada/blob/master/02_Clasificaci%C3%B3n_de_imagenes_DeepLearning.ipynb\" target=\"_parent\"><img src=\"https://colab.research.google.com/assets/colab-badge.svg\" alt=\"Open In Colab\"/></a>"
      ]
    },
    {
      "cell_type": "markdown",
      "metadata": {
        "id": "kZl2sp6N7qc3",
        "colab_type": "text"
      },
      "source": [
        "**Nota: ESTE LIBRO AUN SE ENCUENTRA EN PROCESO DE CONSTRUCCIÓN** - Marzo 23 de 2020"
      ]
    },
    {
      "cell_type": "markdown",
      "metadata": {
        "id": "vfU7bayz3i3o",
        "colab_type": "text"
      },
      "source": [
        "# Estadistica Multivariada - Clasificación de imagenes con modelos de Deep  Learning \n",
        "\n",
        "Este libro contiene un estudio de de clasificación de imagenes utilizando modelos de redes neuronales profundas. Esto libro hace parte del proyecto final del curso de Estadistica Multivariada Avanzanda de la Maestría de Ciencia de Datos.\n",
        "\n",
        "Los integrantes de este trabajo:\n",
        "\n",
        "* Jorge Luis Renteria Roa\n",
        "* Edgar Leandro Jimenez Jaimes\n",
        "\n",
        "\n",
        "\n"
      ]
    },
    {
      "cell_type": "markdown",
      "metadata": {
        "id": "3aUfJOAQ3skg",
        "colab_type": "text"
      },
      "source": [
        "Vamos a instalar las librerias necesarias para la ejecución de este libro"
      ]
    },
    {
      "cell_type": "code",
      "metadata": {
        "id": "m6LPfOXv1YP6",
        "colab_type": "code",
        "outputId": "9c5684e9-104e-437d-827f-dc3c8940bfd3",
        "colab": {
          "base_uri": "https://localhost:8080/",
          "height": 81
        }
      },
      "source": [
        "from PIL import Image\n",
        "import pandas as pd\n",
        "import glob\n",
        "import re\n",
        "import numpy as np\n",
        "import imutils\n",
        "import time\n",
        "from google.colab import drive\n",
        "from google.colab import files\n",
        "import matplotlib.pyplot as plt\n",
        "from sklearn.model_selection import GridSearchCV\n",
        "from keras.preprocessing import image\n",
        "import cv2 as cv\n",
        "from pathlib import Path\n",
        "from sklearn.model_selection import GridSearchCV, train_test_split\n",
        "from skimage.io import imread\n",
        "import warnings\n",
        "warnings.filterwarnings('ignore')\n",
        "\n",
        "\n",
        "import tensorflow as tf\n",
        "import keras_preprocessing\n",
        "from keras_preprocessing import image\n",
        "from keras_preprocessing.image import ImageDataGenerator\n",
        "\n",
        "\n",
        "pd.set_option('display.max_columns', 30*30 + 1)"
      ],
      "execution_count": 1,
      "outputs": [
        {
          "output_type": "stream",
          "text": [
            "Using TensorFlow backend.\n"
          ],
          "name": "stderr"
        },
        {
          "output_type": "display_data",
          "data": {
            "text/html": [
              "<p style=\"color: red;\">\n",
              "The default version of TensorFlow in Colab will soon switch to TensorFlow 2.x.<br>\n",
              "We recommend you <a href=\"https://www.tensorflow.org/guide/migrate\" target=\"_blank\">upgrade</a> now \n",
              "or ensure your notebook will continue to use TensorFlow 1.x via the <code>%tensorflow_version 1.x</code> magic:\n",
              "<a href=\"https://colab.research.google.com/notebooks/tensorflow_version.ipynb\" target=\"_blank\">more info</a>.</p>\n"
            ],
            "text/plain": [
              "<IPython.core.display.HTML object>"
            ]
          },
          "metadata": {
            "tags": []
          }
        }
      ]
    },
    {
      "cell_type": "code",
      "metadata": {
        "id": "eMoW5Sy37ijf",
        "colab_type": "code",
        "outputId": "5dc5b02d-fa45-44ce-c985-3f6683a097ca",
        "colab": {
          "base_uri": "https://localhost:8080/",
          "height": 125
        }
      },
      "source": [
        "drive.mount('/content/drive')"
      ],
      "execution_count": 0,
      "outputs": [
        {
          "output_type": "stream",
          "text": [
            "Go to this URL in a browser: https://accounts.google.com/o/oauth2/auth?client_id=947318989803-6bn6qk8qdgf4n4g3pfee6491hc0brc4i.apps.googleusercontent.com&redirect_uri=urn%3aietf%3awg%3aoauth%3a2.0%3aoob&response_type=code&scope=email%20https%3a%2f%2fwww.googleapis.com%2fauth%2fdocs.test%20https%3a%2f%2fwww.googleapis.com%2fauth%2fdrive%20https%3a%2f%2fwww.googleapis.com%2fauth%2fdrive.photos.readonly%20https%3a%2f%2fwww.googleapis.com%2fauth%2fpeopleapi.readonly\n",
            "\n",
            "Enter your authorization code:\n",
            "··········\n",
            "Mounted at /content/drive\n"
          ],
          "name": "stdout"
        }
      ]
    },
    {
      "cell_type": "markdown",
      "metadata": {
        "id": "RjUgTWSm38ZP",
        "colab_type": "text"
      },
      "source": [
        "## Lectura y estructuración de pipeline"
      ]
    },
    {
      "cell_type": "code",
      "metadata": {
        "colab_type": "code",
        "outputId": "c1b4178b-4896-4cda-da50-dfa7f356d806",
        "id": "ATXgnwpfwZtl",
        "colab": {
          "base_uri": "https://localhost:8080/",
          "height": 52
        }
      },
      "source": [
        "dir_train = '/content/drive/My Drive/Estadistica Multivariada/Proyecto Final/Dataset/datalake_rente/Train/'\n",
        "datagen_train = ImageDataGenerator(rescale=1./255)\n",
        "\n",
        "dir_val = '/content/drive/My Drive/Estadistica Multivariada/Proyecto Final/Dataset/datalake_rente/Validation/'\n",
        "datagen_val = ImageDataGenerator(rescale=1./255)\n",
        "\n",
        "gen_train = datagen_train.flow_from_directory(\n",
        "    dir_train, target_size=(256, 256), class_mode='sparse'\n",
        ")\n",
        "gen_val = datagen_val.flow_from_directory(\n",
        "    dir_val, target_size=(256,256), class_mode='sparse' # Usar el mismo numerode pixeles que en el modelo clasico\n",
        ")"
      ],
      "execution_count": 0,
      "outputs": [
        {
          "output_type": "stream",
          "text": [
            "Found 30 images belonging to 2 classes.\n",
            "Found 8 images belonging to 2 classes.\n"
          ],
          "name": "stdout"
        }
      ]
    },
    {
      "cell_type": "markdown",
      "metadata": {
        "id": "ym79kg-X6K_F",
        "colab_type": "text"
      },
      "source": [
        ""
      ]
    },
    {
      "cell_type": "code",
      "metadata": {
        "id": "3oPolHE76qN9",
        "colab_type": "code",
        "colab": {}
      },
      "source": [
        "# Leyendo un modelo h5 '/content/drive/\n",
        " \n",
        " # Recreate the exact same model, including its weights and the optimizer\n",
        "#new_model = tf.keras.models.load_model('modelo1.h5')\n",
        "\n",
        "# Show the model architecture\n",
        "#new_model.summary()"
      ],
      "execution_count": 0,
      "outputs": []
    },
    {
      "cell_type": "markdown",
      "metadata": {
        "id": "C1Jes9vHr_2_",
        "colab_type": "text"
      },
      "source": [
        "# Clasificación de imagenes utilizando utilizando redes neuronales profundas\n",
        "\n",
        "Para esto utilizaremos los 3 modelos:\n",
        "\n",
        "1. Red neuronal Fully Conected\n",
        "2. Red Neuronal Convolucional con arquitectura propuesta\n",
        "3. Red Neuronal Convolucional con arquitectura predefinida (Resnet de Keras)"
      ]
    },
    {
      "cell_type": "markdown",
      "metadata": {
        "id": "hpBiXm6-4bon",
        "colab_type": "text"
      },
      "source": [
        "## Modelo 1 - Red neuronal Fully Conected"
      ]
    },
    {
      "cell_type": "code",
      "metadata": {
        "id": "yXMnHOcY4myl",
        "colab_type": "code",
        "colab": {}
      },
      "source": [
        "modelo1 = tf.keras.models.Sequential([\n",
        "    # El tamaño esperado es 150x150 con 3 bytes de color\n",
        "    tf.keras.layers.Flatten(input_shape=(400, 400, 3)),       # Usar el mismo numerode pixeles que en el modelo clasico\n",
        "    # 512 neuronas en la capa interna\n",
        "    tf.keras.layers.Dense(512, activation='relu'),            # Primera capa (Potencias del dos)\n",
        "    tf.keras.layers.Dropout(0.5),                             # Regularizacion capa 1\n",
        "    tf.keras.layers.Dense(256, activation='relu'),            # Segunda capa\n",
        "    tf.keras.layers.Dropout(0.5),                             # Regularizacion capa 2\n",
        "    tf.keras.layers.Dense(128, activation='relu'),            # Tercera capa\n",
        "    tf.keras.layers.Dropout(0.5),                             # Regularizacion capa 3\n",
        "    # Probabilidad de pertenencia a cada una de las 3 clases\n",
        "    tf.keras.layers.Dense(2, activation='softmax')\n",
        "])\n",
        "\n",
        "modelo1.summary() # Mirar arquitectura del modelo\n",
        "\n",
        "modelo1.compile(loss='sparse_categorical_crossentropy',      # Funcion de perdida\n",
        "                optimizer='adam',                            # Optimizar los pesos de la red\n",
        "                metrics=['accuracy'])                        # Ojo con las clases desbalanceadas"
      ],
      "execution_count": 0,
      "outputs": []
    },
    {
      "cell_type": "code",
      "metadata": {
        "id": "LCEdGDEE4m10",
        "colab_type": "code",
        "colab": {}
      },
      "source": [
        "# Entrenamiento\n",
        "historia1 = modelo1.fit_generator(gen_train,                 # Data de entrenamiento \n",
        "                                  epochs=5,                  # Cuantas veces va a pasar por el dataset (100 podría ser un numero)\n",
        "                                  validation_data=gen_val,   # Data de validacion\n",
        "                                  steps_per_epoch=10,        # Particiones para entrenar\n",
        "                                  verbose=1)                 # Mostar los logs de entrenamiento\n",
        "# Guardo el modelo\n",
        "modelo1.save(\"modelo1.h5\")"
      ],
      "execution_count": 0,
      "outputs": []
    },
    {
      "cell_type": "code",
      "metadata": {
        "id": "K1CgGmnk58rT",
        "colab_type": "code",
        "colab": {}
      },
      "source": [
        "## Mostarmos rendimientos en train y test de la red por cada epoca.\n",
        "\n",
        "import matplotlib.pyplot as plt\n",
        "\n",
        "def plot_history(history):\n",
        "  acc = history.history['acc']\n",
        "  val_acc = history.history['val_acc']\n",
        "  loss = history.history['loss']\n",
        "  val_loss = history.history['val_loss']\n",
        "\n",
        "  epocas = range(len(acc))\n",
        "\n",
        "  plt.plot(epocas, acc, 'r', label='Entrenamiento')\n",
        "  plt.plot(epocas, val_acc, 'b', label='Validación')\n",
        "  plt.title('Precisión en cada época')\n",
        "  plt.legend(loc=0)\n",
        "  \n",
        "plot_history(historia1)"
      ],
      "execution_count": 0,
      "outputs": []
    },
    {
      "cell_type": "code",
      "metadata": {
        "id": "YpRl3OwS58xa",
        "colab_type": "code",
        "colab": {}
      },
      "source": [
        ""
      ],
      "execution_count": 0,
      "outputs": []
    },
    {
      "cell_type": "markdown",
      "metadata": {
        "id": "HIRQxDch4dVC",
        "colab_type": "text"
      },
      "source": [
        "## Modelo 2 - Red Neuronal Convolucional con arquitectura propuesta"
      ]
    },
    {
      "cell_type": "markdown",
      "metadata": {
        "id": "AbwxqJOO4xjp",
        "colab_type": "text"
      },
      "source": [
        "Revisar\n",
        "https://blog.keras.io/building-powerful-image-classification-models-using-very-little-data.html"
      ]
    },
    {
      "cell_type": "code",
      "metadata": {
        "id": "pavtVnP44nTE",
        "colab_type": "code",
        "colab": {}
      },
      "source": [
        ""
      ],
      "execution_count": 0,
      "outputs": []
    },
    {
      "cell_type": "markdown",
      "metadata": {
        "id": "ZhATvPIA4dYp",
        "colab_type": "text"
      },
      "source": [
        "## Modelo 3 -  Red Neuronal Convolucional con arquitectura predefinida (Resnet de Keras)"
      ]
    },
    {
      "cell_type": "code",
      "metadata": {
        "id": "kKsnH1GN4nqw",
        "colab_type": "code",
        "colab": {}
      },
      "source": [
        "# Instacia del modelo y configuración\n",
        "base_model = tf.keras.applications.resnet50.ResNet50(weights= 'imagenet', \n",
        "                                            include_top=False, \n",
        "                                            input_shape= (256,256,3))\n",
        "\n",
        "x = base_model.output                                       # salida de resnet\n",
        "x = tf.keras.layers.GlobalAveragePooling2D()(x)             # operacion de pooling\n",
        "x = tf.keras.layers.Dropout(0.7)(x)                         # regularizar\n",
        "\n",
        "predictions = tf.keras.layers.Dense(2,                      # numero de clases\n",
        "                    activation= 'softmax')(x)\n",
        "\n",
        "model = tf.keras.models.Model(inputs = base_model.input, outputs = predictions)\n",
        "\n",
        "#\n",
        "\n",
        "model.summary() # Mirar arquitectura del modelo resnet50\n",
        "\n",
        "model.compile(loss='sparse_categorical_crossentropy',        # Funcion de perdida\n",
        "                optimizer='adam',                            # Optimizar los pesos de la red\n",
        "                metrics=['accuracy'])                        # Ojo con las clases desbalanceadas"
      ],
      "execution_count": 0,
      "outputs": []
    },
    {
      "cell_type": "code",
      "metadata": {
        "id": "aLyQVD2w4ntY",
        "colab_type": "code",
        "colab": {}
      },
      "source": [
        "# Entrenamiento\n",
        "historia2 = model.fit_generator(gen_train,                  # Data de entrenamiento \n",
        "                                  epochs=5,                 # Cuantas veces va a pasar por el dataset (100 podría ser un numero)\n",
        "                                  validation_data=gen_val,  # Data de validacion\n",
        "                                  steps_per_epoch=50,       # Particiones para entrenar\n",
        "                                  #batch_size=16,           #\n",
        "                                  verbose=1)                # Mostar los logs de entrenamiento\n",
        "# Guardo el modelo\n",
        "model.save(\"modelo2.h5\")"
      ],
      "execution_count": 0,
      "outputs": []
    },
    {
      "cell_type": "markdown",
      "metadata": {
        "id": "UZ25JizNBVNg",
        "colab_type": "text"
      },
      "source": [
        "**TIPS**\n",
        "\n",
        "* Aplicar las mismas transformaciones tanto para los modelos clasicos como los modelos de DL.\n",
        "\n",
        "* Se espera que de menor el transfer learning sea mejor.\n",
        "\n",
        "* Para el modelo de cero replicar el link\n",
        "\n",
        "* Para el fully conected (no va a dar tan bien). Bajar capas.\n",
        "\n",
        "* Tamaño: Intentar con 300, entre mas grande mas informacion tiene\n",
        "\n"
      ]
    },
    {
      "cell_type": "code",
      "metadata": {
        "id": "mDdy81A7ejbm",
        "colab_type": "code",
        "colab": {}
      },
      "source": [
        "# Repo de Imagenes\n",
        "path= '/content/drive/My Drive/Estadistica Multivariada/Proyecto Final/Dataset/DataAUG'"
      ],
      "execution_count": 0,
      "outputs": []
    }
  ]
}