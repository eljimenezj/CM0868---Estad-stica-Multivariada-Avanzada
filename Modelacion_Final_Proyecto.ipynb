{
  "nbformat": 4,
  "nbformat_minor": 0,
  "metadata": {
    "colab": {
      "name": "Modelacion_Final_VF_Resultados_OK.ipynb",
      "provenance": [],
      "collapsed_sections": [],
      "include_colab_link": true
    },
    "kernelspec": {
      "name": "python3",
      "display_name": "Python 3"
    },
    "accelerator": "GPU"
  },
  "cells": [
    {
      "cell_type": "markdown",
      "metadata": {
        "id": "view-in-github",
        "colab_type": "text"
      },
      "source": [
        "<a href=\"https://colab.research.google.com/github/eljimenezj/CM0868--Estadistica-Multivariada-Avanzada/blob/master/Modelacion_Final_Proyecto.ipynb\" target=\"_parent\"><img src=\"https://colab.research.google.com/assets/colab-badge.svg\" alt=\"Open In Colab\"/></a>"
      ]
    },
    {
      "cell_type": "markdown",
      "metadata": {
        "id": "xA4iutahYbsj",
        "colab_type": "text"
      },
      "source": [
        "# Estadistica Multivariada - Clasificación de imagenes utilizando Machine Learning y Deep Learning\n",
        "\n",
        "A continuación se presenta un estudio de clasificación de imagenes utilizando un modelo de regresión logística y posteriormente el uso de redes neuronales profundas. Esto libro hace parte del proyecto final del curso de Estadistica Multivariada Avanzanda de la Maestría de Ciencia de Datos.\n",
        "\n",
        "Los integrantes de este trabajo:\n",
        "\n",
        "* Jorge Luis Renteria Roa - jlrenteria@eafit.edu.co\n",
        "* Edgar Leandro Jimenez Jaimes - eljimenezj@eafit.edu.co\n",
        "\n",
        "Profesor: Tomas Olarte"
      ]
    },
    {
      "cell_type": "markdown",
      "metadata": {
        "id": "ApaFRhHwZU5L",
        "colab_type": "text"
      },
      "source": [
        "Este libro se encuentra organizado de la siguiente manera:\n",
        "\n",
        "1. Lectura y estructuración del pipeline de los datos.\n",
        "  * Estructuración del Data Augmentation utilizando `ImageDataGenerator`\n",
        "2. Construcción y entrenamiento modelo de regresión logistica.\n",
        "3. Construcción y entrenamiento Red Neuronal Convolucional construida desde cero.\n",
        "4. Entrenamiento de red neuronal preentrenada:\n",
        "  * `ResNet50`\n",
        "\n",
        "\n"
      ]
    },
    {
      "cell_type": "markdown",
      "metadata": {
        "id": "pOq3w1BLjX6w",
        "colab_type": "text"
      },
      "source": [
        "# Introducción\n",
        "\n",
        "Los negocios del sector gastronómico son similares en que la gran mayoría de ellos llevan sus procesos de manera convencional con una participación casi nula de los datos para la toma de decisiones, por ello, preguntas como ¿Cuánto productos X hemos elaborado? suelen responderse con base a la sensación de los empleados. Utilizar métodos de visión computacional y algoritmos de aprendizaje a través de redes neuronales representan una alternativa como respuesta tecnológica de esas preguntas.\n",
        "\n",
        "Con el desarrollo de esta investigación se pretende evaluar la factibilidad de implementar modelos robustos para clasificar de manera precisa dos clases (dos tipos de pizza) en un conjunto de imágenes. Todo esto apalancado en los conceptos recibidos en clase y con la motivación personal extra de disrumpir la manera tradicional de controlar los negocios a través de métodos inteligentes de bajo costo al alcance de pequeños emprendedores (quienes son los más afectados por el problema) y escalable a los de mayor tamaño.\n"
      ]
    },
    {
      "cell_type": "code",
      "metadata": {
        "id": "ovo41pOPF2dT",
        "colab_type": "code",
        "outputId": "aa17cde0-ad6a-4c2f-901f-bd613709b612",
        "colab": {
          "base_uri": "https://localhost:8080/",
          "height": 88
        }
      },
      "source": [
        "# Vamos a cargar las Librerias necesarias para preprocesar\n",
        "from PIL import Image\n",
        "import pandas as pd\n",
        "import glob\n",
        "import re\n",
        "import numpy as np\n",
        "import imutils\n",
        "import time\n",
        "import os  \n",
        "import seaborn as sn  \n",
        "import datetime\n",
        "from tqdm import tqdm\n",
        "from pathlib import Path\n",
        "\n",
        "import tensorflow as tf\n",
        "import keras_preprocessing\n",
        "from keras.applications import densenet  \n",
        "from keras import regularizers  \n",
        "from keras import backend as K  \n",
        "from keras.preprocessing import image\n",
        "from keras.layers import Conv2D, MaxPooling2D\n",
        "from keras.models import Sequential  \n",
        "from keras_preprocessing.image import ImageDataGenerator\n",
        "from keras.layers import Conv2D, MaxPooling2D\n",
        "from keras.layers import Activation, Dropout, Flatten, Dense\n",
        "from keras.models import Sequential, Model, load_model  \n",
        "from keras.layers import Activation, Dropout, Flatten, Dense  \n",
        "from keras.callbacks import EarlyStopping, ReduceLROnPlateau, ModelCheckpoint, Callback  \n",
        "  \n",
        "from google.colab import drive\n",
        "from google.colab import files\n",
        "import matplotlib.pyplot as plt\n",
        "\n",
        "\n",
        "from sklearn.preprocessing import LabelEncoder\n",
        "from sklearn.preprocessing import OneHotEncoder\n",
        "from sklearn.model_selection import GridSearchCV, train_test_split\n",
        "from sklearn.metrics import confusion_matrix, classification_report  \n",
        "\n",
        "from keras.backend import manual_variable_initialization \n",
        "manual_variable_initialization(True)\n",
        "\n",
        "import tensorflow as tf\n",
        "\n",
        "import warnings\n",
        "warnings.filterwarnings('ignore')\n",
        "pd.set_option('display.max_columns', 30*30 + 1)"
      ],
      "execution_count": 0,
      "outputs": [
        {
          "output_type": "stream",
          "text": [
            "/usr/local/lib/python3.6/dist-packages/statsmodels/tools/_testing.py:19: FutureWarning: pandas.util.testing is deprecated. Use the functions in the public API at pandas.testing instead.\n",
            "  import pandas.util.testing as tm\n",
            "Using TensorFlow backend.\n"
          ],
          "name": "stderr"
        }
      ]
    },
    {
      "cell_type": "markdown",
      "metadata": {
        "id": "GEYucsejdxVu",
        "colab_type": "text"
      },
      "source": [
        "# 1. Lectura y estructuración del pipeline de los datos."
      ]
    },
    {
      "cell_type": "markdown",
      "metadata": {
        "id": "17aLIIXOeJE7",
        "colab_type": "text"
      },
      "source": [
        "## 1.1 Estructuración del Data Augmentation utilizando ImageDataGenerator"
      ]
    },
    {
      "cell_type": "code",
      "metadata": {
        "id": "H5aHzRDwrXQg",
        "colab_type": "code",
        "outputId": "633ee363-ebcb-41d8-9205-4947781fcad5",
        "colab": {
          "base_uri": "https://localhost:8080/",
          "height": 34
        }
      },
      "source": [
        "'''\n",
        "# Ahora realizamos la autenticacion necesaria para Google Drive\n",
        "# e ir a buscar los datos almacenados, esto debe realizare cada vez\n",
        "# que se reinicie el Colab \n",
        "'''\n",
        "\n",
        "drive.mount('/content/drive')"
      ],
      "execution_count": 0,
      "outputs": [
        {
          "output_type": "stream",
          "text": [
            "Drive already mounted at /content/drive; to attempt to forcibly remount, call drive.mount(\"/content/drive\", force_remount=True).\n"
          ],
          "name": "stdout"
        }
      ]
    },
    {
      "cell_type": "code",
      "metadata": {
        "id": "9HnGlPnSvxg8",
        "colab_type": "code",
        "colab": {}
      },
      "source": [
        "'''\n",
        "# Definición de algunos parametros de entrada que serviran de control durante el notebook. Las variables\n",
        "# img_width, img_height configuran el ancho y alto en pixeles que se van a tomar de las imagenes de entradas\n",
        "# nb_train_samples se refiere al Numero inicial de muestras en train, nb_validation_samples y nb_test_samples\n",
        "# al numero de imagenes en validacion y test respectivamente. Y el batch_size será el encargado de controlar\n",
        "# un numero de imagenes dado, es decir el valor configurado se refiere a un numero de imagenes\n",
        "'''\n",
        "\n",
        "img_width, img_height = 400, 400  \n",
        "nb_train_samples = 50             \n",
        "nb_validation_samples = 16        \n",
        "nb_test_samples = 17\n",
        "batch_size = 8                    \n",
        "\n",
        "'''\n",
        "# Hacemos definición de los directorios donde se encuentra la información, estas imagenes se encuentran\n",
        "# almacenadas por carpetas y divididas en las clase 1 y 2 respectivamente\n",
        "'''\n",
        "\n",
        "path_base = '/content/drive/My Drive/Estadistica Multivariada/Proyecto Final/Dataset/imagenes_finales'\n",
        "train_data_dir = path_base + '/Train'  \n",
        "validation_data_dir = path_base + '/Validation'\n",
        "test_data_dir = path_base + '/Test'"
      ],
      "execution_count": 0,
      "outputs": []
    },
    {
      "cell_type": "markdown",
      "metadata": {
        "id": "8d-A5aKDMeAt",
        "colab_type": "text"
      },
      "source": [
        "\n",
        "A continuación se van a configurar los generadores de datos que nos van a servir para establecer los datos de entrenamiento, de validación y de testeo. Para esta tarea se utiliza `ImageDataGenerator`  la cual  una función creada en Keras que genera pilas de imágenes con datos crecientes en tiempo real. Los códigos más básicos para crear y configurar el data augmentation y para formar una red neural profunda con imágenes mejoradas son los siguientes"
      ]
    },
    {
      "cell_type": "code",
      "metadata": {
        "id": "EPCdahIzq2oN",
        "colab_type": "code",
        "outputId": "e110df8a-d312-4906-e63f-fc0856f7a52e",
        "colab": {
          "base_uri": "https://localhost:8080/",
          "height": 68
        }
      },
      "source": [
        "''''\n",
        "Estructuramos el DataAugmentacion que se va a utilizar durante el entrenamiento de las imagenes para esto se utiliza \n",
        "ImageDataGenerator como se menciono anteriormente, la cual se configuro de la siguiente manera:\n",
        "\n",
        "--> rescale: Se utiliza para hacer una normalizacion de los datos de entrada, para esto se utilizo la forma que \n",
        "realiza el preprocesamiento de datos de resnet50: https://github.com/keras-team/keras-applications/blob/master/keras_applications/imagenet_utils.py\n",
        "este rescale se utilizara tanto para los datos de train, como de validacion y test de todos los modelos.\n",
        "\n",
        "--> horizontal_flip:  Ejecuta vueltas a las imagenes (efecto similar a un espejo)\n",
        "\n",
        "--> rotation_range: Rotaciónn de la imagen en el rango [0,90]\n",
        "\n",
        "--> brightness_range: Cambia los niveles de luminosidad de la imagen\n",
        "\n",
        "--> : Realiza Zoom a la imagen (Si < 1 acerco, = 1 Misma imagen, > 1 Alejo)\n",
        "\n",
        "# Importacion\n",
        "imgen = ImageDataGenerator(rescale=1/255)\n",
        "''''\n",
        "\n",
        "# Generador Data Augmentacion en Train \n",
        "train_datagen = ImageDataGenerator(  \n",
        "    rescale=1. / 127.5 - 1,                                                                     \n",
        "    horizontal_flip=True,                                         \n",
        "    rotation_range=90,                                            \n",
        "    brightness_range=[0.2,0.8],                                   \n",
        "    zoom_range=[0.8,1.2])        \n",
        "                                 \n",
        "'''\n",
        "Ahora instanciamos lo que se utilizará como datos de entranmiento y le damos el directorio donde se encuentran\n",
        "las imagenes, teniendo en cuenta el train.datagen anterior que será el encargado de realizar el data augmentation\n",
        "'''\n",
        "\n",
        "train_generator = train_datagen.flow_from_directory(  \n",
        "    train_data_dir,                                               # Directorio de datos de entrenamiento  \n",
        "    target_size=(img_width, img_height),                          # Dimensiones de las imagenes    \n",
        "    batch_size=batch_size,                                        # Particiones por imagenes                        \n",
        "    class_mode='binary')                                          # Tipo de clase de labels\n",
        "\n",
        "\n",
        "'''\n",
        "Ahora instanciamos lo que se utilizará como datos de validación y le damos el directorio donde se encuentran\n",
        "las imagenes. Para este caso no se realiza el data augmentation, este se emplea en entrenamiento.\n",
        "'''\n",
        "\n",
        "validation_datagen = ImageDataGenerator(rescale=1. / 127.5 - 1) \n",
        "validation_generator = validation_datagen.flow_from_directory(  \n",
        "    validation_data_dir,\n",
        "    target_size=(img_width, img_height),\n",
        "    batch_size=batch_size,\n",
        "    class_mode='binary') \n",
        "\n",
        "'''\n",
        "Ahora instanciamos lo que se utilizará como datos de test y le damos el directorio donde se encuentran\n",
        "las imagenes. Para este caso no se realiza el data augmentation, este se emplea en entrenamiento.\n",
        "'''\n",
        "\n",
        "test_datagen = ImageDataGenerator(rescale=1. / 127.5 - 1) \n",
        "test_generator = test_datagen.flow_from_directory(  \n",
        "    test_data_dir,\n",
        "    target_size=(img_width, img_height),\n",
        "    batch_size=batch_size,\n",
        "    class_mode='binary') \n"
      ],
      "execution_count": 0,
      "outputs": [
        {
          "output_type": "stream",
          "text": [
            "Found 50 images belonging to 2 classes.\n",
            "Found 15 images belonging to 2 classes.\n",
            "Found 17 images belonging to 2 classes.\n"
          ],
          "name": "stdout"
        }
      ]
    },
    {
      "cell_type": "code",
      "metadata": {
        "id": "TyHepGRnfHAq",
        "colab_type": "code",
        "outputId": "8bdb1159-1b02-4a6c-82ab-8cb30a17ffaf",
        "colab": {
          "base_uri": "https://localhost:8080/",
          "height": 170
        }
      },
      "source": [
        "'''\n",
        "Con estas lineas de codigo a continuación revisamos cuantas imagenes tenemos en las carpetas de los \n",
        "directorios y a que clase pertenecen.\n",
        "'''\n",
        "import os\n",
        "clase1_train = sum([len(files) for r, d, files in os.walk('/content/drive/My Drive/Estadistica Multivariada/Proyecto Final/Dataset/imagenes_finales/Train/Clase1')])\n",
        "clase2_train = sum([len(files) for r, d, files in os.walk('/content/drive/My Drive/Estadistica Multivariada/Proyecto Final/Dataset/imagenes_finales/Train/Clase2')])\n",
        "\n",
        "clase1_validation = sum([len(files) for r, d, files in os.walk('/content/drive/My Drive/Estadistica Multivariada/Proyecto Final/Dataset/imagenes_finales/Validation/Clase1')])\n",
        "clase2_validation = sum([len(files) for r, d, files in os.walk('/content/drive/My Drive/Estadistica Multivariada/Proyecto Final/Dataset/imagenes_finales/Validation/Clase2')])\n",
        "\n",
        "clase1_test = sum([len(files) for r, d, files in os.walk('/content/drive/My Drive/Estadistica Multivariada/Proyecto Final/Dataset/imagenes_finales/Test/Clase1')])\n",
        "clase2_test = sum([len(files) for r, d, files in os.walk('/content/drive/My Drive/Estadistica Multivariada/Proyecto Final/Dataset/imagenes_finales/Test/Clase2')])\n",
        "\n",
        "\n",
        "print('Numero de registros para clase 1 en train es', clase1_train)\n",
        "print('Numero de registros para clase 1 en train es', clase2_train)\n",
        "print('----------------------------------------------------------')\n",
        "print('Numero de registros para clase 1 en validation es', clase1_validation)\n",
        "print('Numero de registros para clase 1 en validation es', clase2_validation)\n",
        "print('----------------------------------------------------------')\n",
        "print('Numero de registros para clase 1 en test es', clase1_test)\n",
        "print('Numero de registros para clase 1 en test es', clase2_test)\n",
        "print('----------------------------------------------------------')"
      ],
      "execution_count": 0,
      "outputs": [
        {
          "output_type": "stream",
          "text": [
            "Numero de registros para clase 1 en train es 34\n",
            "Numero de registros para clase 1 en train es 17\n",
            "----------------------------------------------------------\n",
            "Numero de registros para clase 1 en validation es 11\n",
            "Numero de registros para clase 1 en validation es 5\n",
            "----------------------------------------------------------\n",
            "Numero de registros para clase 1 en test es 12\n",
            "Numero de registros para clase 1 en test es 5\n",
            "----------------------------------------------------------\n"
          ],
          "name": "stdout"
        }
      ]
    },
    {
      "cell_type": "markdown",
      "metadata": {
        "id": "mq4VKZ31IUJm",
        "colab_type": "text"
      },
      "source": [
        "A continuación se presenta la construcción y ejecución de los modelos. Para cada modelo de ML, que se presenta a continuacion, se realiza en primer lugar la instanciación del modelo mediante `Keras`, posteriormente se compila y por último se ejecuta por un númnero de epocas predefinido por el usuario .\n",
        "\n",
        "Los modelos de clasificacion que se tuvieron en cuenta para esta modelacion son los siguientes:\n",
        "\n",
        "\n",
        "* Regresión logistica utilizando `Keras`\n",
        "* Red neuronal convolucional con arquitectura propuesta  utilizando `Keras`\n",
        "* Red neuronal preentrenada - Resnet50 - utilizando `Keras` "
      ]
    },
    {
      "cell_type": "markdown",
      "metadata": {
        "id": "ZffUUICWOFQf",
        "colab_type": "text"
      },
      "source": [
        "# Construcción y ejecución de modelos de Deep Learning "
      ]
    },
    {
      "cell_type": "markdown",
      "metadata": {
        "id": "PJNgmvMJyf_Y",
        "colab_type": "text"
      },
      "source": [
        "## 1. Modelo de regresión logística con Keras - TensorFlow"
      ]
    },
    {
      "cell_type": "markdown",
      "metadata": {
        "id": "k6yjsiTcsD1b",
        "colab_type": "text"
      },
      "source": [
        "A continuación vamos a construir una regresión logistica como un primer modelo, pero utilizando Keras de TensorFlow. Esto es una red neuronal de una neurona con una función de activación sigmoide:\n",
        "\n",
        "$$f(x)=\\frac{1}{1+e^{-x}}$$"
      ]
    },
    {
      "cell_type": "code",
      "metadata": {
        "id": "KUyZqtVDq2so",
        "colab_type": "code",
        "outputId": "bdb68854-964b-4139-ac52-6f05c6b955fe",
        "colab": {
          "base_uri": "https://localhost:8080/",
          "height": 255
        }
      },
      "source": [
        "\n",
        "'''\n",
        "A continuación realizamos la construcción de la  regresión logistica, este modelo se realizara con Keras\n",
        "utilizando una sola neurona de salida la cual tendra la función sigmoide. Para cada creacion y entrenamiento de los modelos\n",
        "utilizamos K.clear_session() para limpiar la sesion de registros guardados anteriormente \n",
        "'''\n",
        "K.clear_session()\n",
        "model_1 = Sequential()\n",
        "model_1.add(Flatten(input_shape=(400,400,3)))      # Entrada de las imagenes, formato y profundidad  \n",
        "model_1.add(Dense(1))                              # Agregar una neurona  \n",
        "model_1.add(Activation('sigmoid'))                 # Función de activación sigmoide    \n",
        "\n",
        "model_1.summary()                                  # Mirar arquitectura del modelo"
      ],
      "execution_count": 0,
      "outputs": [
        {
          "output_type": "stream",
          "text": [
            "Model: \"sequential_1\"\n",
            "_________________________________________________________________\n",
            "Layer (type)                 Output Shape              Param #   \n",
            "=================================================================\n",
            "flatten_1 (Flatten)          (None, 480000)            0         \n",
            "_________________________________________________________________\n",
            "dense_1 (Dense)              (None, 1)                 480001    \n",
            "_________________________________________________________________\n",
            "activation_1 (Activation)    (None, 1)                 0         \n",
            "=================================================================\n",
            "Total params: 480,001\n",
            "Trainable params: 480,001\n",
            "Non-trainable params: 0\n",
            "_________________________________________________________________\n"
          ],
          "name": "stdout"
        }
      ]
    },
    {
      "cell_type": "markdown",
      "metadata": {
        "id": "P5I9irKRLA5W",
        "colab_type": "text"
      },
      "source": [
        "Podemos observar el resumen de la arquitectura del modelo, donde los datos de entradas son los pixeles de las imagenes y estas pasara por una función de activacion que es precisamente la función logistica."
      ]
    },
    {
      "cell_type": "code",
      "metadata": {
        "id": "eLLNvK3ExPiq",
        "colab_type": "code",
        "outputId": "0883b7a4-55ec-4933-b82a-6ff4cf61b205",
        "colab": {
          "base_uri": "https://localhost:8080/",
          "height": 1000
        }
      },
      "source": [
        "'''\n",
        "Una vez construida construida la arquitectura de la red, o en este caso de la regresion logistica\n",
        "debemos compilar el modelo, en este paso definimos que función de perdida vamos a utilizar, que optimizador \n",
        "y que metricas queremos medir. Para esta modelación se utilizói lo siguiente\n",
        "\n",
        "--> Función de perdida (loss): binary_crossentropy: La función de pérdida de crossentropía binaria se usa en decisiones sí / no, 1 / 0, por ejemplo.\n",
        "La pérdida le dice cuán equivocadas son las predicciones del modelo: https://www.tensorflow.org/api_docs/python/tf/keras/losses/binary_crossentropy\n",
        "\n",
        "--> Optimizador: Adam con tasa de aprendizaje 0.0001: Adam es un método de descenso de gradiente estocástico que se basa en la estimación adaptativa de \n",
        "los momentos de primer y segundo orden: https://www.tensorflow.org/api_docs/python/tf/keras/optimizers/Adam\n",
        "\n",
        "--> Metrica: AUC: (Área bajo la curva) el cual mide  el “área o espacio” bajo la curva ROC y tiene por objeto medir la certeza de un modelo a la \n",
        "hora de realizar predicciones (toma valor de 1 cuándo se es 100% preciso) siendo invariable al umbral de clasificación.\n",
        "https://www.tensorflow.org/api_docs/python/tf/keras/metrics/AUC\n",
        "'''\n",
        " \n",
        "model_1.compile(loss='binary_crossentropy',                                        \n",
        "              optimizer=tf.keras.optimizers.Adam(learning_rate=0.0001),                \n",
        "              metrics=[tf.keras.metrics.AUC()])                                                   \n",
        "                         \n",
        "\n",
        "'''\n",
        "Una vez tenemos lista la arquitectura y compilado el modelo procedemos a realiza el entrenamiento mediante el metodo fit_generator\n",
        "en donde se le define cuales son los datos de entrada, el numero de epocas (# numero de veces que la red pasa por los datos) y cuales\n",
        "son los datos de validacion\n",
        "'''\n",
        "historia1 = model_1.fit_generator(train_generator,                                   \n",
        "                    epochs=80,                                                       \n",
        "                    validation_data=validation_generator)                             \n"
      ],
      "execution_count": 0,
      "outputs": [
        {
          "output_type": "stream",
          "text": [
            "Epoch 1/80\n",
            "7/7 [==============================] - 3s 492ms/step - loss: 846.7967 - auc: 0.5225 - val_loss: 3342.3723 - val_auc: 0.5442\n",
            "Epoch 2/80\n",
            "7/7 [==============================] - 3s 445ms/step - loss: 1618.7660 - auc: 0.5386 - val_loss: 485.4955 - val_auc: 0.5220\n",
            "Epoch 3/80\n",
            "7/7 [==============================] - 3s 440ms/step - loss: 926.5575 - auc: 0.5081 - val_loss: 541.5670 - val_auc: 0.5176\n",
            "Epoch 4/80\n",
            "7/7 [==============================] - 3s 444ms/step - loss: 254.3201 - auc: 0.5034 - val_loss: 509.8358 - val_auc: 0.4975\n",
            "Epoch 5/80\n",
            "7/7 [==============================] - 3s 446ms/step - loss: 126.2615 - auc: 0.4998 - val_loss: 577.6507 - val_auc: 0.5044\n",
            "Epoch 6/80\n",
            "7/7 [==============================] - 3s 446ms/step - loss: 124.1154 - auc: 0.5100 - val_loss: 471.0528 - val_auc: 0.5181\n",
            "Epoch 7/80\n",
            "7/7 [==============================] - 3s 451ms/step - loss: 180.8175 - auc: 0.5152 - val_loss: 454.3970 - val_auc: 0.5145\n",
            "Epoch 8/80\n",
            "7/7 [==============================] - 3s 445ms/step - loss: 106.1696 - auc: 0.5264 - val_loss: 533.2036 - val_auc: 0.5266\n",
            "Epoch 9/80\n",
            "7/7 [==============================] - 3s 440ms/step - loss: 171.6968 - auc: 0.5254 - val_loss: 361.0150 - val_auc: 0.5245\n",
            "Epoch 10/80\n",
            "7/7 [==============================] - 3s 430ms/step - loss: 79.6808 - auc: 0.5327 - val_loss: 401.0688 - val_auc: 0.5345\n",
            "Epoch 11/80\n",
            "7/7 [==============================] - 3s 443ms/step - loss: 73.5848 - auc: 0.5393 - val_loss: 454.5903 - val_auc: 0.5406\n",
            "Epoch 12/80\n",
            "7/7 [==============================] - 3s 436ms/step - loss: 87.5900 - auc: 0.5434 - val_loss: 208.2228 - val_auc: 0.5436\n",
            "Epoch 13/80\n",
            "7/7 [==============================] - 3s 439ms/step - loss: 91.7809 - auc: 0.5478 - val_loss: 210.1179 - val_auc: 0.5534\n",
            "Epoch 14/80\n",
            "7/7 [==============================] - 3s 434ms/step - loss: 219.7740 - auc: 0.5534 - val_loss: 438.5540 - val_auc: 0.5478\n",
            "Epoch 15/80\n",
            "7/7 [==============================] - 3s 434ms/step - loss: 89.9289 - auc: 0.5475 - val_loss: 507.5041 - val_auc: 0.5473\n",
            "Epoch 16/80\n",
            "7/7 [==============================] - 3s 434ms/step - loss: 296.8841 - auc: 0.5455 - val_loss: 217.3284 - val_auc: 0.5434\n",
            "Epoch 17/80\n",
            "7/7 [==============================] - 3s 434ms/step - loss: 406.9649 - auc: 0.5448 - val_loss: 683.2061 - val_auc: 0.5439\n",
            "Epoch 18/80\n",
            "7/7 [==============================] - 3s 430ms/step - loss: 242.8477 - auc: 0.5465 - val_loss: 1265.5927 - val_auc: 0.5471\n",
            "Epoch 19/80\n",
            "7/7 [==============================] - 3s 421ms/step - loss: 256.8456 - auc: 0.5439 - val_loss: 402.1266 - val_auc: 0.5406\n",
            "Epoch 20/80\n",
            "7/7 [==============================] - 3s 440ms/step - loss: 140.0907 - auc: 0.5422 - val_loss: 450.7508 - val_auc: 0.5465\n",
            "Epoch 21/80\n",
            "7/7 [==============================] - 3s 451ms/step - loss: 68.2218 - auc: 0.5494 - val_loss: 436.5188 - val_auc: 0.5518\n",
            "Epoch 22/80\n",
            "7/7 [==============================] - 3s 428ms/step - loss: 79.9964 - auc: 0.5531 - val_loss: 132.8701 - val_auc: 0.5546\n",
            "Epoch 23/80\n",
            "7/7 [==============================] - 3s 411ms/step - loss: 130.1269 - auc: 0.5588 - val_loss: 170.5801 - val_auc: 0.5585\n",
            "Epoch 24/80\n",
            "7/7 [==============================] - 3s 436ms/step - loss: 219.2833 - auc: 0.5584 - val_loss: 108.5487 - val_auc: 0.5577\n",
            "Epoch 25/80\n",
            "7/7 [==============================] - 3s 454ms/step - loss: 160.7494 - auc: 0.5620 - val_loss: 415.8382 - val_auc: 0.5643\n",
            "Epoch 26/80\n",
            "7/7 [==============================] - 3s 457ms/step - loss: 247.6041 - auc: 0.5621 - val_loss: 135.7050 - val_auc: 0.5606\n",
            "Epoch 27/80\n",
            "7/7 [==============================] - 3s 432ms/step - loss: 130.1402 - auc: 0.5602 - val_loss: 54.7295 - val_auc: 0.5584\n",
            "Epoch 28/80\n",
            "7/7 [==============================] - 3s 440ms/step - loss: 127.6362 - auc: 0.5589 - val_loss: 439.1335 - val_auc: 0.5594\n",
            "Epoch 29/80\n",
            "7/7 [==============================] - 3s 442ms/step - loss: 55.3051 - auc: 0.5606 - val_loss: 238.2357 - val_auc: 0.5614\n",
            "Epoch 30/80\n",
            "7/7 [==============================] - 3s 443ms/step - loss: 86.7317 - auc: 0.5635 - val_loss: 133.5724 - val_auc: 0.5643\n",
            "Epoch 31/80\n",
            "7/7 [==============================] - 3s 448ms/step - loss: 225.8831 - auc: 0.5633 - val_loss: 211.1520 - val_auc: 0.5617\n",
            "Epoch 32/80\n",
            "7/7 [==============================] - 3s 437ms/step - loss: 34.0790 - auc: 0.5635 - val_loss: 384.7246 - val_auc: 0.5658\n",
            "Epoch 33/80\n",
            "7/7 [==============================] - 3s 439ms/step - loss: 69.2562 - auc: 0.5663 - val_loss: 350.0684 - val_auc: 0.5686\n",
            "Epoch 34/80\n",
            "7/7 [==============================] - 3s 435ms/step - loss: 119.8437 - auc: 0.5682 - val_loss: 531.5406 - val_auc: 0.5681\n",
            "Epoch 35/80\n",
            "7/7 [==============================] - 3s 441ms/step - loss: 136.7607 - auc: 0.5693 - val_loss: 479.6437 - val_auc: 0.5692\n",
            "Epoch 36/80\n",
            "7/7 [==============================] - 3s 441ms/step - loss: 329.0285 - auc: 0.5689 - val_loss: 890.6133 - val_auc: 0.5683\n",
            "Epoch 37/80\n",
            "7/7 [==============================] - 3s 444ms/step - loss: 208.2116 - auc: 0.5684 - val_loss: 898.2536 - val_auc: 0.5695\n",
            "Epoch 38/80\n",
            "7/7 [==============================] - 3s 435ms/step - loss: 148.8549 - auc: 0.5709 - val_loss: 773.8379 - val_auc: 0.5723\n",
            "Epoch 39/80\n",
            "7/7 [==============================] - 3s 440ms/step - loss: 98.9538 - auc: 0.5728 - val_loss: 686.6573 - val_auc: 0.5732\n",
            "Epoch 40/80\n",
            "7/7 [==============================] - 3s 430ms/step - loss: 100.9969 - auc: 0.5755 - val_loss: 649.6154 - val_auc: 0.5760\n",
            "Epoch 41/80\n",
            "7/7 [==============================] - 3s 443ms/step - loss: 142.6614 - auc: 0.5764 - val_loss: 597.9327 - val_auc: 0.5769\n",
            "Epoch 42/80\n",
            "7/7 [==============================] - 3s 450ms/step - loss: 128.8636 - auc: 0.5781 - val_loss: 878.1190 - val_auc: 0.5776\n",
            "Epoch 43/80\n",
            "7/7 [==============================] - 3s 438ms/step - loss: 275.9080 - auc: 0.5779 - val_loss: 491.7182 - val_auc: 0.5779\n",
            "Epoch 44/80\n",
            "7/7 [==============================] - 3s 441ms/step - loss: 245.7402 - auc: 0.5774 - val_loss: 530.1447 - val_auc: 0.5772\n",
            "Epoch 45/80\n",
            "7/7 [==============================] - 3s 447ms/step - loss: 126.1178 - auc: 0.5778 - val_loss: 687.0759 - val_auc: 0.5791\n",
            "Epoch 46/80\n",
            "7/7 [==============================] - 3s 440ms/step - loss: 65.0296 - auc: 0.5816 - val_loss: 59.7449 - val_auc: 0.5819\n",
            "Epoch 47/80\n",
            "7/7 [==============================] - 3s 435ms/step - loss: 274.8841 - auc: 0.5817 - val_loss: 297.3143 - val_auc: 0.5813\n",
            "Epoch 48/80\n",
            "7/7 [==============================] - 3s 438ms/step - loss: 291.3698 - auc: 0.5815 - val_loss: 402.0561 - val_auc: 0.5807\n",
            "Epoch 49/80\n",
            "7/7 [==============================] - 3s 449ms/step - loss: 172.1150 - auc: 0.5813 - val_loss: 655.1220 - val_auc: 0.5813\n",
            "Epoch 50/80\n",
            "7/7 [==============================] - 3s 435ms/step - loss: 321.1491 - auc: 0.5801 - val_loss: 620.7693 - val_auc: 0.5793\n",
            "Epoch 51/80\n",
            "7/7 [==============================] - 3s 443ms/step - loss: 203.6461 - auc: 0.5795 - val_loss: 694.4547 - val_auc: 0.5803\n",
            "Epoch 52/80\n",
            "7/7 [==============================] - 3s 452ms/step - loss: 148.3976 - auc: 0.5809 - val_loss: 312.0072 - val_auc: 0.5807\n",
            "Epoch 53/80\n",
            "7/7 [==============================] - 3s 443ms/step - loss: 108.7258 - auc: 0.5817 - val_loss: 278.9224 - val_auc: 0.5814\n",
            "Epoch 54/80\n",
            "7/7 [==============================] - 3s 443ms/step - loss: 187.5959 - auc: 0.5820 - val_loss: 345.7480 - val_auc: 0.5826\n",
            "Epoch 55/80\n",
            "7/7 [==============================] - 3s 448ms/step - loss: 222.8415 - auc: 0.5834 - val_loss: 471.0992 - val_auc: 0.5839\n",
            "Epoch 56/80\n",
            "7/7 [==============================] - 3s 438ms/step - loss: 111.5345 - auc: 0.5847 - val_loss: 237.2869 - val_auc: 0.5852\n",
            "Epoch 57/80\n",
            "7/7 [==============================] - 3s 444ms/step - loss: 143.6074 - auc: 0.5847 - val_loss: 519.5626 - val_auc: 0.5847\n",
            "Epoch 58/80\n",
            "7/7 [==============================] - 3s 440ms/step - loss: 74.3078 - auc: 0.5855 - val_loss: 429.3536 - val_auc: 0.5867\n",
            "Epoch 59/80\n",
            "7/7 [==============================] - 3s 452ms/step - loss: 131.0733 - auc: 0.5874 - val_loss: 1741.8202 - val_auc: 0.5876\n",
            "Epoch 60/80\n",
            "7/7 [==============================] - 3s 449ms/step - loss: 210.3011 - auc: 0.5877 - val_loss: 132.0159 - val_auc: 0.5874\n",
            "Epoch 61/80\n",
            "7/7 [==============================] - 3s 451ms/step - loss: 127.9552 - auc: 0.5877 - val_loss: 480.5136 - val_auc: 0.5879\n",
            "Epoch 62/80\n",
            "7/7 [==============================] - 3s 447ms/step - loss: 174.4907 - auc: 0.5887 - val_loss: 549.3176 - val_auc: 0.5888\n",
            "Epoch 63/80\n",
            "7/7 [==============================] - 3s 439ms/step - loss: 97.1617 - auc: 0.5886 - val_loss: 82.4570 - val_auc: 0.5881\n",
            "Epoch 64/80\n",
            "7/7 [==============================] - 3s 440ms/step - loss: 157.7036 - auc: 0.5887 - val_loss: 246.9965 - val_auc: 0.5879\n",
            "Epoch 65/80\n",
            "7/7 [==============================] - 3s 442ms/step - loss: 148.1379 - auc: 0.5894 - val_loss: 266.2849 - val_auc: 0.5901\n",
            "Epoch 66/80\n",
            "7/7 [==============================] - 3s 447ms/step - loss: 220.0994 - auc: 0.5897 - val_loss: 643.5005 - val_auc: 0.5892\n",
            "Epoch 67/80\n",
            "7/7 [==============================] - 3s 441ms/step - loss: 369.7235 - auc: 0.5896 - val_loss: 1343.7482 - val_auc: 0.5894\n",
            "Epoch 68/80\n",
            "7/7 [==============================] - 3s 435ms/step - loss: 406.5446 - auc: 0.5888 - val_loss: 320.4066 - val_auc: 0.5879\n",
            "Epoch 69/80\n",
            "7/7 [==============================] - 3s 434ms/step - loss: 229.7370 - auc: 0.5880 - val_loss: 383.8578 - val_auc: 0.5876\n",
            "Epoch 70/80\n",
            "7/7 [==============================] - 3s 431ms/step - loss: 126.0151 - auc: 0.5871 - val_loss: 371.6739 - val_auc: 0.5872\n",
            "Epoch 71/80\n",
            "7/7 [==============================] - 3s 436ms/step - loss: 214.4470 - auc: 0.5874 - val_loss: 734.8634 - val_auc: 0.5872\n",
            "Epoch 72/80\n",
            "7/7 [==============================] - 3s 426ms/step - loss: 181.9536 - auc: 0.5876 - val_loss: 374.2783 - val_auc: 0.5879\n",
            "Epoch 73/80\n",
            "7/7 [==============================] - 3s 432ms/step - loss: 156.1242 - auc: 0.5885 - val_loss: 446.4747 - val_auc: 0.5894\n",
            "Epoch 74/80\n",
            "7/7 [==============================] - 3s 437ms/step - loss: 223.5513 - auc: 0.5895 - val_loss: 432.3815 - val_auc: 0.5897\n",
            "Epoch 75/80\n",
            "7/7 [==============================] - 3s 441ms/step - loss: 115.4531 - auc: 0.5902 - val_loss: 1168.7584 - val_auc: 0.5906\n",
            "Epoch 76/80\n",
            "7/7 [==============================] - 3s 437ms/step - loss: 221.0215 - auc: 0.5902 - val_loss: 1167.0548 - val_auc: 0.5903\n",
            "Epoch 77/80\n",
            "7/7 [==============================] - 3s 438ms/step - loss: 143.8047 - auc: 0.5903 - val_loss: 190.7530 - val_auc: 0.5904\n",
            "Epoch 78/80\n",
            "7/7 [==============================] - 3s 435ms/step - loss: 170.8353 - auc: 0.5902 - val_loss: 642.2402 - val_auc: 0.5904\n",
            "Epoch 79/80\n",
            "7/7 [==============================] - 3s 411ms/step - loss: 388.9443 - auc: 0.5897 - val_loss: 356.1784 - val_auc: 0.5891\n",
            "Epoch 80/80\n",
            "7/7 [==============================] - 3s 432ms/step - loss: 73.9787 - auc: 0.5895 - val_loss: 7.7071e-06 - val_auc: 0.5909\n"
          ],
          "name": "stdout"
        }
      ]
    },
    {
      "cell_type": "code",
      "metadata": {
        "id": "D86loWMhklGk",
        "colab_type": "code",
        "outputId": "a0e82a8d-86ac-44e4-fcac-6c58bb064858",
        "colab": {
          "base_uri": "https://localhost:8080/",
          "height": 34
        }
      },
      "source": [
        "'''\n",
        "Evaluamos el modelo con los datos de testeo una vez tenemos listo las correcciones necesarias y las validaciones\n",
        "'''\n",
        "model_1.evaluate_generator(test_generator)"
      ],
      "execution_count": 0,
      "outputs": [
        {
          "output_type": "execute_result",
          "data": {
            "text/plain": [
              "[2.8899337783938606e-11, 0.5911798477172852]"
            ]
          },
          "metadata": {
            "tags": []
          },
          "execution_count": 9
        }
      ]
    },
    {
      "cell_type": "code",
      "metadata": {
        "id": "7yv79znojpDU",
        "colab_type": "code",
        "colab": {}
      },
      "source": [
        "'''\n",
        "Guardo el modelo con este metodo en caso de que sea necesario\n",
        "'''\n",
        "model_1.save(\"modelo_regresion.h5\")"
      ],
      "execution_count": 0,
      "outputs": []
    },
    {
      "cell_type": "markdown",
      "metadata": {
        "id": "D8AyATdfrNVI",
        "colab_type": "text"
      },
      "source": [
        "### Graficas de desempeño"
      ]
    },
    {
      "cell_type": "code",
      "metadata": {
        "id": "88bCtqqnxuqm",
        "colab_type": "code",
        "outputId": "6f1d5bac-dac1-4f28-a4c0-5b8ae106be65",
        "colab": {
          "base_uri": "https://localhost:8080/",
          "height": 573
        }
      },
      "source": [
        "'''\n",
        "Para evaluar como ha sido el desempeño del modelo realizamos un par de graficos\n",
        "que nos muestran como se comporto la metrica AUC, tanto del conjunto de entrenamiento\n",
        "como de validacion, durante las epocas en que se entreno el modelo.\n",
        "\n",
        "Como segunda grafica observamos el comportamiento de la funcion de costo, al igual que el \n",
        "auc, para train y validacion durante todas las epocas\n",
        "'''\n",
        "# Grafica 1: Comportamiento desempeño AUC \n",
        "plt.plot(historia1.history['auc'])\n",
        "plt.plot(historia1.history['val_auc'])\n",
        "plt.title('model auc')\n",
        "plt.ylabel('auc')\n",
        "plt.xlabel('epoch')\n",
        "plt.legend(['train', 'validation'], loc='upper left')\n",
        "plt.show()\n",
        "\n",
        "# Grafica 2: Comportamiento funcion de perdida\n",
        "plt.plot(historia1.history['loss'])\n",
        "plt.plot(historia1.history['val_loss'])\n",
        "plt.title('model loss')\n",
        "plt.ylabel('loss')\n",
        "plt.xlabel('epoch')\n",
        "plt.legend(['train', 'validation'], loc='upper left')\n",
        "plt.show()"
      ],
      "execution_count": 0,
      "outputs": [
        {
          "output_type": "display_data",
          "data": {
            "image/png": "[encoded data removed]",
            "text/plain": [
              "<Figure size 432x288 with 1 Axes>"
            ]
          },
          "metadata": {
            "tags": [],
            "needs_background": "light"
          }
        },
        {
          "output_type": "display_data",
          "data": {
            "image/png": "[encoded data removed]",
            "text/plain": [
              "<Figure size 432x288 with 1 Axes>"
            ]
          },
          "metadata": {
            "tags": [],
            "needs_background": "light"
          }
        }
      ]
    },
    {
      "cell_type": "markdown",
      "metadata": {
        "id": "opDWmAM4ylR4",
        "colab_type": "text"
      },
      "source": [
        "## 2. Red Neuronal Convolucional creada"
      ]
    },
    {
      "cell_type": "code",
      "metadata": {
        "id": "zxRmfoqhyppn",
        "colab_type": "code",
        "outputId": "cb44652c-e202-467a-b6db-81face3cf293",
        "colab": {
          "base_uri": "https://localhost:8080/",
          "height": 68
        }
      },
      "source": [
        "''''\n",
        "Estructuramos el DataAugmentacion que se va a utilizar durante el entrenamiento de las imagenes para esto se utiliza \n",
        "ImageDataGenerator como se menciono anteriormente, la cual se configuro de la siguiente manera:\n",
        "\n",
        "--> rescale: Se utiliza para hacer una normalizacion de los datos de entrada, para esto se utilizo la forma que \n",
        "realiza el preprocesamiento de datos de resnet50: https://github.com/keras-team/keras-applications/blob/master/keras_applications/imagenet_utils.py\n",
        "este rescale se utilizara tanto para los datos de train, como de validacion y test de todos los modelos.\n",
        "\n",
        "--> horizontal_flip:  Ejecuta vueltas a las imagenes (efecto similar a un espejo)\n",
        "\n",
        "--> rotation_range: Rotaciónn de la imagen en el rango [0,90]\n",
        "\n",
        "--> brightness_range: Cambia los niveles de luminosidad de la imagen\n",
        "\n",
        "--> : Realiza Zoom a la imagen (Si < 1 acerco, = 1 Misma imagen, > 1 Alejo)\n",
        "''''\n",
        "\n",
        "train_datagen = ImageDataGenerator(\n",
        "    rescale=1. / 127.5 - 1,                                      \n",
        "    horizontal_flip=True,                                        \n",
        "    rotation_range=90,                                           \n",
        "    brightness_range=[0.2,0.8],                                  \n",
        "    zoom_range=[0.8,1.2])                                       \n",
        "\n",
        "'''\n",
        "Ahora instanciamos lo que se utilizará como datos de entranmiento y le damos el directorio donde se encuentran\n",
        "las imagenes, teniendo en cuenta el train.datagen anterior que será el encargado de realizar el data augmentation\n",
        "'''\n",
        "train_generator = train_datagen.flow_from_directory(  \n",
        "    train_data_dir,                                              \n",
        "    target_size=(img_width, img_height),                            \n",
        "    batch_size=batch_size,                                                          \n",
        "    class_mode='binary')                                         \n",
        "\n",
        "\n",
        "'''\n",
        "Ahora instanciamos lo que se utilizará como datos de validación y le damos el directorio donde se encuentran\n",
        "las imagenes. Para este caso no se realiza el data augmentation, este se emplea en entrenamiento.\n",
        "'''\n",
        "\n",
        "validation_datagen = ImageDataGenerator(rescale=1. / 127.5 - 1) \n",
        "validation_generator = validation_datagen.flow_from_directory(  \n",
        "    validation_data_dir,\n",
        "    target_size=(img_width, img_height),\n",
        "    batch_size=batch_size, \n",
        "    class_mode='binary') \n",
        "\n",
        "'''\n",
        "Ahora instanciamos lo que se utilizará como datos de test y le damos el directorio donde se encuentran\n",
        "las imagenes. Para este caso no se realiza el data augmentation, este se emplea en entrenamiento.\n",
        "'''\n",
        "test_datagen = ImageDataGenerator(rescale=1. / 127.5 - 1) \n",
        "test_generator = test_datagen.flow_from_directory(  \n",
        "    test_data_dir,\n",
        "    target_size=(img_width, img_height), \n",
        "    batch_size=batch_size, shuffle = False,\n",
        "    class_mode='binary') "
      ],
      "execution_count": 0,
      "outputs": [
        {
          "output_type": "stream",
          "text": [
            "Found 50 images belonging to 2 classes.\n",
            "Found 15 images belonging to 2 classes.\n",
            "Found 17 images belonging to 2 classes.\n"
          ],
          "name": "stdout"
        }
      ]
    },
    {
      "cell_type": "markdown",
      "metadata": {
        "id": "h01st7J2h3fd",
        "colab_type": "text"
      },
      "source": [
        "Como se ha mencionadado anteriormente, para la solución de clasificación de imágenes, se ha producido un avance muy importante con la llegada de las redes neuronales convolucionales (CNN por sus siglas en inglés), las cuales pueden extraer representaciones del contenido de la imagen. Este tipo de redes recibe como información de entrada los datos de los pixeles sin necesidad de preprocesar para obtener propiedades como textura y formas, en su lugar, los datos entran en forma de pixeles y esta red aprende a extraer estas propiedades.\n",
        "\n",
        "La entrada de datos a la red es una matriz tridimensional donde las dos primeras dimensiones son el largo y ancho que tiene la imagen en pixeles, mientras que la tercera dimensión corresponde a los tres canales del color de una imagen, rojo, verde y azul (RGB por sus siglas en internet).\n",
        "Una convolución, es el tratamiento de una matriz por otra que se llama “kernel”, este operador extrae bloques de píxeles de la matriz de entrada y les aplica filtros que permiten procesos nuevos atributos, esto da como resultado una nueva matriz de atributos o propiedades de salida (Esta matriz puede tener dimensiones diferentes a la entrada). Durante este proceso se realiza una multiplicación de la matriz de filtro y el bloque de la matriz de entrada que se está analizando, y luego se suma todos los elementos obtenidos con el fin de quedar con un solo valor.\n",
        "\n",
        "La red neuronal convolucional “aprenderá” durante su etapa de entrenamiento los valores óptimos para la matriz de filtro en el proceso de convolución que le permitan estimar de manera óptima propiedades de la imagen como bordes, texturas y formas. Una vez la convolución (pueden ser varias capas convolucionales) se realiza un proceso de transformación a las propiedades encontradas, esto se hace mediante lo que se conoce como función de activación, y dentro de las más conocidas funciones actualmente se encuentra ReLU (unidad línea rectificada). Esta transformación se realiza con el fin de añadir una no linealidad al modelo.\n",
        "\n",
        "Posterior a que se ha empleado la función de activación (ReLU o la que utilicen en la modelación) se utiliza una operación de reducción de dimensiones, para esto se emplea un algoritmo que se conoce como Pooling Layer o reducción máxima.\n"
      ]
    },
    {
      "cell_type": "code",
      "metadata": {
        "id": "21_42wVNyp7G",
        "colab_type": "code",
        "outputId": "08bc0cf0-6376-456a-df77-0f82fb877672",
        "colab": {
          "base_uri": "https://localhost:8080/",
          "height": 663
        }
      },
      "source": [
        "'''\n",
        "Creamos una red neuronal que tiene 5 capas convolucionales y en todas utilizamos relu como funcion de activacion\n",
        "y como capa de salida utilizamos la funcion sigmoide ya que tenemos un problema de clasificacion binaria\n",
        "'''\n",
        "\n",
        "# Construcción de la red neuronal convolucional \n",
        "K.clear_session()\n",
        "model_2 = Sequential()                                                               \n",
        "model_2.add(Conv2D(128, (3, 3), activation='relu', input_shape=(400, 400, 3)))        \n",
        "model_2.add(MaxPooling2D((2, 2)))                                                    \n",
        "model_2.add(Conv2D(64, (3, 3), activation='relu'))\n",
        "model_2.add(MaxPooling2D((2, 2)))                                                    \n",
        "model_2.add(Conv2D(32, (3, 3), activation='relu')) \n",
        "model_2.add(MaxPooling2D((2, 2)))                                                    \n",
        "model_2.add(Conv2D(16, (3, 3), activation='relu'))                                    \n",
        "model_2.add(MaxPooling2D((2, 2)))                                                    \n",
        "model_2.add(Conv2D(8, (3, 3), activation='relu'))                                   \n",
        "\n",
        "model_2.add(Flatten())                                                              \n",
        "model_2.add(Dense(64))                                                               \n",
        "model_2.add(Activation('relu'))                                                      \n",
        "model_2.add(Dropout(0.5))                                                            \n",
        "model_2.add(Dense(1))                                                                \n",
        "model_2.add(Activation('sigmoid'))                                                   \n",
        "\n",
        "model_2.summary()                                                                    "
      ],
      "execution_count": 0,
      "outputs": [
        {
          "output_type": "stream",
          "text": [
            "Model: \"sequential_1\"\n",
            "_________________________________________________________________\n",
            "Layer (type)                 Output Shape              Param #   \n",
            "=================================================================\n",
            "conv2d_1 (Conv2D)            (None, 398, 398, 128)     3584      \n",
            "_________________________________________________________________\n",
            "max_pooling2d_1 (MaxPooling2 (None, 199, 199, 128)     0         \n",
            "_________________________________________________________________\n",
            "conv2d_2 (Conv2D)            (None, 197, 197, 64)      73792     \n",
            "_________________________________________________________________\n",
            "max_pooling2d_2 (MaxPooling2 (None, 98, 98, 64)        0         \n",
            "_________________________________________________________________\n",
            "conv2d_3 (Conv2D)            (None, 96, 96, 32)        18464     \n",
            "_________________________________________________________________\n",
            "max_pooling2d_3 (MaxPooling2 (None, 48, 48, 32)        0         \n",
            "_________________________________________________________________\n",
            "conv2d_4 (Conv2D)            (None, 46, 46, 16)        4624      \n",
            "_________________________________________________________________\n",
            "max_pooling2d_4 (MaxPooling2 (None, 23, 23, 16)        0         \n",
            "_________________________________________________________________\n",
            "conv2d_5 (Conv2D)            (None, 21, 21, 8)         1160      \n",
            "_________________________________________________________________\n",
            "flatten_1 (Flatten)          (None, 3528)              0         \n",
            "_________________________________________________________________\n",
            "dense_1 (Dense)              (None, 64)                225856    \n",
            "_________________________________________________________________\n",
            "activation_1 (Activation)    (None, 64)                0         \n",
            "_________________________________________________________________\n",
            "dropout_1 (Dropout)          (None, 64)                0         \n",
            "_________________________________________________________________\n",
            "dense_2 (Dense)              (None, 1)                 65        \n",
            "_________________________________________________________________\n",
            "activation_2 (Activation)    (None, 1)                 0         \n",
            "=================================================================\n",
            "Total params: 327,545\n",
            "Trainable params: 327,545\n",
            "Non-trainable params: 0\n",
            "_________________________________________________________________\n"
          ],
          "name": "stdout"
        }
      ]
    },
    {
      "cell_type": "code",
      "metadata": {
        "id": "LNaRNl0DvjRJ",
        "colab_type": "code",
        "outputId": "c922a5cf-6f4d-4c74-bd24-bcfdd6d43688",
        "colab": {
          "base_uri": "https://localhost:8080/",
          "height": 1000
        }
      },
      "source": [
        "'''\n",
        "Una vez construida construida la arquitectura de la red convolucional \n",
        "debemos compilar el modelo, en este paso definimos que función de perdida vamos a utilizar, que optimizador \n",
        "y que metricas queremos medir. Para esta modelación se utilizói lo siguiente\n",
        "\n",
        "--> Función de perdida (loss): binary_crossentropy: La función de pérdida de crossentropía binaria se usa en decisiones sí / no, 1 / 0, por ejemplo.\n",
        "La pérdida le dice cuán equivocadas son las predicciones del modelo: https://www.tensorflow.org/api_docs/python/tf/keras/losses/binary_crossentropy\n",
        "\n",
        "--> Optimizador: Adam con tasa de aprendizaje 0.0001: Adam es un método de descenso de gradiente estocástico que se basa en la estimación adaptativa de \n",
        "los momentos de primer y segundo orden: https://www.tensorflow.org/api_docs/python/tf/keras/optimizers/Adam\n",
        "\n",
        "--> Metrica: AUC: (Área bajo la curva) el cual mide  el “área o espacio” bajo la curva ROC y tiene por objeto medir la certeza de un modelo a la \n",
        "hora de realizar predicciones (toma valor de 1 cuándo se es 100% preciso) siendo invariable al umbral de clasificación.\n",
        "https://www.tensorflow.org/api_docs/python/tf/keras/metrics/AUC\n",
        "'''\n",
        "\n",
        "model_2.compile(loss='binary_crossentropy',                                                        \n",
        "              optimizer=tf.keras.optimizers.Adam(learning_rate=0.0001),               \n",
        "              metrics=[tf.keras.metrics.AUC()])                          \n",
        "             \n",
        "\n",
        "'''\n",
        "Una vez tenemos lista la arquitectura y compilado el modelo procedemos a realiza el entrenamiento mediante el metodo fit_generator\n",
        "en donde se le define cuales son los datos de entrada, el numero de epocas (# numero de veces que la red pasa por los datos) y cuales\n",
        "son los datos de validacion\n",
        "'''\n",
        "\n",
        "historia2 = model_2.fit_generator(\n",
        "        train_generator,                          \n",
        "        steps_per_epoch=nb_train_samples//batch_size,                    \n",
        "        epochs=80,                                  \n",
        "        validation_data=validation_generator)  \n",
        "   "
      ],
      "execution_count": 0,
      "outputs": [
        {
          "output_type": "stream",
          "text": [
            "Epoch 1/80\n",
            "6/6 [==============================] - 4s 659ms/step - loss: 1.0109 - auc: 0.3960 - val_loss: 1.5741 - val_auc: 0.5031\n",
            "Epoch 2/80\n",
            "6/6 [==============================] - 3s 430ms/step - loss: 1.0836 - auc: 0.5004 - val_loss: 0.7450 - val_auc: 0.4774\n",
            "Epoch 3/80\n",
            "6/6 [==============================] - 3s 539ms/step - loss: 0.7568 - auc: 0.4893 - val_loss: 0.9366 - val_auc: 0.4899\n",
            "Epoch 4/80\n",
            "6/6 [==============================] - 3s 464ms/step - loss: 0.6678 - auc: 0.4832 - val_loss: 0.7082 - val_auc: 0.4881\n",
            "Epoch 5/80\n",
            "6/6 [==============================] - 3s 454ms/step - loss: 0.7302 - auc: 0.4924 - val_loss: 0.9470 - val_auc: 0.4934\n",
            "Epoch 6/80\n",
            "6/6 [==============================] - 3s 459ms/step - loss: 0.6504 - auc: 0.4972 - val_loss: 0.8249 - val_auc: 0.4939\n",
            "Epoch 7/80\n",
            "6/6 [==============================] - 3s 455ms/step - loss: 0.6125 - auc: 0.4983 - val_loss: 0.8353 - val_auc: 0.5042\n",
            "Epoch 8/80\n",
            "6/6 [==============================] - 3s 453ms/step - loss: 0.6508 - auc: 0.5082 - val_loss: 1.1100 - val_auc: 0.5011\n",
            "Epoch 9/80\n",
            "6/6 [==============================] - 3s 465ms/step - loss: 0.7197 - auc: 0.5006 - val_loss: 0.3743 - val_auc: 0.4969\n",
            "Epoch 10/80\n",
            "6/6 [==============================] - 3s 512ms/step - loss: 0.6519 - auc: 0.5031 - val_loss: 0.7513 - val_auc: 0.5053\n",
            "Epoch 11/80\n",
            "6/6 [==============================] - 2s 402ms/step - loss: 0.6468 - auc: 0.5090 - val_loss: 0.3895 - val_auc: 0.5080\n",
            "Epoch 12/80\n",
            "6/6 [==============================] - 3s 509ms/step - loss: 0.5209 - auc: 0.5189 - val_loss: 0.6628 - val_auc: 0.5224\n",
            "Epoch 13/80\n",
            "6/6 [==============================] - 3s 460ms/step - loss: 0.6670 - auc: 0.5265 - val_loss: 1.0208 - val_auc: 0.5260\n",
            "Epoch 14/80\n",
            "6/6 [==============================] - 3s 456ms/step - loss: 0.6662 - auc: 0.5317 - val_loss: 0.4779 - val_auc: 0.5298\n",
            "Epoch 15/80\n",
            "6/6 [==============================] - 3s 456ms/step - loss: 0.5677 - auc: 0.5345 - val_loss: 0.7195 - val_auc: 0.5386\n",
            "Epoch 16/80\n",
            "6/6 [==============================] - 3s 453ms/step - loss: 0.5907 - auc: 0.5418 - val_loss: 0.5749 - val_auc: 0.5434\n",
            "Epoch 17/80\n",
            "6/6 [==============================] - 3s 468ms/step - loss: 0.4056 - auc: 0.5503 - val_loss: 1.2801 - val_auc: 0.5544\n",
            "Epoch 18/80\n",
            "6/6 [==============================] - 3s 454ms/step - loss: 0.7263 - auc: 0.5577 - val_loss: 0.6552 - val_auc: 0.5595\n",
            "Epoch 19/80\n",
            "6/6 [==============================] - 3s 525ms/step - loss: 0.6025 - auc: 0.5621 - val_loss: 0.6921 - val_auc: 0.5631\n",
            "Epoch 20/80\n",
            "6/6 [==============================] - 3s 457ms/step - loss: 0.6264 - auc: 0.5647 - val_loss: 0.3168 - val_auc: 0.5658\n",
            "Epoch 21/80\n",
            "6/6 [==============================] - 3s 452ms/step - loss: 0.5165 - auc: 0.5696 - val_loss: 0.7188 - val_auc: 0.5719\n",
            "Epoch 22/80\n",
            "6/6 [==============================] - 3s 466ms/step - loss: 0.5103 - auc: 0.5752 - val_loss: 0.7558 - val_auc: 0.5795\n",
            "Epoch 23/80\n",
            "6/6 [==============================] - 3s 467ms/step - loss: 0.5716 - auc: 0.5830 - val_loss: 0.3982 - val_auc: 0.5849\n",
            "Epoch 24/80\n",
            "6/6 [==============================] - 3s 458ms/step - loss: 0.5364 - auc: 0.5913 - val_loss: 0.5778 - val_auc: 0.5935\n",
            "Epoch 25/80\n",
            "6/6 [==============================] - 3s 540ms/step - loss: 0.5857 - auc: 0.5932 - val_loss: 0.2673 - val_auc: 0.5936\n",
            "Epoch 26/80\n",
            "6/6 [==============================] - 2s 410ms/step - loss: 0.5161 - auc: 0.5993 - val_loss: 1.0472 - val_auc: 0.6019\n",
            "Epoch 27/80\n",
            "6/6 [==============================] - 3s 521ms/step - loss: 0.5437 - auc: 0.6035 - val_loss: 0.8075 - val_auc: 0.6059\n",
            "Epoch 28/80\n",
            "6/6 [==============================] - 3s 451ms/step - loss: 0.4918 - auc: 0.6082 - val_loss: 0.5065 - val_auc: 0.6130\n",
            "Epoch 29/80\n",
            "6/6 [==============================] - 3s 456ms/step - loss: 0.5984 - auc: 0.6149 - val_loss: 0.7936 - val_auc: 0.6172\n",
            "Epoch 30/80\n",
            "6/6 [==============================] - 3s 447ms/step - loss: 0.3828 - auc: 0.6215 - val_loss: 0.8125 - val_auc: 0.6251\n",
            "Epoch 31/80\n",
            "6/6 [==============================] - 3s 500ms/step - loss: 0.6896 - auc: 0.6265 - val_loss: 0.4128 - val_auc: 0.6280\n",
            "Epoch 32/80\n",
            "6/6 [==============================] - 2s 409ms/step - loss: 0.5137 - auc: 0.6297 - val_loss: 1.1997 - val_auc: 0.6312\n",
            "Epoch 33/80\n",
            "6/6 [==============================] - 3s 518ms/step - loss: 0.5518 - auc: 0.6314 - val_loss: 0.4158 - val_auc: 0.6320\n",
            "Epoch 34/80\n",
            "6/6 [==============================] - 3s 456ms/step - loss: 0.4960 - auc: 0.6344 - val_loss: 1.0467 - val_auc: 0.6371\n",
            "Epoch 35/80\n",
            "6/6 [==============================] - 3s 446ms/step - loss: 0.5754 - auc: 0.6387 - val_loss: 0.4691 - val_auc: 0.6395\n",
            "Epoch 36/80\n",
            "6/6 [==============================] - 3s 464ms/step - loss: 0.6196 - auc: 0.6411 - val_loss: 0.3452 - val_auc: 0.6416\n",
            "Epoch 37/80\n",
            "6/6 [==============================] - 3s 464ms/step - loss: 0.5690 - auc: 0.6420 - val_loss: 0.4147 - val_auc: 0.6427\n",
            "Epoch 38/80\n",
            "6/6 [==============================] - 3s 514ms/step - loss: 0.5491 - auc: 0.6442 - val_loss: 0.6415 - val_auc: 0.6467\n",
            "Epoch 39/80\n",
            "6/6 [==============================] - 2s 397ms/step - loss: 0.5271 - auc: 0.6476 - val_loss: 0.5256 - val_auc: 0.6496\n",
            "Epoch 40/80\n",
            "6/6 [==============================] - 3s 451ms/step - loss: 0.5605 - auc: 0.6509 - val_loss: 0.3970 - val_auc: 0.6529\n",
            "Epoch 41/80\n",
            "6/6 [==============================] - 3s 458ms/step - loss: 0.5018 - auc: 0.6548 - val_loss: 0.4219 - val_auc: 0.6565\n",
            "Epoch 42/80\n",
            "6/6 [==============================] - 3s 514ms/step - loss: 0.4318 - auc: 0.6592 - val_loss: 0.6862 - val_auc: 0.6623\n",
            "Epoch 43/80\n",
            "6/6 [==============================] - 3s 454ms/step - loss: 0.5207 - auc: 0.6635 - val_loss: 0.1373 - val_auc: 0.6642\n",
            "Epoch 44/80\n",
            "6/6 [==============================] - 3s 515ms/step - loss: 0.6246 - auc: 0.6660 - val_loss: 0.3915 - val_auc: 0.6651\n",
            "Epoch 45/80\n",
            "6/6 [==============================] - 2s 407ms/step - loss: 0.5872 - auc: 0.6658 - val_loss: 0.5689 - val_auc: 0.6661\n",
            "Epoch 46/80\n",
            "6/6 [==============================] - 3s 527ms/step - loss: 0.4564 - auc: 0.6672 - val_loss: 0.4447 - val_auc: 0.6681\n",
            "Epoch 47/80\n",
            "6/6 [==============================] - 3s 417ms/step - loss: 0.4615 - auc: 0.6695 - val_loss: 1.1334 - val_auc: 0.6704\n",
            "Epoch 48/80\n",
            "6/6 [==============================] - 3s 533ms/step - loss: 0.5913 - auc: 0.6711 - val_loss: 0.7081 - val_auc: 0.6714\n",
            "Epoch 49/80\n",
            "6/6 [==============================] - 3s 453ms/step - loss: 0.4717 - auc: 0.6723 - val_loss: 0.2585 - val_auc: 0.6729\n",
            "Epoch 50/80\n",
            "6/6 [==============================] - 3s 461ms/step - loss: 0.5688 - auc: 0.6738 - val_loss: 0.4391 - val_auc: 0.6736\n",
            "Epoch 51/80\n",
            "6/6 [==============================] - 3s 519ms/step - loss: 0.7305 - auc: 0.6735 - val_loss: 0.7686 - val_auc: 0.6735\n",
            "Epoch 52/80\n",
            "6/6 [==============================] - 3s 465ms/step - loss: 0.4369 - auc: 0.6742 - val_loss: 0.5022 - val_auc: 0.6751\n",
            "Epoch 53/80\n",
            "6/6 [==============================] - 3s 468ms/step - loss: 0.4530 - auc: 0.6763 - val_loss: 0.4421 - val_auc: 0.6772\n",
            "Epoch 54/80\n",
            "6/6 [==============================] - 3s 457ms/step - loss: 0.4522 - auc: 0.6789 - val_loss: 0.7297 - val_auc: 0.6803\n",
            "Epoch 55/80\n",
            "6/6 [==============================] - 3s 469ms/step - loss: 0.3459 - auc: 0.6823 - val_loss: 0.7210 - val_auc: 0.6838\n",
            "Epoch 56/80\n",
            "6/6 [==============================] - 3s 455ms/step - loss: 0.4711 - auc: 0.6857 - val_loss: 0.2775 - val_auc: 0.6866\n",
            "Epoch 57/80\n",
            "6/6 [==============================] - 3s 462ms/step - loss: 0.4202 - auc: 0.6881 - val_loss: 0.4963 - val_auc: 0.6892\n",
            "Epoch 58/80\n",
            "6/6 [==============================] - 3s 461ms/step - loss: 0.4437 - auc: 0.6916 - val_loss: 0.1733 - val_auc: 0.6939\n",
            "Epoch 59/80\n",
            "6/6 [==============================] - 3s 508ms/step - loss: 0.3668 - auc: 0.6963 - val_loss: 0.8345 - val_auc: 0.6990\n",
            "Epoch 60/80\n",
            "6/6 [==============================] - 3s 463ms/step - loss: 0.6211 - auc: 0.6985 - val_loss: 0.3576 - val_auc: 0.6997\n",
            "Epoch 61/80\n",
            "6/6 [==============================] - 2s 391ms/step - loss: 0.4244 - auc: 0.7013 - val_loss: 0.7146 - val_auc: 0.7024\n",
            "Epoch 62/80\n",
            "6/6 [==============================] - 3s 523ms/step - loss: 0.4143 - auc: 0.7035 - val_loss: 0.3839 - val_auc: 0.7039\n",
            "Epoch 63/80\n",
            "6/6 [==============================] - 3s 439ms/step - loss: 0.4617 - auc: 0.7052 - val_loss: 0.5332 - val_auc: 0.7054\n",
            "Epoch 64/80\n",
            "6/6 [==============================] - 3s 469ms/step - loss: 0.6644 - auc: 0.7055 - val_loss: 0.2892 - val_auc: 0.7059\n",
            "Epoch 65/80\n",
            "6/6 [==============================] - 3s 523ms/step - loss: 0.4585 - auc: 0.7063 - val_loss: 0.7005 - val_auc: 0.7069\n",
            "Epoch 66/80\n",
            "6/6 [==============================] - 2s 411ms/step - loss: 0.4422 - auc: 0.7081 - val_loss: 0.4433 - val_auc: 0.7085\n",
            "Epoch 67/80\n",
            "6/6 [==============================] - 3s 522ms/step - loss: 0.4418 - auc: 0.7095 - val_loss: 0.6167 - val_auc: 0.7099\n",
            "Epoch 68/80\n",
            "6/6 [==============================] - 2s 403ms/step - loss: 0.5206 - auc: 0.7110 - val_loss: 0.5194 - val_auc: 0.7119\n",
            "Epoch 69/80\n",
            "6/6 [==============================] - 3s 524ms/step - loss: 0.4075 - auc: 0.7128 - val_loss: 0.5063 - val_auc: 0.7138\n",
            "Epoch 70/80\n",
            "6/6 [==============================] - 3s 458ms/step - loss: 0.4271 - auc: 0.7143 - val_loss: 0.5427 - val_auc: 0.7151\n",
            "Epoch 71/80\n",
            "6/6 [==============================] - 3s 465ms/step - loss: 0.4544 - auc: 0.7155 - val_loss: 0.4904 - val_auc: 0.7161\n",
            "Epoch 72/80\n",
            "6/6 [==============================] - 3s 469ms/step - loss: 0.3392 - auc: 0.7178 - val_loss: 0.2855 - val_auc: 0.7191\n",
            "Epoch 73/80\n",
            "6/6 [==============================] - 3s 522ms/step - loss: 0.2977 - auc: 0.7213 - val_loss: 0.3105 - val_auc: 0.7230\n",
            "Epoch 74/80\n",
            "6/6 [==============================] - 3s 454ms/step - loss: 0.3556 - auc: 0.7248 - val_loss: 0.2806 - val_auc: 0.7265\n",
            "Epoch 75/80\n",
            "6/6 [==============================] - 3s 459ms/step - loss: 0.2720 - auc: 0.7278 - val_loss: 0.3561 - val_auc: 0.7304\n",
            "Epoch 76/80\n",
            "6/6 [==============================] - 3s 458ms/step - loss: 0.3054 - auc: 0.7319 - val_loss: 0.5294 - val_auc: 0.7336\n",
            "Epoch 77/80\n",
            "6/6 [==============================] - 3s 435ms/step - loss: 0.4099 - auc: 0.7346 - val_loss: 0.5038 - val_auc: 0.7358\n",
            "Epoch 78/80\n",
            "6/6 [==============================] - 3s 462ms/step - loss: 0.2910 - auc: 0.7380 - val_loss: 1.8537 - val_auc: 0.7389\n",
            "Epoch 79/80\n",
            "6/6 [==============================] - 3s 474ms/step - loss: 0.8865 - auc: 0.7392 - val_loss: 0.2183 - val_auc: 0.7405\n",
            "Epoch 80/80\n",
            "6/6 [==============================] - 3s 454ms/step - loss: 0.3044 - auc: 0.7418 - val_loss: 0.3628 - val_auc: 0.7429\n"
          ],
          "name": "stdout"
        }
      ]
    },
    {
      "cell_type": "code",
      "metadata": {
        "id": "y4Nq3kVsW5er",
        "colab_type": "code",
        "outputId": "1e47d1a0-f2be-47ec-eabd-f64f51f0133e",
        "colab": {
          "base_uri": "https://localhost:8080/",
          "height": 34
        }
      },
      "source": [
        "model_2.evaluate_generator(test_generator)"
      ],
      "execution_count": 0,
      "outputs": [
        {
          "output_type": "execute_result",
          "data": {
            "text/plain": [
              "[0.9872929453849792, 0.7430803179740906]"
            ]
          },
          "metadata": {
            "tags": []
          },
          "execution_count": 15
        }
      ]
    },
    {
      "cell_type": "code",
      "metadata": {
        "id": "_qDbC5PEPIkW",
        "colab_type": "code",
        "colab": {}
      },
      "source": [
        "# Guardo el modelo\n",
        "model_2.save(\"modelo_2_CNN.h5\")\n",
        "#model_2.save_weights(\"modelo_2_CNN_pesos\")"
      ],
      "execution_count": 0,
      "outputs": []
    },
    {
      "cell_type": "markdown",
      "metadata": {
        "id": "bxCX5eIAPFB9",
        "colab_type": "text"
      },
      "source": [
        "### Graficas de desempeño"
      ]
    },
    {
      "cell_type": "code",
      "metadata": {
        "id": "moQoOri2OFIU",
        "colab_type": "code",
        "outputId": "a9ca8ede-d38c-4778-f337-6193f3f1c0c7",
        "colab": {
          "base_uri": "https://localhost:8080/",
          "height": 573
        }
      },
      "source": [
        "'''\n",
        "Para evaluar como ha sido el desempeño del modelo realizamos un par de graficos\n",
        "que nos muestran como se comporto la metrica AUC, tanto del conjunto de entrenamiento\n",
        "como de validacion, durante las epocas en que se entreno el modelo.\n",
        "\n",
        "Como segunda grafica observamos el comportamiento de la funcion de costo, al igual que el \n",
        "auc, para train y validacion durante todas las epocas\n",
        "'''\n",
        "\n",
        "# Grafica 1: Comportamiento desempeño AUC \n",
        "plt.plot(historia2.history['auc'])\n",
        "plt.plot(historia2.history['val_auc'])\n",
        "plt.title('model auc')\n",
        "plt.ylabel('auc')\n",
        "plt.xlabel('epoch')\n",
        "plt.legend(['train', 'validation'], loc='upper left')\n",
        "plt.show()\n",
        "\n",
        "# Grafica 2: Comportamiento funcion de perdida\n",
        "plt.plot(historia2.history['loss'])\n",
        "plt.plot(historia2.history['val_loss'])\n",
        "plt.title('model loss')\n",
        "plt.ylabel('loss')\n",
        "plt.xlabel('epoch')\n",
        "plt.legend(['train', 'validation'], loc='upper left')\n",
        "plt.show()"
      ],
      "execution_count": 0,
      "outputs": [
        {
          "output_type": "display_data",
          "data": {
            "image/png": "[encoded data removed]",
            "text/plain": [
              "<Figure size 432x288 with 1 Axes>"
            ]
          },
          "metadata": {
            "tags": [],
            "needs_background": "light"
          }
        },
        {
          "output_type": "display_data",
          "data": {
            "image/png": "[encoded data removed]",
            "text/plain": [
              "<Figure size 432x288 with 1 Axes>"
            ]
          },
          "metadata": {
            "tags": [],
            "needs_background": "light"
          }
        }
      ]
    },
    {
      "cell_type": "markdown",
      "metadata": {
        "id": "oD2YXMFhyqC_",
        "colab_type": "text"
      },
      "source": [
        "## 3. Red Neuronal Convolucional Pre-Entrenada (ResNet50)"
      ]
    },
    {
      "cell_type": "code",
      "metadata": {
        "id": "n8M9YQcNPsoC",
        "colab_type": "code",
        "outputId": "24fe8c73-aeeb-4348-b906-533ff6df8361",
        "colab": {
          "base_uri": "https://localhost:8080/",
          "height": 68
        }
      },
      "source": [
        "''''\n",
        "Estructuramos el DataAugmentacion que se va a utilizar durante el entrenamiento de las imagenes para esto se utiliza \n",
        "ImageDataGenerator como se menciono anteriormente, la cual se configuro de la siguiente manera:\n",
        "\n",
        "--> rescale: Se utiliza para hacer una normalizacion de los datos de entrada, para esto se utilizo la forma que \n",
        "realiza el preprocesamiento de datos de resnet50: https://github.com/keras-team/keras-applications/blob/master/keras_applications/imagenet_utils.py\n",
        "este rescale se utilizara tanto para los datos de train, como de validacion y test de todos los modelos.\n",
        "\n",
        "--> horizontal_flip:  Ejecuta vueltas a las imagenes (efecto similar a un espejo)\n",
        "\n",
        "--> rotation_range: Rotaciónn de la imagen en el rango [0,90]\n",
        "\n",
        "--> brightness_range: Cambia los niveles de luminosidad de la imagen\n",
        "\n",
        "--> : Realiza Zoom a la imagen (Si < 1 acerco, = 1 Misma imagen, > 1 Alejo)\n",
        "\n",
        "''''\n",
        "\n",
        "train_datagen = ImageDataGenerator(\n",
        "    rescale=1. / 127.5 - 1,\n",
        "    horizontal_flip=True,                                        \n",
        "    rotation_range=90,                                           \n",
        "    brightness_range=[0.2,0.8],                                  \n",
        "    zoom_range=[0.8,1.2])                                        \n",
        "\n",
        "\n",
        "'''\n",
        "Ahora instanciamos lo que se utilizará como datos de entranmiento y le damos el directorio donde se encuentran\n",
        "las imagenes, teniendo en cuenta el train.datagen anterior que será el encargado de realizar el data augmentation\n",
        "'''\n",
        "train_generator = train_datagen.flow_from_directory(  \n",
        "    train_data_dir,                                             \n",
        "    target_size=(img_width, img_height),                            \n",
        "    batch_size=batch_size,                                      \n",
        "    shuffle = False,                                                               \n",
        "    class_mode='binary')                                         \n",
        "\n",
        "\n",
        "'''\n",
        "Ahora instanciamos lo que se utilizará como datos de validación y le damos el directorio donde se encuentran\n",
        "las imagenes. Para este caso no se realiza el data augmentation, este se emplea en entrenamiento.\n",
        "'''\n",
        "validation_datagen = ImageDataGenerator(rescale=1. / 127.5 - 1)\n",
        "validation_generator = validation_datagen.flow_from_directory(  \n",
        "    validation_data_dir,\n",
        "    target_size=(img_width, img_height),\n",
        "    batch_size=batch_size, shuffle = False,\n",
        "    class_mode='binary') \n",
        "\n",
        "\n",
        "'''\n",
        "Ahora instanciamos lo que se utilizará como datos de test y le damos el directorio donde se encuentran\n",
        "las imagenes. Para este caso no se realiza el data augmentation, este se emplea en entrenamiento.\n",
        "'''\n",
        "test_datagen = ImageDataGenerator(rescale= 1. / 127.5 - 1) \n",
        "test_generator = test_datagen.flow_from_directory(  \n",
        "    test_data_dir,\n",
        "    target_size=(img_width, img_height), \n",
        "    batch_size=2, shuffle = False,\n",
        "    class_mode='binary') "
      ],
      "execution_count": 0,
      "outputs": [
        {
          "output_type": "stream",
          "text": [
            "Found 50 images belonging to 2 classes.\n",
            "Found 15 images belonging to 2 classes.\n",
            "Found 17 images belonging to 2 classes.\n"
          ],
          "name": "stdout"
        }
      ]
    },
    {
      "cell_type": "code",
      "metadata": {
        "id": "uguWQjlPy0ko",
        "colab_type": "code",
        "outputId": "4222d6b8-e34b-4378-a05a-2af0d16d35cb",
        "colab": {
          "base_uri": "https://localhost:8080/",
          "height": 1000
        }
      },
      "source": [
        "'''\n",
        "Importamos la red neuronal resnet50 desde keras sin incluir la capa de salida,\n",
        "a continuacion añadimos la capa de salida propia que utilizara una funcion sigmoide\n",
        "para el problema de clasificacion binaria. \n",
        "'''\n",
        "\n",
        "import tensorflow as tf\n",
        "K.clear_session()\n",
        "\n",
        "# Instacia del modelo y configuración\n",
        "base_model = tf.keras.applications.resnet50.ResNet50(weights= 'imagenet', \n",
        "                                            include_top=False,              \n",
        "                                            input_shape= (400,400,3))\n",
        "\n",
        "x = base_model.output                                               \n",
        "x = tf.keras.layers.GlobalAveragePooling2D()(x)                     \n",
        "x = tf.keras.layers.Dropout(0.5)(x)                                 \n",
        "\n",
        "predictions = tf.keras.layers.Dense(1,                             \n",
        "                    activation= 'sigmoid')(x)\n",
        "\n",
        "'''\n",
        "Unimos la capa de entrada que es resnet50 ( o sus pesos) con la capa de salida diseñada anteriormente\n",
        "'''\n",
        "model_3 = tf.keras.models.Model(inputs = base_model.input, \n",
        "                              outputs = predictions)\n",
        "\n",
        "\n",
        "'''\n",
        "Una vez construida construida la arquitectura de la red convolucional resnet50\n",
        "debemos compilar el modelo, en este paso definimos que función de perdida vamos a utilizar, que optimizador \n",
        "y que metricas queremos medir. Para esta modelación se utilizói lo siguiente\n",
        "\n",
        "--> Función de perdida (loss): binary_crossentropy: La función de pérdida de crossentropía binaria se usa en decisiones sí / no, 1 / 0, por ejemplo.\n",
        "La pérdida le dice cuán equivocadas son las predicciones del modelo: https://www.tensorflow.org/api_docs/python/tf/keras/losses/binary_crossentropy\n",
        "\n",
        "--> Optimizador: Adam con tasa de aprendizaje 0.0001: Adam es un método de descenso de gradiente estocástico que se basa en la estimación adaptativa de \n",
        "los momentos de primer y segundo orden: https://www.tensorflow.org/api_docs/python/tf/keras/optimizers/Adam\n",
        "\n",
        "--> Metrica: AUC: (Área bajo la curva) el cual mide  el “área o espacio” bajo la curva ROC y tiene por objeto medir la certeza de un modelo a la \n",
        "hora de realizar predicciones (toma valor de 1 cuándo se es 100% preciso) siendo invariable al umbral de clasificación.\n",
        "https://www.tensorflow.org/api_docs/python/tf/keras/metrics/AUC\n",
        "'''\n",
        "\n",
        "model_3.compile(loss='binary_crossentropy',                                      \n",
        "                optimizer=tf.keras.optimizers.Adam(learning_rate=0.0001),         \n",
        "                metrics=[tf.keras.metrics.AUC()])                                                             \n",
        "\n",
        "# Observemos la arquitectura del modelo resnet50\n",
        "model_3.summary()                                                 "
      ],
      "execution_count": 0,
      "outputs": [
        {
          "output_type": "stream",
          "text": [
            "Model: \"model\"\n",
            "__________________________________________________________________________________________________\n",
            "Layer (type)                    Output Shape         Param #     Connected to                     \n",
            "==================================================================================================\n",
            "input_1 (InputLayer)            [(None, 400, 400, 3) 0                                            \n",
            "__________________________________________________________________________________________________\n",
            "conv1_pad (ZeroPadding2D)       (None, 406, 406, 3)  0           input_1[0][0]                    \n",
            "__________________________________________________________________________________________________\n",
            "conv1_conv (Conv2D)             (None, 200, 200, 64) 9472        conv1_pad[0][0]                  \n",
            "__________________________________________________________________________________________________\n",
            "conv1_bn (BatchNormalization)   (None, 200, 200, 64) 256         conv1_conv[0][0]                 \n",
            "__________________________________________________________________________________________________\n",
            "conv1_relu (Activation)         (None, 200, 200, 64) 0           conv1_bn[0][0]                   \n",
            "__________________________________________________________________________________________________\n",
            "pool1_pad (ZeroPadding2D)       (None, 202, 202, 64) 0           conv1_relu[0][0]                 \n",
            "__________________________________________________________________________________________________\n",
            "pool1_pool (MaxPooling2D)       (None, 100, 100, 64) 0           pool1_pad[0][0]                  \n",
            "__________________________________________________________________________________________________\n",
            "conv2_block1_1_conv (Conv2D)    (None, 100, 100, 64) 4160        pool1_pool[0][0]                 \n",
            "__________________________________________________________________________________________________\n",
            "conv2_block1_1_bn (BatchNormali (None, 100, 100, 64) 256         conv2_block1_1_conv[0][0]        \n",
            "__________________________________________________________________________________________________\n",
            "conv2_block1_1_relu (Activation (None, 100, 100, 64) 0           conv2_block1_1_bn[0][0]          \n",
            "__________________________________________________________________________________________________\n",
            "conv2_block1_2_conv (Conv2D)    (None, 100, 100, 64) 36928       conv2_block1_1_relu[0][0]        \n",
            "__________________________________________________________________________________________________\n",
            "conv2_block1_2_bn (BatchNormali (None, 100, 100, 64) 256         conv2_block1_2_conv[0][0]        \n",
            "__________________________________________________________________________________________________\n",
            "conv2_block1_2_relu (Activation (None, 100, 100, 64) 0           conv2_block1_2_bn[0][0]          \n",
            "__________________________________________________________________________________________________\n",
            "conv2_block1_0_conv (Conv2D)    (None, 100, 100, 256 16640       pool1_pool[0][0]                 \n",
            "__________________________________________________________________________________________________\n",
            "conv2_block1_3_conv (Conv2D)    (None, 100, 100, 256 16640       conv2_block1_2_relu[0][0]        \n",
            "__________________________________________________________________________________________________\n",
            "conv2_block1_0_bn (BatchNormali (None, 100, 100, 256 1024        conv2_block1_0_conv[0][0]        \n",
            "__________________________________________________________________________________________________\n",
            "conv2_block1_3_bn (BatchNormali (None, 100, 100, 256 1024        conv2_block1_3_conv[0][0]        \n",
            "__________________________________________________________________________________________________\n",
            "conv2_block1_add (Add)          (None, 100, 100, 256 0           conv2_block1_0_bn[0][0]          \n",
            "                                                                 conv2_block1_3_bn[0][0]          \n",
            "__________________________________________________________________________________________________\n",
            "conv2_block1_out (Activation)   (None, 100, 100, 256 0           conv2_block1_add[0][0]           \n",
            "__________________________________________________________________________________________________\n",
            "conv2_block2_1_conv (Conv2D)    (None, 100, 100, 64) 16448       conv2_block1_out[0][0]           \n",
            "__________________________________________________________________________________________________\n",
            "conv2_block2_1_bn (BatchNormali (None, 100, 100, 64) 256         conv2_block2_1_conv[0][0]        \n",
            "__________________________________________________________________________________________________\n",
            "conv2_block2_1_relu (Activation (None, 100, 100, 64) 0           conv2_block2_1_bn[0][0]          \n",
            "__________________________________________________________________________________________________\n",
            "conv2_block2_2_conv (Conv2D)    (None, 100, 100, 64) 36928       conv2_block2_1_relu[0][0]        \n",
            "__________________________________________________________________________________________________\n",
            "conv2_block2_2_bn (BatchNormali (None, 100, 100, 64) 256         conv2_block2_2_conv[0][0]        \n",
            "__________________________________________________________________________________________________\n",
            "conv2_block2_2_relu (Activation (None, 100, 100, 64) 0           conv2_block2_2_bn[0][0]          \n",
            "__________________________________________________________________________________________________\n",
            "conv2_block2_3_conv (Conv2D)    (None, 100, 100, 256 16640       conv2_block2_2_relu[0][0]        \n",
            "__________________________________________________________________________________________________\n",
            "conv2_block2_3_bn (BatchNormali (None, 100, 100, 256 1024        conv2_block2_3_conv[0][0]        \n",
            "__________________________________________________________________________________________________\n",
            "conv2_block2_add (Add)          (None, 100, 100, 256 0           conv2_block1_out[0][0]           \n",
            "                                                                 conv2_block2_3_bn[0][0]          \n",
            "__________________________________________________________________________________________________\n",
            "conv2_block2_out (Activation)   (None, 100, 100, 256 0           conv2_block2_add[0][0]           \n",
            "__________________________________________________________________________________________________\n",
            "conv2_block3_1_conv (Conv2D)    (None, 100, 100, 64) 16448       conv2_block2_out[0][0]           \n",
            "__________________________________________________________________________________________________\n",
            "conv2_block3_1_bn (BatchNormali (None, 100, 100, 64) 256         conv2_block3_1_conv[0][0]        \n",
            "__________________________________________________________________________________________________\n",
            "conv2_block3_1_relu (Activation (None, 100, 100, 64) 0           conv2_block3_1_bn[0][0]          \n",
            "__________________________________________________________________________________________________\n",
            "conv2_block3_2_conv (Conv2D)    (None, 100, 100, 64) 36928       conv2_block3_1_relu[0][0]        \n",
            "__________________________________________________________________________________________________\n",
            "conv2_block3_2_bn (BatchNormali (None, 100, 100, 64) 256         conv2_block3_2_conv[0][0]        \n",
            "__________________________________________________________________________________________________\n",
            "conv2_block3_2_relu (Activation (None, 100, 100, 64) 0           conv2_block3_2_bn[0][0]          \n",
            "__________________________________________________________________________________________________\n",
            "conv2_block3_3_conv (Conv2D)    (None, 100, 100, 256 16640       conv2_block3_2_relu[0][0]        \n",
            "__________________________________________________________________________________________________\n",
            "conv2_block3_3_bn (BatchNormali (None, 100, 100, 256 1024        conv2_block3_3_conv[0][0]        \n",
            "__________________________________________________________________________________________________\n",
            "conv2_block3_add (Add)          (None, 100, 100, 256 0           conv2_block2_out[0][0]           \n",
            "                                                                 conv2_block3_3_bn[0][0]          \n",
            "__________________________________________________________________________________________________\n",
            "conv2_block3_out (Activation)   (None, 100, 100, 256 0           conv2_block3_add[0][0]           \n",
            "__________________________________________________________________________________________________\n",
            "conv3_block1_1_conv (Conv2D)    (None, 50, 50, 128)  32896       conv2_block3_out[0][0]           \n",
            "__________________________________________________________________________________________________\n",
            "conv3_block1_1_bn (BatchNormali (None, 50, 50, 128)  512         conv3_block1_1_conv[0][0]        \n",
            "__________________________________________________________________________________________________\n",
            "conv3_block1_1_relu (Activation (None, 50, 50, 128)  0           conv3_block1_1_bn[0][0]          \n",
            "__________________________________________________________________________________________________\n",
            "conv3_block1_2_conv (Conv2D)    (None, 50, 50, 128)  147584      conv3_block1_1_relu[0][0]        \n",
            "__________________________________________________________________________________________________\n",
            "conv3_block1_2_bn (BatchNormali (None, 50, 50, 128)  512         conv3_block1_2_conv[0][0]        \n",
            "__________________________________________________________________________________________________\n",
            "conv3_block1_2_relu (Activation (None, 50, 50, 128)  0           conv3_block1_2_bn[0][0]          \n",
            "__________________________________________________________________________________________________\n",
            "conv3_block1_0_conv (Conv2D)    (None, 50, 50, 512)  131584      conv2_block3_out[0][0]           \n",
            "__________________________________________________________________________________________________\n",
            "conv3_block1_3_conv (Conv2D)    (None, 50, 50, 512)  66048       conv3_block1_2_relu[0][0]        \n",
            "__________________________________________________________________________________________________\n",
            "conv3_block1_0_bn (BatchNormali (None, 50, 50, 512)  2048        conv3_block1_0_conv[0][0]        \n",
            "__________________________________________________________________________________________________\n",
            "conv3_block1_3_bn (BatchNormali (None, 50, 50, 512)  2048        conv3_block1_3_conv[0][0]        \n",
            "__________________________________________________________________________________________________\n",
            "conv3_block1_add (Add)          (None, 50, 50, 512)  0           conv3_block1_0_bn[0][0]          \n",
            "                                                                 conv3_block1_3_bn[0][0]          \n",
            "__________________________________________________________________________________________________\n",
            "conv3_block1_out (Activation)   (None, 50, 50, 512)  0           conv3_block1_add[0][0]           \n",
            "__________________________________________________________________________________________________\n",
            "conv3_block2_1_conv (Conv2D)    (None, 50, 50, 128)  65664       conv3_block1_out[0][0]           \n",
            "__________________________________________________________________________________________________\n",
            "conv3_block2_1_bn (BatchNormali (None, 50, 50, 128)  512         conv3_block2_1_conv[0][0]        \n",
            "__________________________________________________________________________________________________\n",
            "conv3_block2_1_relu (Activation (None, 50, 50, 128)  0           conv3_block2_1_bn[0][0]          \n",
            "__________________________________________________________________________________________________\n",
            "conv3_block2_2_conv (Conv2D)    (None, 50, 50, 128)  147584      conv3_block2_1_relu[0][0]        \n",
            "__________________________________________________________________________________________________\n",
            "conv3_block2_2_bn (BatchNormali (None, 50, 50, 128)  512         conv3_block2_2_conv[0][0]        \n",
            "__________________________________________________________________________________________________\n",
            "conv3_block2_2_relu (Activation (None, 50, 50, 128)  0           conv3_block2_2_bn[0][0]          \n",
            "__________________________________________________________________________________________________\n",
            "conv3_block2_3_conv (Conv2D)    (None, 50, 50, 512)  66048       conv3_block2_2_relu[0][0]        \n",
            "__________________________________________________________________________________________________\n",
            "conv3_block2_3_bn (BatchNormali (None, 50, 50, 512)  2048        conv3_block2_3_conv[0][0]        \n",
            "__________________________________________________________________________________________________\n",
            "conv3_block2_add (Add)          (None, 50, 50, 512)  0           conv3_block1_out[0][0]           \n",
            "                                                                 conv3_block2_3_bn[0][0]          \n",
            "__________________________________________________________________________________________________\n",
            "conv3_block2_out (Activation)   (None, 50, 50, 512)  0           conv3_block2_add[0][0]           \n",
            "__________________________________________________________________________________________________\n",
            "conv3_block3_1_conv (Conv2D)    (None, 50, 50, 128)  65664       conv3_block2_out[0][0]           \n",
            "__________________________________________________________________________________________________\n",
            "conv3_block3_1_bn (BatchNormali (None, 50, 50, 128)  512         conv3_block3_1_conv[0][0]        \n",
            "__________________________________________________________________________________________________\n",
            "conv3_block3_1_relu (Activation (None, 50, 50, 128)  0           conv3_block3_1_bn[0][0]          \n",
            "__________________________________________________________________________________________________\n",
            "conv3_block3_2_conv (Conv2D)    (None, 50, 50, 128)  147584      conv3_block3_1_relu[0][0]        \n",
            "__________________________________________________________________________________________________\n",
            "conv3_block3_2_bn (BatchNormali (None, 50, 50, 128)  512         conv3_block3_2_conv[0][0]        \n",
            "__________________________________________________________________________________________________\n",
            "conv3_block3_2_relu (Activation (None, 50, 50, 128)  0           conv3_block3_2_bn[0][0]          \n",
            "__________________________________________________________________________________________________\n",
            "conv3_block3_3_conv (Conv2D)    (None, 50, 50, 512)  66048       conv3_block3_2_relu[0][0]        \n",
            "__________________________________________________________________________________________________\n",
            "conv3_block3_3_bn (BatchNormali (None, 50, 50, 512)  2048        conv3_block3_3_conv[0][0]        \n",
            "__________________________________________________________________________________________________\n",
            "conv3_block3_add (Add)          (None, 50, 50, 512)  0           conv3_block2_out[0][0]           \n",
            "                                                                 conv3_block3_3_bn[0][0]          \n",
            "__________________________________________________________________________________________________\n",
            "conv3_block3_out (Activation)   (None, 50, 50, 512)  0           conv3_block3_add[0][0]           \n",
            "__________________________________________________________________________________________________\n",
            "conv3_block4_1_conv (Conv2D)    (None, 50, 50, 128)  65664       conv3_block3_out[0][0]           \n",
            "__________________________________________________________________________________________________\n",
            "conv3_block4_1_bn (BatchNormali (None, 50, 50, 128)  512         conv3_block4_1_conv[0][0]        \n",
            "__________________________________________________________________________________________________\n",
            "conv3_block4_1_relu (Activation (None, 50, 50, 128)  0           conv3_block4_1_bn[0][0]          \n",
            "__________________________________________________________________________________________________\n",
            "conv3_block4_2_conv (Conv2D)    (None, 50, 50, 128)  147584      conv3_block4_1_relu[0][0]        \n",
            "__________________________________________________________________________________________________\n",
            "conv3_block4_2_bn (BatchNormali (None, 50, 50, 128)  512         conv3_block4_2_conv[0][0]        \n",
            "__________________________________________________________________________________________________\n",
            "conv3_block4_2_relu (Activation (None, 50, 50, 128)  0           conv3_block4_2_bn[0][0]          \n",
            "__________________________________________________________________________________________________\n",
            "conv3_block4_3_conv (Conv2D)    (None, 50, 50, 512)  66048       conv3_block4_2_relu[0][0]        \n",
            "__________________________________________________________________________________________________\n",
            "conv3_block4_3_bn (BatchNormali (None, 50, 50, 512)  2048        conv3_block4_3_conv[0][0]        \n",
            "__________________________________________________________________________________________________\n",
            "conv3_block4_add (Add)          (None, 50, 50, 512)  0           conv3_block3_out[0][0]           \n",
            "                                                                 conv3_block4_3_bn[0][0]          \n",
            "__________________________________________________________________________________________________\n",
            "conv3_block4_out (Activation)   (None, 50, 50, 512)  0           conv3_block4_add[0][0]           \n",
            "__________________________________________________________________________________________________\n",
            "conv4_block1_1_conv (Conv2D)    (None, 25, 25, 256)  131328      conv3_block4_out[0][0]           \n",
            "__________________________________________________________________________________________________\n",
            "conv4_block1_1_bn (BatchNormali (None, 25, 25, 256)  1024        conv4_block1_1_conv[0][0]        \n",
            "__________________________________________________________________________________________________\n",
            "conv4_block1_1_relu (Activation (None, 25, 25, 256)  0           conv4_block1_1_bn[0][0]          \n",
            "__________________________________________________________________________________________________\n",
            "conv4_block1_2_conv (Conv2D)    (None, 25, 25, 256)  590080      conv4_block1_1_relu[0][0]        \n",
            "__________________________________________________________________________________________________\n",
            "conv4_block1_2_bn (BatchNormali (None, 25, 25, 256)  1024        conv4_block1_2_conv[0][0]        \n",
            "__________________________________________________________________________________________________\n",
            "conv4_block1_2_relu (Activation (None, 25, 25, 256)  0           conv4_block1_2_bn[0][0]          \n",
            "__________________________________________________________________________________________________\n",
            "conv4_block1_0_conv (Conv2D)    (None, 25, 25, 1024) 525312      conv3_block4_out[0][0]           \n",
            "__________________________________________________________________________________________________\n",
            "conv4_block1_3_conv (Conv2D)    (None, 25, 25, 1024) 263168      conv4_block1_2_relu[0][0]        \n",
            "__________________________________________________________________________________________________\n",
            "conv4_block1_0_bn (BatchNormali (None, 25, 25, 1024) 4096        conv4_block1_0_conv[0][0]        \n",
            "__________________________________________________________________________________________________\n",
            "conv4_block1_3_bn (BatchNormali (None, 25, 25, 1024) 4096        conv4_block1_3_conv[0][0]        \n",
            "__________________________________________________________________________________________________\n",
            "conv4_block1_add (Add)          (None, 25, 25, 1024) 0           conv4_block1_0_bn[0][0]          \n",
            "                                                                 conv4_block1_3_bn[0][0]          \n",
            "__________________________________________________________________________________________________\n",
            "conv4_block1_out (Activation)   (None, 25, 25, 1024) 0           conv4_block1_add[0][0]           \n",
            "__________________________________________________________________________________________________\n",
            "conv4_block2_1_conv (Conv2D)    (None, 25, 25, 256)  262400      conv4_block1_out[0][0]           \n",
            "__________________________________________________________________________________________________\n",
            "conv4_block2_1_bn (BatchNormali (None, 25, 25, 256)  1024        conv4_block2_1_conv[0][0]        \n",
            "__________________________________________________________________________________________________\n",
            "conv4_block2_1_relu (Activation (None, 25, 25, 256)  0           conv4_block2_1_bn[0][0]          \n",
            "__________________________________________________________________________________________________\n",
            "conv4_block2_2_conv (Conv2D)    (None, 25, 25, 256)  590080      conv4_block2_1_relu[0][0]        \n",
            "__________________________________________________________________________________________________\n",
            "conv4_block2_2_bn (BatchNormali (None, 25, 25, 256)  1024        conv4_block2_2_conv[0][0]        \n",
            "__________________________________________________________________________________________________\n",
            "conv4_block2_2_relu (Activation (None, 25, 25, 256)  0           conv4_block2_2_bn[0][0]          \n",
            "__________________________________________________________________________________________________\n",
            "conv4_block2_3_conv (Conv2D)    (None, 25, 25, 1024) 263168      conv4_block2_2_relu[0][0]        \n",
            "__________________________________________________________________________________________________\n",
            "conv4_block2_3_bn (BatchNormali (None, 25, 25, 1024) 4096        conv4_block2_3_conv[0][0]        \n",
            "__________________________________________________________________________________________________\n",
            "conv4_block2_add (Add)          (None, 25, 25, 1024) 0           conv4_block1_out[0][0]           \n",
            "                                                                 conv4_block2_3_bn[0][0]          \n",
            "__________________________________________________________________________________________________\n",
            "conv4_block2_out (Activation)   (None, 25, 25, 1024) 0           conv4_block2_add[0][0]           \n",
            "__________________________________________________________________________________________________\n",
            "conv4_block3_1_conv (Conv2D)    (None, 25, 25, 256)  262400      conv4_block2_out[0][0]           \n",
            "__________________________________________________________________________________________________\n",
            "conv4_block3_1_bn (BatchNormali (None, 25, 25, 256)  1024        conv4_block3_1_conv[0][0]        \n",
            "__________________________________________________________________________________________________\n",
            "conv4_block3_1_relu (Activation (None, 25, 25, 256)  0           conv4_block3_1_bn[0][0]          \n",
            "__________________________________________________________________________________________________\n",
            "conv4_block3_2_conv (Conv2D)    (None, 25, 25, 256)  590080      conv4_block3_1_relu[0][0]        \n",
            "__________________________________________________________________________________________________\n",
            "conv4_block3_2_bn (BatchNormali (None, 25, 25, 256)  1024        conv4_block3_2_conv[0][0]        \n",
            "__________________________________________________________________________________________________\n",
            "conv4_block3_2_relu (Activation (None, 25, 25, 256)  0           conv4_block3_2_bn[0][0]          \n",
            "__________________________________________________________________________________________________\n",
            "conv4_block3_3_conv (Conv2D)    (None, 25, 25, 1024) 263168      conv4_block3_2_relu[0][0]        \n",
            "__________________________________________________________________________________________________\n",
            "conv4_block3_3_bn (BatchNormali (None, 25, 25, 1024) 4096        conv4_block3_3_conv[0][0]        \n",
            "__________________________________________________________________________________________________\n",
            "conv4_block3_add (Add)          (None, 25, 25, 1024) 0           conv4_block2_out[0][0]           \n",
            "                                                                 conv4_block3_3_bn[0][0]          \n",
            "__________________________________________________________________________________________________\n",
            "conv4_block3_out (Activation)   (None, 25, 25, 1024) 0           conv4_block3_add[0][0]           \n",
            "__________________________________________________________________________________________________\n",
            "conv4_block4_1_conv (Conv2D)    (None, 25, 25, 256)  262400      conv4_block3_out[0][0]           \n",
            "__________________________________________________________________________________________________\n",
            "conv4_block4_1_bn (BatchNormali (None, 25, 25, 256)  1024        conv4_block4_1_conv[0][0]        \n",
            "__________________________________________________________________________________________________\n",
            "conv4_block4_1_relu (Activation (None, 25, 25, 256)  0           conv4_block4_1_bn[0][0]          \n",
            "__________________________________________________________________________________________________\n",
            "conv4_block4_2_conv (Conv2D)    (None, 25, 25, 256)  590080      conv4_block4_1_relu[0][0]        \n",
            "__________________________________________________________________________________________________\n",
            "conv4_block4_2_bn (BatchNormali (None, 25, 25, 256)  1024        conv4_block4_2_conv[0][0]        \n",
            "__________________________________________________________________________________________________\n",
            "conv4_block4_2_relu (Activation (None, 25, 25, 256)  0           conv4_block4_2_bn[0][0]          \n",
            "__________________________________________________________________________________________________\n",
            "conv4_block4_3_conv (Conv2D)    (None, 25, 25, 1024) 263168      conv4_block4_2_relu[0][0]        \n",
            "__________________________________________________________________________________________________\n",
            "conv4_block4_3_bn (BatchNormali (None, 25, 25, 1024) 4096        conv4_block4_3_conv[0][0]        \n",
            "__________________________________________________________________________________________________\n",
            "conv4_block4_add (Add)          (None, 25, 25, 1024) 0           conv4_block3_out[0][0]           \n",
            "                                                                 conv4_block4_3_bn[0][0]          \n",
            "__________________________________________________________________________________________________\n",
            "conv4_block4_out (Activation)   (None, 25, 25, 1024) 0           conv4_block4_add[0][0]           \n",
            "__________________________________________________________________________________________________\n",
            "conv4_block5_1_conv (Conv2D)    (None, 25, 25, 256)  262400      conv4_block4_out[0][0]           \n",
            "__________________________________________________________________________________________________\n",
            "conv4_block5_1_bn (BatchNormali (None, 25, 25, 256)  1024        conv4_block5_1_conv[0][0]        \n",
            "__________________________________________________________________________________________________\n",
            "conv4_block5_1_relu (Activation (None, 25, 25, 256)  0           conv4_block5_1_bn[0][0]          \n",
            "__________________________________________________________________________________________________\n",
            "conv4_block5_2_conv (Conv2D)    (None, 25, 25, 256)  590080      conv4_block5_1_relu[0][0]        \n",
            "__________________________________________________________________________________________________\n",
            "conv4_block5_2_bn (BatchNormali (None, 25, 25, 256)  1024        conv4_block5_2_conv[0][0]        \n",
            "__________________________________________________________________________________________________\n",
            "conv4_block5_2_relu (Activation (None, 25, 25, 256)  0           conv4_block5_2_bn[0][0]          \n",
            "__________________________________________________________________________________________________\n",
            "conv4_block5_3_conv (Conv2D)    (None, 25, 25, 1024) 263168      conv4_block5_2_relu[0][0]        \n",
            "__________________________________________________________________________________________________\n",
            "conv4_block5_3_bn (BatchNormali (None, 25, 25, 1024) 4096        conv4_block5_3_conv[0][0]        \n",
            "__________________________________________________________________________________________________\n",
            "conv4_block5_add (Add)          (None, 25, 25, 1024) 0           conv4_block4_out[0][0]           \n",
            "                                                                 conv4_block5_3_bn[0][0]          \n",
            "__________________________________________________________________________________________________\n",
            "conv4_block5_out (Activation)   (None, 25, 25, 1024) 0           conv4_block5_add[0][0]           \n",
            "__________________________________________________________________________________________________\n",
            "conv4_block6_1_conv (Conv2D)    (None, 25, 25, 256)  262400      conv4_block5_out[0][0]           \n",
            "__________________________________________________________________________________________________\n",
            "conv4_block6_1_bn (BatchNormali (None, 25, 25, 256)  1024        conv4_block6_1_conv[0][0]        \n",
            "__________________________________________________________________________________________________\n",
            "conv4_block6_1_relu (Activation (None, 25, 25, 256)  0           conv4_block6_1_bn[0][0]          \n",
            "__________________________________________________________________________________________________\n",
            "conv4_block6_2_conv (Conv2D)    (None, 25, 25, 256)  590080      conv4_block6_1_relu[0][0]        \n",
            "__________________________________________________________________________________________________\n",
            "conv4_block6_2_bn (BatchNormali (None, 25, 25, 256)  1024        conv4_block6_2_conv[0][0]        \n",
            "__________________________________________________________________________________________________\n",
            "conv4_block6_2_relu (Activation (None, 25, 25, 256)  0           conv4_block6_2_bn[0][0]          \n",
            "__________________________________________________________________________________________________\n",
            "conv4_block6_3_conv (Conv2D)    (None, 25, 25, 1024) 263168      conv4_block6_2_relu[0][0]        \n",
            "__________________________________________________________________________________________________\n",
            "conv4_block6_3_bn (BatchNormali (None, 25, 25, 1024) 4096        conv4_block6_3_conv[0][0]        \n",
            "__________________________________________________________________________________________________\n",
            "conv4_block6_add (Add)          (None, 25, 25, 1024) 0           conv4_block5_out[0][0]           \n",
            "                                                                 conv4_block6_3_bn[0][0]          \n",
            "__________________________________________________________________________________________________\n",
            "conv4_block6_out (Activation)   (None, 25, 25, 1024) 0           conv4_block6_add[0][0]           \n",
            "__________________________________________________________________________________________________\n",
            "conv5_block1_1_conv (Conv2D)    (None, 13, 13, 512)  524800      conv4_block6_out[0][0]           \n",
            "__________________________________________________________________________________________________\n",
            "conv5_block1_1_bn (BatchNormali (None, 13, 13, 512)  2048        conv5_block1_1_conv[0][0]        \n",
            "__________________________________________________________________________________________________\n",
            "conv5_block1_1_relu (Activation (None, 13, 13, 512)  0           conv5_block1_1_bn[0][0]          \n",
            "__________________________________________________________________________________________________\n",
            "conv5_block1_2_conv (Conv2D)    (None, 13, 13, 512)  2359808     conv5_block1_1_relu[0][0]        \n",
            "__________________________________________________________________________________________________\n",
            "conv5_block1_2_bn (BatchNormali (None, 13, 13, 512)  2048        conv5_block1_2_conv[0][0]        \n",
            "__________________________________________________________________________________________________\n",
            "conv5_block1_2_relu (Activation (None, 13, 13, 512)  0           conv5_block1_2_bn[0][0]          \n",
            "__________________________________________________________________________________________________\n",
            "conv5_block1_0_conv (Conv2D)    (None, 13, 13, 2048) 2099200     conv4_block6_out[0][0]           \n",
            "__________________________________________________________________________________________________\n",
            "conv5_block1_3_conv (Conv2D)    (None, 13, 13, 2048) 1050624     conv5_block1_2_relu[0][0]        \n",
            "__________________________________________________________________________________________________\n",
            "conv5_block1_0_bn (BatchNormali (None, 13, 13, 2048) 8192        conv5_block1_0_conv[0][0]        \n",
            "__________________________________________________________________________________________________\n",
            "conv5_block1_3_bn (BatchNormali (None, 13, 13, 2048) 8192        conv5_block1_3_conv[0][0]        \n",
            "__________________________________________________________________________________________________\n",
            "conv5_block1_add (Add)          (None, 13, 13, 2048) 0           conv5_block1_0_bn[0][0]          \n",
            "                                                                 conv5_block1_3_bn[0][0]          \n",
            "__________________________________________________________________________________________________\n",
            "conv5_block1_out (Activation)   (None, 13, 13, 2048) 0           conv5_block1_add[0][0]           \n",
            "__________________________________________________________________________________________________\n",
            "conv5_block2_1_conv (Conv2D)    (None, 13, 13, 512)  1049088     conv5_block1_out[0][0]           \n",
            "__________________________________________________________________________________________________\n",
            "conv5_block2_1_bn (BatchNormali (None, 13, 13, 512)  2048        conv5_block2_1_conv[0][0]        \n",
            "__________________________________________________________________________________________________\n",
            "conv5_block2_1_relu (Activation (None, 13, 13, 512)  0           conv5_block2_1_bn[0][0]          \n",
            "__________________________________________________________________________________________________\n",
            "conv5_block2_2_conv (Conv2D)    (None, 13, 13, 512)  2359808     conv5_block2_1_relu[0][0]        \n",
            "__________________________________________________________________________________________________\n",
            "conv5_block2_2_bn (BatchNormali (None, 13, 13, 512)  2048        conv5_block2_2_conv[0][0]        \n",
            "__________________________________________________________________________________________________\n",
            "conv5_block2_2_relu (Activation (None, 13, 13, 512)  0           conv5_block2_2_bn[0][0]          \n",
            "__________________________________________________________________________________________________\n",
            "conv5_block2_3_conv (Conv2D)    (None, 13, 13, 2048) 1050624     conv5_block2_2_relu[0][0]        \n",
            "__________________________________________________________________________________________________\n",
            "conv5_block2_3_bn (BatchNormali (None, 13, 13, 2048) 8192        conv5_block2_3_conv[0][0]        \n",
            "__________________________________________________________________________________________________\n",
            "conv5_block2_add (Add)          (None, 13, 13, 2048) 0           conv5_block1_out[0][0]           \n",
            "                                                                 conv5_block2_3_bn[0][0]          \n",
            "__________________________________________________________________________________________________\n",
            "conv5_block2_out (Activation)   (None, 13, 13, 2048) 0           conv5_block2_add[0][0]           \n",
            "__________________________________________________________________________________________________\n",
            "conv5_block3_1_conv (Conv2D)    (None, 13, 13, 512)  1049088     conv5_block2_out[0][0]           \n",
            "__________________________________________________________________________________________________\n",
            "conv5_block3_1_bn (BatchNormali (None, 13, 13, 512)  2048        conv5_block3_1_conv[0][0]        \n",
            "__________________________________________________________________________________________________\n",
            "conv5_block3_1_relu (Activation (None, 13, 13, 512)  0           conv5_block3_1_bn[0][0]          \n",
            "__________________________________________________________________________________________________\n",
            "conv5_block3_2_conv (Conv2D)    (None, 13, 13, 512)  2359808     conv5_block3_1_relu[0][0]        \n",
            "__________________________________________________________________________________________________\n",
            "conv5_block3_2_bn (BatchNormali (None, 13, 13, 512)  2048        conv5_block3_2_conv[0][0]        \n",
            "__________________________________________________________________________________________________\n",
            "conv5_block3_2_relu (Activation (None, 13, 13, 512)  0           conv5_block3_2_bn[0][0]          \n",
            "__________________________________________________________________________________________________\n",
            "conv5_block3_3_conv (Conv2D)    (None, 13, 13, 2048) 1050624     conv5_block3_2_relu[0][0]        \n",
            "__________________________________________________________________________________________________\n",
            "conv5_block3_3_bn (BatchNormali (None, 13, 13, 2048) 8192        conv5_block3_3_conv[0][0]        \n",
            "__________________________________________________________________________________________________\n",
            "conv5_block3_add (Add)          (None, 13, 13, 2048) 0           conv5_block2_out[0][0]           \n",
            "                                                                 conv5_block3_3_bn[0][0]          \n",
            "__________________________________________________________________________________________________\n",
            "conv5_block3_out (Activation)   (None, 13, 13, 2048) 0           conv5_block3_add[0][0]           \n",
            "__________________________________________________________________________________________________\n",
            "global_average_pooling2d (Globa (None, 2048)         0           conv5_block3_out[0][0]           \n",
            "__________________________________________________________________________________________________\n",
            "dropout (Dropout)               (None, 2048)         0           global_average_pooling2d[0][0]   \n",
            "__________________________________________________________________________________________________\n",
            "dense (Dense)                   (None, 1)            2049        dropout[0][0]                    \n",
            "==================================================================================================\n",
            "Total params: 23,589,761\n",
            "Trainable params: 23,536,641\n",
            "Non-trainable params: 53,120\n",
            "__________________________________________________________________________________________________\n"
          ],
          "name": "stdout"
        }
      ]
    },
    {
      "cell_type": "code",
      "metadata": {
        "id": "8lruuL408oJC",
        "colab_type": "code",
        "outputId": "6ca7b68b-f757-4b2d-bc3e-3f008078efd7",
        "colab": {
          "base_uri": "https://localhost:8080/",
          "height": 1000
        }
      },
      "source": [
        "'''\n",
        "Una vez tenemos lista la arquitectura y compilado el modelo procedemos a realiza el entrenamiento mediante el metodo fit_generator\n",
        "en donde se le define cuales son los datos de entrada, el numero de epocas (# numero de veces que la red pasa por los datos) y cuales\n",
        "son los datos de validacion\n",
        "'''\n",
        "\n",
        "historia3 = model_3.fit_generator(train_generator,                             \n",
        "                                  epochs=50,                           \n",
        "                                  validation_data=validation_generator,      \n",
        "                                  verbose=1,\n",
        "                                  workers=1,\n",
        "                                  use_multiprocessing = False)\n"
      ],
      "execution_count": 0,
      "outputs": [
        {
          "output_type": "stream",
          "text": [
            "WARNING:tensorflow:From <ipython-input-20-faffecee641c>:9: Model.fit_generator (from tensorflow.python.keras.engine.training) is deprecated and will be removed in a future version.\n",
            "Instructions for updating:\n",
            "Please use Model.fit, which supports generators.\n",
            "Epoch 1/50\n",
            "7/7 [==============================] - 5s 660ms/step - loss: 1.0132 - auc: 0.2861 - val_loss: 0.8208 - val_auc: 0.4432\n",
            "Epoch 2/50\n",
            "7/7 [==============================] - 3s 498ms/step - loss: 0.6398 - auc: 0.6480 - val_loss: 0.5708 - val_auc: 0.5909\n",
            "Epoch 3/50\n",
            "7/7 [==============================] - 3s 495ms/step - loss: 0.6306 - auc: 0.6337 - val_loss: 0.5009 - val_auc: 0.7727\n",
            "Epoch 4/50\n",
            "7/7 [==============================] - 3s 490ms/step - loss: 0.5479 - auc: 0.7371 - val_loss: 0.4546 - val_auc: 0.8636\n",
            "Epoch 5/50\n",
            "7/7 [==============================] - 3s 495ms/step - loss: 0.5017 - auc: 0.8209 - val_loss: 0.4035 - val_auc: 0.8864\n",
            "Epoch 6/50\n",
            "7/7 [==============================] - 3s 491ms/step - loss: 0.4558 - auc: 0.8663 - val_loss: 0.4295 - val_auc: 0.8864\n",
            "Epoch 7/50\n",
            "7/7 [==============================] - 3s 493ms/step - loss: 0.4589 - auc: 0.8663 - val_loss: 0.5644 - val_auc: 0.7955\n",
            "Epoch 8/50\n",
            "7/7 [==============================] - 3s 481ms/step - loss: 0.3468 - auc: 0.9412 - val_loss: 0.4608 - val_auc: 0.7955\n",
            "Epoch 9/50\n",
            "7/7 [==============================] - 4s 501ms/step - loss: 0.2962 - auc: 0.9786 - val_loss: 0.4927 - val_auc: 0.7955\n",
            "Epoch 10/50\n",
            "7/7 [==============================] - 3s 491ms/step - loss: 0.2522 - auc: 0.9857 - val_loss: 0.4281 - val_auc: 0.8182\n",
            "Epoch 11/50\n",
            "7/7 [==============================] - 3s 496ms/step - loss: 0.2295 - auc: 0.9964 - val_loss: 0.4115 - val_auc: 0.8864\n",
            "Epoch 12/50\n",
            "7/7 [==============================] - 3s 498ms/step - loss: 0.1567 - auc: 0.9982 - val_loss: 0.3773 - val_auc: 0.9545\n",
            "Epoch 13/50\n",
            "7/7 [==============================] - 3s 499ms/step - loss: 0.1736 - auc: 0.9964 - val_loss: 0.2638 - val_auc: 0.9886\n",
            "Epoch 14/50\n",
            "7/7 [==============================] - 3s 497ms/step - loss: 0.1078 - auc: 1.0000 - val_loss: 0.4181 - val_auc: 0.9545\n",
            "Epoch 15/50\n",
            "7/7 [==============================] - 3s 491ms/step - loss: 0.0964 - auc: 1.0000 - val_loss: 0.5046 - val_auc: 0.9318\n",
            "Epoch 16/50\n",
            "7/7 [==============================] - 4s 500ms/step - loss: 0.0577 - auc: 1.0000 - val_loss: 0.4326 - val_auc: 0.8182\n",
            "Epoch 17/50\n",
            "7/7 [==============================] - 3s 496ms/step - loss: 0.0616 - auc: 1.0000 - val_loss: 0.3676 - val_auc: 0.8977\n",
            "Epoch 18/50\n",
            "7/7 [==============================] - 3s 490ms/step - loss: 0.0414 - auc: 1.0000 - val_loss: 0.3507 - val_auc: 0.9318\n",
            "Epoch 19/50\n",
            "7/7 [==============================] - 3s 495ms/step - loss: 0.0290 - auc: 1.0000 - val_loss: 0.3711 - val_auc: 0.9318\n",
            "Epoch 20/50\n",
            "7/7 [==============================] - 4s 554ms/step - loss: 0.0298 - auc: 1.0000 - val_loss: 0.3521 - val_auc: 0.9318\n",
            "Epoch 21/50\n",
            "7/7 [==============================] - 3s 488ms/step - loss: 0.0335 - auc: 1.0000 - val_loss: 0.2639 - val_auc: 0.9659\n",
            "Epoch 22/50\n",
            "7/7 [==============================] - 4s 550ms/step - loss: 0.0252 - auc: 1.0000 - val_loss: 0.2289 - val_auc: 0.9773\n",
            "Epoch 23/50\n",
            "7/7 [==============================] - 3s 491ms/step - loss: 0.0165 - auc: 1.0000 - val_loss: 0.2233 - val_auc: 0.9773\n",
            "Epoch 24/50\n",
            "7/7 [==============================] - 3s 495ms/step - loss: 0.0187 - auc: 1.0000 - val_loss: 0.2099 - val_auc: 1.0000\n",
            "Epoch 25/50\n",
            "7/7 [==============================] - 3s 487ms/step - loss: 0.0134 - auc: 1.0000 - val_loss: 0.2117 - val_auc: 1.0000\n",
            "Epoch 26/50\n",
            "7/7 [==============================] - 3s 481ms/step - loss: 0.0105 - auc: 1.0000 - val_loss: 0.2207 - val_auc: 1.0000\n",
            "Epoch 27/50\n",
            "7/7 [==============================] - 3s 486ms/step - loss: 0.0109 - auc: 1.0000 - val_loss: 0.2328 - val_auc: 0.9773\n",
            "Epoch 28/50\n",
            "7/7 [==============================] - 4s 551ms/step - loss: 0.0110 - auc: 1.0000 - val_loss: 0.2527 - val_auc: 0.9545\n",
            "Epoch 29/50\n",
            "7/7 [==============================] - 3s 492ms/step - loss: 0.0064 - auc: 1.0000 - val_loss: 0.2514 - val_auc: 0.9545\n",
            "Epoch 30/50\n",
            "7/7 [==============================] - 3s 489ms/step - loss: 0.0109 - auc: 1.0000 - val_loss: 0.2394 - val_auc: 0.9545\n",
            "Epoch 31/50\n",
            "7/7 [==============================] - 4s 546ms/step - loss: 0.0143 - auc: 1.0000 - val_loss: 0.2363 - val_auc: 0.9545\n",
            "Epoch 32/50\n",
            "7/7 [==============================] - 3s 488ms/step - loss: 0.0074 - auc: 1.0000 - val_loss: 0.2324 - val_auc: 0.9659\n",
            "Epoch 33/50\n",
            "7/7 [==============================] - 3s 486ms/step - loss: 0.0053 - auc: 1.0000 - val_loss: 0.2393 - val_auc: 0.9545\n",
            "Epoch 34/50\n",
            "7/7 [==============================] - 3s 487ms/step - loss: 0.0053 - auc: 1.0000 - val_loss: 0.2466 - val_auc: 0.9545\n",
            "Epoch 35/50\n",
            "7/7 [==============================] - 3s 492ms/step - loss: 0.0046 - auc: 1.0000 - val_loss: 0.2406 - val_auc: 0.9773\n",
            "Epoch 36/50\n",
            "7/7 [==============================] - 4s 500ms/step - loss: 0.0049 - auc: 1.0000 - val_loss: 0.2354 - val_auc: 0.9773\n",
            "Epoch 37/50\n",
            "7/7 [==============================] - 4s 564ms/step - loss: 0.0050 - auc: 1.0000 - val_loss: 0.2343 - val_auc: 0.9773\n",
            "Epoch 38/50\n",
            "7/7 [==============================] - 3s 488ms/step - loss: 0.0058 - auc: 1.0000 - val_loss: 0.2239 - val_auc: 0.9886\n",
            "Epoch 39/50\n",
            "7/7 [==============================] - 3s 479ms/step - loss: 0.0041 - auc: 1.0000 - val_loss: 0.2224 - val_auc: 0.9773\n",
            "Epoch 40/50\n",
            "7/7 [==============================] - 4s 544ms/step - loss: 0.0032 - auc: 1.0000 - val_loss: 0.2161 - val_auc: 0.9773\n",
            "Epoch 41/50\n",
            "7/7 [==============================] - 3s 485ms/step - loss: 0.0052 - auc: 1.0000 - val_loss: 0.2071 - val_auc: 0.9886\n",
            "Epoch 42/50\n",
            "7/7 [==============================] - 3s 488ms/step - loss: 0.0045 - auc: 1.0000 - val_loss: 0.1984 - val_auc: 1.0000\n",
            "Epoch 43/50\n",
            "7/7 [==============================] - 3s 490ms/step - loss: 0.0042 - auc: 1.0000 - val_loss: 0.2017 - val_auc: 1.0000\n",
            "Epoch 44/50\n",
            "7/7 [==============================] - 3s 491ms/step - loss: 0.0046 - auc: 1.0000 - val_loss: 0.2168 - val_auc: 0.9773\n",
            "Epoch 45/50\n",
            "7/7 [==============================] - 3s 491ms/step - loss: 0.0029 - auc: 1.0000 - val_loss: 0.2274 - val_auc: 0.9773\n",
            "Epoch 46/50\n",
            "7/7 [==============================] - 3s 486ms/step - loss: 0.0030 - auc: 1.0000 - val_loss: 0.2131 - val_auc: 0.9773\n",
            "Epoch 47/50\n",
            "7/7 [==============================] - 3s 492ms/step - loss: 0.0034 - auc: 1.0000 - val_loss: 0.2092 - val_auc: 0.9773\n",
            "Epoch 48/50\n",
            "7/7 [==============================] - 3s 478ms/step - loss: 0.0020 - auc: 1.0000 - val_loss: 0.2042 - val_auc: 0.9773\n",
            "Epoch 49/50\n",
            "7/7 [==============================] - 3s 488ms/step - loss: 0.0025 - auc: 1.0000 - val_loss: 0.2031 - val_auc: 0.9773\n",
            "Epoch 50/50\n",
            "7/7 [==============================] - 3s 475ms/step - loss: 0.0018 - auc: 1.0000 - val_loss: 0.2032 - val_auc: 0.9773\n"
          ],
          "name": "stdout"
        }
      ]
    },
    {
      "cell_type": "code",
      "metadata": {
        "id": "bnYBf_NSr1WP",
        "colab_type": "code",
        "outputId": "17f7eb0a-9802-4d66-93bd-4eb2455a1fb8",
        "colab": {
          "base_uri": "https://localhost:8080/",
          "height": 105
        }
      },
      "source": [
        "# Observamos el rendimiento con los datos de testeo\n",
        "model_3.evaluate_generator(test_generator ) "
      ],
      "execution_count": 0,
      "outputs": [
        {
          "output_type": "stream",
          "text": [
            "WARNING:tensorflow:From <ipython-input-21-fad38e6c3293>:1: Model.evaluate_generator (from tensorflow.python.keras.engine.training) is deprecated and will be removed in a future version.\n",
            "Instructions for updating:\n",
            "Please use Model.evaluate, which supports generators.\n"
          ],
          "name": "stdout"
        },
        {
          "output_type": "execute_result",
          "data": {
            "text/plain": [
              "[0.10437150299549103, 0.9999999403953552]"
            ]
          },
          "metadata": {
            "tags": []
          },
          "execution_count": 21
        }
      ]
    },
    {
      "cell_type": "code",
      "metadata": {
        "id": "B8OL-Vamr3DO",
        "colab_type": "code",
        "colab": {}
      },
      "source": [
        "# Guardo el modelo\n",
        "model_3.save(\"modelo_3_Resnet50_vf_80.h5\")"
      ],
      "execution_count": 0,
      "outputs": []
    },
    {
      "cell_type": "markdown",
      "metadata": {
        "id": "BvhgLDw6rwcu",
        "colab_type": "text"
      },
      "source": [
        "### Graficas de desempeño"
      ]
    },
    {
      "cell_type": "code",
      "metadata": {
        "id": "-MVr9ak6Puur",
        "colab_type": "code",
        "outputId": "34c4e7df-8ccc-40db-deab-6e7ed96553e9",
        "colab": {
          "base_uri": "https://localhost:8080/",
          "height": 573
        }
      },
      "source": [
        "'''\n",
        "Para evaluar como ha sido el desempeño del modelo realizamos un par de graficos\n",
        "que nos muestran como se comporto la metrica AUC, tanto del conjunto de entrenamiento\n",
        "como de validacion, durante las epocas en que se entreno el modelo.\n",
        "\n",
        "Como segunda grafica observamos el comportamiento de la funcion de costo, al igual que el \n",
        "auc, para train y validacion durante todas las epocas\n",
        "'''\n",
        "\n",
        "# Grafica 1: Comportamiento desempeño AUC \n",
        "plt.plot(historia3.history['auc'])\n",
        "plt.plot(historia3.history['val_auc'])\n",
        "plt.title('model auc')\n",
        "plt.ylabel('auc')\n",
        "plt.xlabel('epoch')\n",
        "plt.legend(['train', 'validation'], loc='upper left')\n",
        "plt.show()\n",
        "\n",
        "# Grafica 2: Comportamiento funcion de perdida\n",
        "plt.plot(historia3.history['loss'])\n",
        "plt.plot(historia3.history['val_loss'])\n",
        "plt.title('model loss')\n",
        "plt.ylabel('loss')\n",
        "plt.xlabel('epoch')\n",
        "plt.legend(['train', 'validation'], loc='upper left')\n",
        "plt.show()"
      ],
      "execution_count": 0,
      "outputs": [
        {
          "output_type": "display_data",
          "data": {
            "image/png": "[encoded data removed]",
            "text/plain": [
              "<Figure size 432x288 with 1 Axes>"
            ]
          },
          "metadata": {
            "tags": [],
            "needs_background": "light"
          }
        },
        {
          "output_type": "display_data",
          "data": {
            "image/png": "[encoded data removed]",
            "text/plain": [
              "<Figure size 432x288 with 1 Axes>"
            ]
          },
          "metadata": {
            "tags": [],
            "needs_background": "light"
          }
        }
      ]
    }
  ]
}